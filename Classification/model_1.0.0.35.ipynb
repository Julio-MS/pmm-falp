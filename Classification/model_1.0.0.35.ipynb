{
 "cells": [
  {
   "cell_type": "code",
   "id": "1a745ca9f060c5c4",
   "metadata": {
    "collapsed": false,
    "ExecuteTime": {
     "end_time": "2024-09-12T21:42:33.233631Z",
     "start_time": "2024-09-12T21:42:30.684971Z"
    }
   },
   "source": [
    "import tensorflow as tf\n",
    "from tensorflow.keras.layers import Conv2D, MaxPooling2D, Dropout, BatchNormalization, ReLU, Flatten, Dense\n",
    "from tensorflow.keras import Sequential, regularizers\n",
    "from tensorflow.keras.initializers import TruncatedNormal, VarianceScaling\n",
    "from webcolors import names"
   ],
   "outputs": [],
   "execution_count": 1
  },
  {
   "cell_type": "markdown",
   "source": [
    "## Arquitectura de la Red"
   ],
   "metadata": {
    "collapsed": false
   },
   "id": "a0e2fba5df611bc4"
  },
  {
   "cell_type": "code",
   "source": [
    "# Batch Normalization\n",
    "epsilon = 1e-8\n",
    "# lambdas\n",
    "lamC = 0.00001\n",
    "lamF = 0.00250\n",
    "#Dropout\n",
    "pooldropout_rate = 0.1\n",
    "fcdropout_rate = 0.5\n",
    "\n",
    "model = Sequential()\n",
    "\n",
    "###################  Convolutional layer 1  ###################\n",
    "# Primera capa convolucional (conv1)\n",
    "model.add(Conv2D(\n",
    "    filters=32, \n",
    "    kernel_size=(3, 3), \n",
    "    strides=(2, 2), \n",
    "    padding='same', \n",
    "    input_shape=(299, 299, 1), \n",
    "    kernel_initializer=TruncatedNormal(stddev=5e-2, seed=100),\n",
    "    kernel_regularizer=regularizers.l2(lamC),\n",
    "    name='conv1',\n",
    "))\n",
    "model.add(BatchNormalization(\n",
    "    momentum=0.99,\n",
    "    epsilon=epsilon,\n",
    "    name='bn1'\n",
    "))\n",
    "model.add(ReLU(name='relu1'))\n",
    "\n",
    "# Segunda capa convolucional (conv1.1)\n",
    "model.add(Conv2D(\n",
    "    filters=32, \n",
    "    kernel_size=(3, 3), \n",
    "    strides=(1, 1), \n",
    "    padding='same', \n",
    "    kernel_initializer=TruncatedNormal(stddev=5e-2, seed=101),\n",
    "    kernel_regularizer=regularizers.l2(lamC),\n",
    "    name='conv1.1',\n",
    "))\n",
    "model.add(BatchNormalization(\n",
    "    momentum=0.99,\n",
    "    epsilon=epsilon,\n",
    "    name='bn1.1'\n",
    "))\n",
    "model.add(ReLU(name='relu1.1'))\n",
    "\n",
    "# Tercera capa convolucional (conv1.2)\n",
    "model.add(Conv2D(\n",
    "    filters=32, \n",
    "    kernel_size=(3, 3), \n",
    "    strides=(1, 1), \n",
    "    padding='same', \n",
    "    kernel_initializer=TruncatedNormal(stddev=5e-2, seed=1101),\n",
    "    kernel_regularizer=regularizers.l2(lamC),\n",
    "    name='conv1.2',\n",
    "))\n",
    "model.add(BatchNormalization(\n",
    "    momentum=0.99,\n",
    "    epsilon=epsilon,\n",
    "    name='bn1.2'\n",
    "))\n",
    "model.add(ReLU(name='relu1.2'))\n",
    "\n",
    "# Primera capa de MaxPooling (pool1)\n",
    "model.add(MaxPooling2D(\n",
    "    pool_size=(3, 3), \n",
    "    strides=(2, 2), \n",
    "    padding='same',\n",
    "    name='pool1'\n",
    "))\n",
    "model.add(Dropout(  # Aplicar dropout\n",
    "    rate=pooldropout_rate,\n",
    "    seed=103\n",
    "))  \n",
    "\n",
    "###################  Convolutional layer 2  ###################\n",
    "# Segunda capa convolucional (conv2.1)\n",
    "model.add(Conv2D(\n",
    "    filters=64, \n",
    "    kernel_size=(3, 3), \n",
    "    strides=(1, 1), \n",
    "    padding='same', \n",
    "    kernel_initializer=TruncatedNormal(stddev=5e-2, seed=104),\n",
    "    kernel_regularizer=regularizers.l2(lamC),\n",
    "    name='conv2.1',\n",
    "))\n",
    "model.add(BatchNormalization(\n",
    "    momentum=0.99,\n",
    "    epsilon=epsilon,\n",
    "    name='bn2.1'\n",
    "))\n",
    "model.add(ReLU(name='relu2.1'))\n",
    "\n",
    "\n",
    "# Segunda capa convolucional (conv2.2) \n",
    "model.add(Conv2D(\n",
    "    filters=64, \n",
    "    kernel_size=(3, 3), \n",
    "    strides=(1, 1), \n",
    "    padding='same', \n",
    "    kernel_initializer=TruncatedNormal(stddev=5e-2, seed=1104),\n",
    "    kernel_regularizer=regularizers.l2(lamC),\n",
    "    name='conv2.2',\n",
    "))\n",
    "model.add(BatchNormalization(\n",
    "    momentum=0.99,\n",
    "    epsilon=epsilon,\n",
    "    name='bn2.2'\n",
    "))\n",
    "model.add(ReLU(name='relu2.2'))\n",
    "\n",
    "\n",
    "# Segunda capa de MaxPooling \n",
    "model.add(MaxPooling2D(\n",
    "    pool_size=(2, 2), \n",
    "    strides=(2, 2), \n",
    "    padding='same',\n",
    "    name='pool2'\n",
    "))\n",
    "model.add(Dropout(  # Aplicar dropout\n",
    "    rate=pooldropout_rate,\n",
    "    seed=106\n",
    "))  \n",
    "\n",
    "\n",
    "###################  Convolutional layer 3  ###################\n",
    "# Capa 3.1\n",
    "model.add(Conv2D(\n",
    "    filters=128, \n",
    "    kernel_size=(3, 3), \n",
    "    strides=(1, 1), \n",
    "    padding='same', \n",
    "    kernel_initializer=TruncatedNormal(stddev=5e-2, seed=107),\n",
    "    kernel_regularizer=regularizers.l2(lamC),\n",
    "    name='conv3.1',\n",
    "))\n",
    "model.add(BatchNormalization(\n",
    "    momentum=0.99,\n",
    "    epsilon=epsilon,\n",
    "    name='bn3.1'\n",
    "))\n",
    "model.add(ReLU(name='relu3.1'))\n",
    "\n",
    "# Capa 3.2\n",
    "model.add(Conv2D(\n",
    "    filters=128, \n",
    "    kernel_size=(3, 3), \n",
    "    strides=(1, 1), \n",
    "    padding='same', \n",
    "    kernel_initializer=TruncatedNormal(stddev=5e-2, seed=1107),\n",
    "    kernel_regularizer=regularizers.l2(lamC),\n",
    "    name='conv3.2',\n",
    "))\n",
    "model.add(BatchNormalization(\n",
    "    momentum=0.99,\n",
    "    epsilon=epsilon,\n",
    "    name='bn3.2'\n",
    "))\n",
    "model.add(ReLU(name='relu3.2'))\n",
    "\n",
    "# Tercera capa de MaxPooling\n",
    "model.add(MaxPooling2D(\n",
    "    pool_size=(2, 2), \n",
    "    strides=(2, 2), \n",
    "    padding='same',\n",
    "    name='pool3'\n",
    "))\n",
    "model.add(Dropout(  # Aplicar dropout\n",
    "    rate=pooldropout_rate,\n",
    "    seed=109\n",
    "))  \n",
    "\n",
    "\n",
    "###################  Convolutional layer 4  ###################\n",
    "model.add(Conv2D(\n",
    "    filters=256, \n",
    "    kernel_size=(3, 3), \n",
    "    strides=(1, 1), \n",
    "    padding='same', \n",
    "    kernel_initializer=TruncatedNormal(stddev=5e-2, seed=110),\n",
    "    kernel_regularizer=regularizers.l2(lamC),\n",
    "    name='conv4',\n",
    "))\n",
    "model.add(BatchNormalization(\n",
    "    momentum=0.99,\n",
    "    epsilon=epsilon,\n",
    "    name='bn4'\n",
    "))\n",
    "model.add(ReLU(name='relu4'))\n",
    "\n",
    "\n",
    "# Cuarta capa de MaxPooling\n",
    "model.add(MaxPooling2D(\n",
    "    pool_size=(2, 2), \n",
    "    strides=(2, 2), \n",
    "    padding='same',\n",
    "    name='pool4'\n",
    "))\n",
    "model.add(Dropout(  # Aplicar dropout\n",
    "    rate=pooldropout_rate,\n",
    "    seed=112\n",
    "))  \n",
    "\n",
    "\n",
    "###################  Convolutional layer 5  ###################\n",
    "model.add(Conv2D(\n",
    "    filters=512, \n",
    "    kernel_size=(3, 3), \n",
    "    strides=(1, 1), \n",
    "    padding='same', \n",
    "    kernel_initializer=TruncatedNormal(stddev=5e-2, seed=113),\n",
    "    kernel_regularizer=regularizers.l2(lamC),\n",
    "    name='conv5',\n",
    "))\n",
    "model.add(BatchNormalization(\n",
    "    momentum=0.99,\n",
    "    epsilon=epsilon,\n",
    "    name='bn5'\n",
    "))\n",
    "model.add(ReLU(name='relu5'))\n",
    "\n",
    "# Quinta capa de MaxPooling\n",
    "model.add(MaxPooling2D(\n",
    "    pool_size=(2, 2), \n",
    "    strides=(2, 2), \n",
    "    padding='same',\n",
    "    name='pool5'\n",
    "))\n",
    "model.add(Dropout(  # Aplicar dropout\n",
    "    rate=pooldropout_rate,\n",
    "    seed=115\n",
    "))  \n",
    "\n",
    "###################  Flatten layer  ###################\n",
    "model.add(Flatten())\n",
    "model.add(Dropout(\n",
    "    rate=fcdropout_rate,\n",
    "    seed=116\n",
    "))\n",
    "\n",
    "\n",
    "################### Fully Connected Layers ###################\n",
    "# FC1\n",
    "model.add(Dense(  # Capa densa con 2048 neuronas\n",
    "    units=2048,\n",
    "    kernel_initializer=VarianceScaling(scale=2, seed=117),\n",
    "    kernel_regularizer=regularizers.l2(lamF),\n",
    "    activation=None,\n",
    "    name='fc1'\n",
    ")) \n",
    "\n",
    "model.add(BatchNormalization(\n",
    "    momentum=0.9,\n",
    "    epsilon=epsilon,\n",
    "    name='bn_fc1'\n",
    "))\n",
    "model.add(ReLU(name='fc1_relu'))\n",
    "\n",
    "model.add(Dropout(\n",
    "    rate=fcdropout_rate,\n",
    "    seed=118\n",
    "))  \n",
    "\n",
    "# FC2\n",
    "model.add(Dense(  # Capa densa con 2048 neuronas\n",
    "    units=2048,\n",
    "    kernel_initializer=VarianceScaling(scale=2, seed=119),\n",
    "    kernel_regularizer=regularizers.l2(lamF),\n",
    "    activation=None,\n",
    "    name='fc2'\n",
    ")) \n",
    "\n",
    "model.add(BatchNormalization(\n",
    "    momentum=0.9,\n",
    "    epsilon=epsilon,\n",
    "    name='bn_fc2'\n",
    "))\n",
    "model.add(ReLU(name='fc2_relu'))\n",
    "\n",
    "model.add(Dropout(\n",
    "    rate=fcdropout_rate,\n",
    "    seed=120\n",
    "))  \n",
    "\n",
    "################### Output Layer ###################\n",
    "model.add(Dense(\n",
    "    units=2, \n",
    "    activation='softmax',\n",
    "    kernel_initializer=VarianceScaling(scale=1, seed=121),\n",
    "    name='logits'\n",
    "    \n",
    "))  # Clasificación Binaria (Calcification/Mass)\n",
    "\n",
    "\n",
    "# Resumen del modelo hasta ahora\n",
    "model.summary()"
   ],
   "metadata": {
    "collapsed": true,
    "ExecuteTime": {
     "end_time": "2024-09-12T21:42:37.960703Z",
     "start_time": "2024-09-12T21:42:37.303736Z"
    }
   },
   "id": "initial_id",
   "outputs": [
    {
     "name": "stderr",
     "output_type": "stream",
     "text": [
      "/Users/julio/Documents/PMM/Codigos/Test1/Classification/.venv/lib/python3.11/site-packages/keras/src/layers/convolutional/base_conv.py:107: UserWarning: Do not pass an `input_shape`/`input_dim` argument to a layer. When using Sequential models, prefer using an `Input(shape)` object as the first layer in the model instead.\n",
      "  super().__init__(activity_regularizer=activity_regularizer, **kwargs)\n",
      "2024-09-12 18:42:37.326744: I metal_plugin/src/device/metal_device.cc:1154] Metal device set to: Apple M1 Pro\n",
      "2024-09-12 18:42:37.326773: I metal_plugin/src/device/metal_device.cc:296] systemMemory: 16.00 GB\n",
      "2024-09-12 18:42:37.326781: I metal_plugin/src/device/metal_device.cc:313] maxCacheSize: 5.33 GB\n",
      "2024-09-12 18:42:37.326799: I tensorflow/core/common_runtime/pluggable_device/pluggable_device_factory.cc:305] Could not identify NUMA node of platform GPU ID 0, defaulting to 0. Your kernel may not have been built with NUMA support.\n",
      "2024-09-12 18:42:37.326815: I tensorflow/core/common_runtime/pluggable_device/pluggable_device_factory.cc:271] Created TensorFlow device (/job:localhost/replica:0/task:0/device:GPU:0 with 0 MB memory) -> physical PluggableDevice (device: 0, name: METAL, pci bus id: <undefined>)\n"
     ]
    },
    {
     "data": {
      "text/plain": [
       "\u001B[1mModel: \"sequential\"\u001B[0m\n"
      ],
      "text/html": [
       "<pre style=\"white-space:pre;overflow-x:auto;line-height:normal;font-family:Menlo,'DejaVu Sans Mono',consolas,'Courier New',monospace\"><span style=\"font-weight: bold\">Model: \"sequential\"</span>\n",
       "</pre>\n"
      ]
     },
     "metadata": {},
     "output_type": "display_data"
    },
    {
     "data": {
      "text/plain": [
       "┏━━━━━━━━━━━━━━━━━━━━━━━━━━━━━━━━━┳━━━━━━━━━━━━━━━━━━━━━━━━┳━━━━━━━━━━━━━━━┓\n",
       "┃\u001B[1m \u001B[0m\u001B[1mLayer (type)                   \u001B[0m\u001B[1m \u001B[0m┃\u001B[1m \u001B[0m\u001B[1mOutput Shape          \u001B[0m\u001B[1m \u001B[0m┃\u001B[1m \u001B[0m\u001B[1m      Param #\u001B[0m\u001B[1m \u001B[0m┃\n",
       "┡━━━━━━━━━━━━━━━━━━━━━━━━━━━━━━━━━╇━━━━━━━━━━━━━━━━━━━━━━━━╇━━━━━━━━━━━━━━━┩\n",
       "│ conv1 (\u001B[38;5;33mConv2D\u001B[0m)                  │ (\u001B[38;5;45mNone\u001B[0m, \u001B[38;5;34m150\u001B[0m, \u001B[38;5;34m150\u001B[0m, \u001B[38;5;34m32\u001B[0m)   │           \u001B[38;5;34m320\u001B[0m │\n",
       "├─────────────────────────────────┼────────────────────────┼───────────────┤\n",
       "│ bn1 (\u001B[38;5;33mBatchNormalization\u001B[0m)        │ (\u001B[38;5;45mNone\u001B[0m, \u001B[38;5;34m150\u001B[0m, \u001B[38;5;34m150\u001B[0m, \u001B[38;5;34m32\u001B[0m)   │           \u001B[38;5;34m128\u001B[0m │\n",
       "├─────────────────────────────────┼────────────────────────┼───────────────┤\n",
       "│ relu1 (\u001B[38;5;33mReLU\u001B[0m)                    │ (\u001B[38;5;45mNone\u001B[0m, \u001B[38;5;34m150\u001B[0m, \u001B[38;5;34m150\u001B[0m, \u001B[38;5;34m32\u001B[0m)   │             \u001B[38;5;34m0\u001B[0m │\n",
       "├─────────────────────────────────┼────────────────────────┼───────────────┤\n",
       "│ conv1.1 (\u001B[38;5;33mConv2D\u001B[0m)                │ (\u001B[38;5;45mNone\u001B[0m, \u001B[38;5;34m150\u001B[0m, \u001B[38;5;34m150\u001B[0m, \u001B[38;5;34m32\u001B[0m)   │         \u001B[38;5;34m9,248\u001B[0m │\n",
       "├─────────────────────────────────┼────────────────────────┼───────────────┤\n",
       "│ bn1.1 (\u001B[38;5;33mBatchNormalization\u001B[0m)      │ (\u001B[38;5;45mNone\u001B[0m, \u001B[38;5;34m150\u001B[0m, \u001B[38;5;34m150\u001B[0m, \u001B[38;5;34m32\u001B[0m)   │           \u001B[38;5;34m128\u001B[0m │\n",
       "├─────────────────────────────────┼────────────────────────┼───────────────┤\n",
       "│ relu1.1 (\u001B[38;5;33mReLU\u001B[0m)                  │ (\u001B[38;5;45mNone\u001B[0m, \u001B[38;5;34m150\u001B[0m, \u001B[38;5;34m150\u001B[0m, \u001B[38;5;34m32\u001B[0m)   │             \u001B[38;5;34m0\u001B[0m │\n",
       "├─────────────────────────────────┼────────────────────────┼───────────────┤\n",
       "│ conv1.2 (\u001B[38;5;33mConv2D\u001B[0m)                │ (\u001B[38;5;45mNone\u001B[0m, \u001B[38;5;34m150\u001B[0m, \u001B[38;5;34m150\u001B[0m, \u001B[38;5;34m32\u001B[0m)   │         \u001B[38;5;34m9,248\u001B[0m │\n",
       "├─────────────────────────────────┼────────────────────────┼───────────────┤\n",
       "│ bn1.2 (\u001B[38;5;33mBatchNormalization\u001B[0m)      │ (\u001B[38;5;45mNone\u001B[0m, \u001B[38;5;34m150\u001B[0m, \u001B[38;5;34m150\u001B[0m, \u001B[38;5;34m32\u001B[0m)   │           \u001B[38;5;34m128\u001B[0m │\n",
       "├─────────────────────────────────┼────────────────────────┼───────────────┤\n",
       "│ relu1.2 (\u001B[38;5;33mReLU\u001B[0m)                  │ (\u001B[38;5;45mNone\u001B[0m, \u001B[38;5;34m150\u001B[0m, \u001B[38;5;34m150\u001B[0m, \u001B[38;5;34m32\u001B[0m)   │             \u001B[38;5;34m0\u001B[0m │\n",
       "├─────────────────────────────────┼────────────────────────┼───────────────┤\n",
       "│ pool1 (\u001B[38;5;33mMaxPooling2D\u001B[0m)            │ (\u001B[38;5;45mNone\u001B[0m, \u001B[38;5;34m75\u001B[0m, \u001B[38;5;34m75\u001B[0m, \u001B[38;5;34m32\u001B[0m)     │             \u001B[38;5;34m0\u001B[0m │\n",
       "├─────────────────────────────────┼────────────────────────┼───────────────┤\n",
       "│ dropout (\u001B[38;5;33mDropout\u001B[0m)               │ (\u001B[38;5;45mNone\u001B[0m, \u001B[38;5;34m75\u001B[0m, \u001B[38;5;34m75\u001B[0m, \u001B[38;5;34m32\u001B[0m)     │             \u001B[38;5;34m0\u001B[0m │\n",
       "├─────────────────────────────────┼────────────────────────┼───────────────┤\n",
       "│ conv2.1 (\u001B[38;5;33mConv2D\u001B[0m)                │ (\u001B[38;5;45mNone\u001B[0m, \u001B[38;5;34m75\u001B[0m, \u001B[38;5;34m75\u001B[0m, \u001B[38;5;34m64\u001B[0m)     │        \u001B[38;5;34m18,496\u001B[0m │\n",
       "├─────────────────────────────────┼────────────────────────┼───────────────┤\n",
       "│ bn2.1 (\u001B[38;5;33mBatchNormalization\u001B[0m)      │ (\u001B[38;5;45mNone\u001B[0m, \u001B[38;5;34m75\u001B[0m, \u001B[38;5;34m75\u001B[0m, \u001B[38;5;34m64\u001B[0m)     │           \u001B[38;5;34m256\u001B[0m │\n",
       "├─────────────────────────────────┼────────────────────────┼───────────────┤\n",
       "│ relu2.1 (\u001B[38;5;33mReLU\u001B[0m)                  │ (\u001B[38;5;45mNone\u001B[0m, \u001B[38;5;34m75\u001B[0m, \u001B[38;5;34m75\u001B[0m, \u001B[38;5;34m64\u001B[0m)     │             \u001B[38;5;34m0\u001B[0m │\n",
       "├─────────────────────────────────┼────────────────────────┼───────────────┤\n",
       "│ conv2.2 (\u001B[38;5;33mConv2D\u001B[0m)                │ (\u001B[38;5;45mNone\u001B[0m, \u001B[38;5;34m75\u001B[0m, \u001B[38;5;34m75\u001B[0m, \u001B[38;5;34m64\u001B[0m)     │        \u001B[38;5;34m36,928\u001B[0m │\n",
       "├─────────────────────────────────┼────────────────────────┼───────────────┤\n",
       "│ bn2.2 (\u001B[38;5;33mBatchNormalization\u001B[0m)      │ (\u001B[38;5;45mNone\u001B[0m, \u001B[38;5;34m75\u001B[0m, \u001B[38;5;34m75\u001B[0m, \u001B[38;5;34m64\u001B[0m)     │           \u001B[38;5;34m256\u001B[0m │\n",
       "├─────────────────────────────────┼────────────────────────┼───────────────┤\n",
       "│ relu2.2 (\u001B[38;5;33mReLU\u001B[0m)                  │ (\u001B[38;5;45mNone\u001B[0m, \u001B[38;5;34m75\u001B[0m, \u001B[38;5;34m75\u001B[0m, \u001B[38;5;34m64\u001B[0m)     │             \u001B[38;5;34m0\u001B[0m │\n",
       "├─────────────────────────────────┼────────────────────────┼───────────────┤\n",
       "│ pool2 (\u001B[38;5;33mMaxPooling2D\u001B[0m)            │ (\u001B[38;5;45mNone\u001B[0m, \u001B[38;5;34m38\u001B[0m, \u001B[38;5;34m38\u001B[0m, \u001B[38;5;34m64\u001B[0m)     │             \u001B[38;5;34m0\u001B[0m │\n",
       "├─────────────────────────────────┼────────────────────────┼───────────────┤\n",
       "│ dropout_1 (\u001B[38;5;33mDropout\u001B[0m)             │ (\u001B[38;5;45mNone\u001B[0m, \u001B[38;5;34m38\u001B[0m, \u001B[38;5;34m38\u001B[0m, \u001B[38;5;34m64\u001B[0m)     │             \u001B[38;5;34m0\u001B[0m │\n",
       "├─────────────────────────────────┼────────────────────────┼───────────────┤\n",
       "│ conv3.1 (\u001B[38;5;33mConv2D\u001B[0m)                │ (\u001B[38;5;45mNone\u001B[0m, \u001B[38;5;34m38\u001B[0m, \u001B[38;5;34m38\u001B[0m, \u001B[38;5;34m128\u001B[0m)    │        \u001B[38;5;34m73,856\u001B[0m │\n",
       "├─────────────────────────────────┼────────────────────────┼───────────────┤\n",
       "│ bn3.1 (\u001B[38;5;33mBatchNormalization\u001B[0m)      │ (\u001B[38;5;45mNone\u001B[0m, \u001B[38;5;34m38\u001B[0m, \u001B[38;5;34m38\u001B[0m, \u001B[38;5;34m128\u001B[0m)    │           \u001B[38;5;34m512\u001B[0m │\n",
       "├─────────────────────────────────┼────────────────────────┼───────────────┤\n",
       "│ relu3.1 (\u001B[38;5;33mReLU\u001B[0m)                  │ (\u001B[38;5;45mNone\u001B[0m, \u001B[38;5;34m38\u001B[0m, \u001B[38;5;34m38\u001B[0m, \u001B[38;5;34m128\u001B[0m)    │             \u001B[38;5;34m0\u001B[0m │\n",
       "├─────────────────────────────────┼────────────────────────┼───────────────┤\n",
       "│ conv3.2 (\u001B[38;5;33mConv2D\u001B[0m)                │ (\u001B[38;5;45mNone\u001B[0m, \u001B[38;5;34m38\u001B[0m, \u001B[38;5;34m38\u001B[0m, \u001B[38;5;34m128\u001B[0m)    │       \u001B[38;5;34m147,584\u001B[0m │\n",
       "├─────────────────────────────────┼────────────────────────┼───────────────┤\n",
       "│ bn3.2 (\u001B[38;5;33mBatchNormalization\u001B[0m)      │ (\u001B[38;5;45mNone\u001B[0m, \u001B[38;5;34m38\u001B[0m, \u001B[38;5;34m38\u001B[0m, \u001B[38;5;34m128\u001B[0m)    │           \u001B[38;5;34m512\u001B[0m │\n",
       "├─────────────────────────────────┼────────────────────────┼───────────────┤\n",
       "│ relu3.2 (\u001B[38;5;33mReLU\u001B[0m)                  │ (\u001B[38;5;45mNone\u001B[0m, \u001B[38;5;34m38\u001B[0m, \u001B[38;5;34m38\u001B[0m, \u001B[38;5;34m128\u001B[0m)    │             \u001B[38;5;34m0\u001B[0m │\n",
       "├─────────────────────────────────┼────────────────────────┼───────────────┤\n",
       "│ pool3 (\u001B[38;5;33mMaxPooling2D\u001B[0m)            │ (\u001B[38;5;45mNone\u001B[0m, \u001B[38;5;34m19\u001B[0m, \u001B[38;5;34m19\u001B[0m, \u001B[38;5;34m128\u001B[0m)    │             \u001B[38;5;34m0\u001B[0m │\n",
       "├─────────────────────────────────┼────────────────────────┼───────────────┤\n",
       "│ dropout_2 (\u001B[38;5;33mDropout\u001B[0m)             │ (\u001B[38;5;45mNone\u001B[0m, \u001B[38;5;34m19\u001B[0m, \u001B[38;5;34m19\u001B[0m, \u001B[38;5;34m128\u001B[0m)    │             \u001B[38;5;34m0\u001B[0m │\n",
       "├─────────────────────────────────┼────────────────────────┼───────────────┤\n",
       "│ conv4 (\u001B[38;5;33mConv2D\u001B[0m)                  │ (\u001B[38;5;45mNone\u001B[0m, \u001B[38;5;34m19\u001B[0m, \u001B[38;5;34m19\u001B[0m, \u001B[38;5;34m256\u001B[0m)    │       \u001B[38;5;34m295,168\u001B[0m │\n",
       "├─────────────────────────────────┼────────────────────────┼───────────────┤\n",
       "│ bn4 (\u001B[38;5;33mBatchNormalization\u001B[0m)        │ (\u001B[38;5;45mNone\u001B[0m, \u001B[38;5;34m19\u001B[0m, \u001B[38;5;34m19\u001B[0m, \u001B[38;5;34m256\u001B[0m)    │         \u001B[38;5;34m1,024\u001B[0m │\n",
       "├─────────────────────────────────┼────────────────────────┼───────────────┤\n",
       "│ relu4 (\u001B[38;5;33mReLU\u001B[0m)                    │ (\u001B[38;5;45mNone\u001B[0m, \u001B[38;5;34m19\u001B[0m, \u001B[38;5;34m19\u001B[0m, \u001B[38;5;34m256\u001B[0m)    │             \u001B[38;5;34m0\u001B[0m │\n",
       "├─────────────────────────────────┼────────────────────────┼───────────────┤\n",
       "│ pool4 (\u001B[38;5;33mMaxPooling2D\u001B[0m)            │ (\u001B[38;5;45mNone\u001B[0m, \u001B[38;5;34m10\u001B[0m, \u001B[38;5;34m10\u001B[0m, \u001B[38;5;34m256\u001B[0m)    │             \u001B[38;5;34m0\u001B[0m │\n",
       "├─────────────────────────────────┼────────────────────────┼───────────────┤\n",
       "│ dropout_3 (\u001B[38;5;33mDropout\u001B[0m)             │ (\u001B[38;5;45mNone\u001B[0m, \u001B[38;5;34m10\u001B[0m, \u001B[38;5;34m10\u001B[0m, \u001B[38;5;34m256\u001B[0m)    │             \u001B[38;5;34m0\u001B[0m │\n",
       "├─────────────────────────────────┼────────────────────────┼───────────────┤\n",
       "│ conv5 (\u001B[38;5;33mConv2D\u001B[0m)                  │ (\u001B[38;5;45mNone\u001B[0m, \u001B[38;5;34m10\u001B[0m, \u001B[38;5;34m10\u001B[0m, \u001B[38;5;34m512\u001B[0m)    │     \u001B[38;5;34m1,180,160\u001B[0m │\n",
       "├─────────────────────────────────┼────────────────────────┼───────────────┤\n",
       "│ bn5 (\u001B[38;5;33mBatchNormalization\u001B[0m)        │ (\u001B[38;5;45mNone\u001B[0m, \u001B[38;5;34m10\u001B[0m, \u001B[38;5;34m10\u001B[0m, \u001B[38;5;34m512\u001B[0m)    │         \u001B[38;5;34m2,048\u001B[0m │\n",
       "├─────────────────────────────────┼────────────────────────┼───────────────┤\n",
       "│ relu5 (\u001B[38;5;33mReLU\u001B[0m)                    │ (\u001B[38;5;45mNone\u001B[0m, \u001B[38;5;34m10\u001B[0m, \u001B[38;5;34m10\u001B[0m, \u001B[38;5;34m512\u001B[0m)    │             \u001B[38;5;34m0\u001B[0m │\n",
       "├─────────────────────────────────┼────────────────────────┼───────────────┤\n",
       "│ pool5 (\u001B[38;5;33mMaxPooling2D\u001B[0m)            │ (\u001B[38;5;45mNone\u001B[0m, \u001B[38;5;34m5\u001B[0m, \u001B[38;5;34m5\u001B[0m, \u001B[38;5;34m512\u001B[0m)      │             \u001B[38;5;34m0\u001B[0m │\n",
       "├─────────────────────────────────┼────────────────────────┼───────────────┤\n",
       "│ dropout_4 (\u001B[38;5;33mDropout\u001B[0m)             │ (\u001B[38;5;45mNone\u001B[0m, \u001B[38;5;34m5\u001B[0m, \u001B[38;5;34m5\u001B[0m, \u001B[38;5;34m512\u001B[0m)      │             \u001B[38;5;34m0\u001B[0m │\n",
       "├─────────────────────────────────┼────────────────────────┼───────────────┤\n",
       "│ flatten (\u001B[38;5;33mFlatten\u001B[0m)               │ (\u001B[38;5;45mNone\u001B[0m, \u001B[38;5;34m12800\u001B[0m)          │             \u001B[38;5;34m0\u001B[0m │\n",
       "├─────────────────────────────────┼────────────────────────┼───────────────┤\n",
       "│ dropout_5 (\u001B[38;5;33mDropout\u001B[0m)             │ (\u001B[38;5;45mNone\u001B[0m, \u001B[38;5;34m12800\u001B[0m)          │             \u001B[38;5;34m0\u001B[0m │\n",
       "├─────────────────────────────────┼────────────────────────┼───────────────┤\n",
       "│ fc1 (\u001B[38;5;33mDense\u001B[0m)                     │ (\u001B[38;5;45mNone\u001B[0m, \u001B[38;5;34m2048\u001B[0m)           │    \u001B[38;5;34m26,216,448\u001B[0m │\n",
       "├─────────────────────────────────┼────────────────────────┼───────────────┤\n",
       "│ bn_fc1 (\u001B[38;5;33mBatchNormalization\u001B[0m)     │ (\u001B[38;5;45mNone\u001B[0m, \u001B[38;5;34m2048\u001B[0m)           │         \u001B[38;5;34m8,192\u001B[0m │\n",
       "├─────────────────────────────────┼────────────────────────┼───────────────┤\n",
       "│ fc1_relu (\u001B[38;5;33mReLU\u001B[0m)                 │ (\u001B[38;5;45mNone\u001B[0m, \u001B[38;5;34m2048\u001B[0m)           │             \u001B[38;5;34m0\u001B[0m │\n",
       "├─────────────────────────────────┼────────────────────────┼───────────────┤\n",
       "│ dropout_6 (\u001B[38;5;33mDropout\u001B[0m)             │ (\u001B[38;5;45mNone\u001B[0m, \u001B[38;5;34m2048\u001B[0m)           │             \u001B[38;5;34m0\u001B[0m │\n",
       "├─────────────────────────────────┼────────────────────────┼───────────────┤\n",
       "│ fc2 (\u001B[38;5;33mDense\u001B[0m)                     │ (\u001B[38;5;45mNone\u001B[0m, \u001B[38;5;34m2048\u001B[0m)           │     \u001B[38;5;34m4,196,352\u001B[0m │\n",
       "├─────────────────────────────────┼────────────────────────┼───────────────┤\n",
       "│ bn_fc2 (\u001B[38;5;33mBatchNormalization\u001B[0m)     │ (\u001B[38;5;45mNone\u001B[0m, \u001B[38;5;34m2048\u001B[0m)           │         \u001B[38;5;34m8,192\u001B[0m │\n",
       "├─────────────────────────────────┼────────────────────────┼───────────────┤\n",
       "│ fc2_relu (\u001B[38;5;33mReLU\u001B[0m)                 │ (\u001B[38;5;45mNone\u001B[0m, \u001B[38;5;34m2048\u001B[0m)           │             \u001B[38;5;34m0\u001B[0m │\n",
       "├─────────────────────────────────┼────────────────────────┼───────────────┤\n",
       "│ dropout_7 (\u001B[38;5;33mDropout\u001B[0m)             │ (\u001B[38;5;45mNone\u001B[0m, \u001B[38;5;34m2048\u001B[0m)           │             \u001B[38;5;34m0\u001B[0m │\n",
       "├─────────────────────────────────┼────────────────────────┼───────────────┤\n",
       "│ logits (\u001B[38;5;33mDense\u001B[0m)                  │ (\u001B[38;5;45mNone\u001B[0m, \u001B[38;5;34m2\u001B[0m)              │         \u001B[38;5;34m4,098\u001B[0m │\n",
       "└─────────────────────────────────┴────────────────────────┴───────────────┘\n"
      ],
      "text/html": [
       "<pre style=\"white-space:pre;overflow-x:auto;line-height:normal;font-family:Menlo,'DejaVu Sans Mono',consolas,'Courier New',monospace\">┏━━━━━━━━━━━━━━━━━━━━━━━━━━━━━━━━━┳━━━━━━━━━━━━━━━━━━━━━━━━┳━━━━━━━━━━━━━━━┓\n",
       "┃<span style=\"font-weight: bold\"> Layer (type)                    </span>┃<span style=\"font-weight: bold\"> Output Shape           </span>┃<span style=\"font-weight: bold\">       Param # </span>┃\n",
       "┡━━━━━━━━━━━━━━━━━━━━━━━━━━━━━━━━━╇━━━━━━━━━━━━━━━━━━━━━━━━╇━━━━━━━━━━━━━━━┩\n",
       "│ conv1 (<span style=\"color: #0087ff; text-decoration-color: #0087ff\">Conv2D</span>)                  │ (<span style=\"color: #00d7ff; text-decoration-color: #00d7ff\">None</span>, <span style=\"color: #00af00; text-decoration-color: #00af00\">150</span>, <span style=\"color: #00af00; text-decoration-color: #00af00\">150</span>, <span style=\"color: #00af00; text-decoration-color: #00af00\">32</span>)   │           <span style=\"color: #00af00; text-decoration-color: #00af00\">320</span> │\n",
       "├─────────────────────────────────┼────────────────────────┼───────────────┤\n",
       "│ bn1 (<span style=\"color: #0087ff; text-decoration-color: #0087ff\">BatchNormalization</span>)        │ (<span style=\"color: #00d7ff; text-decoration-color: #00d7ff\">None</span>, <span style=\"color: #00af00; text-decoration-color: #00af00\">150</span>, <span style=\"color: #00af00; text-decoration-color: #00af00\">150</span>, <span style=\"color: #00af00; text-decoration-color: #00af00\">32</span>)   │           <span style=\"color: #00af00; text-decoration-color: #00af00\">128</span> │\n",
       "├─────────────────────────────────┼────────────────────────┼───────────────┤\n",
       "│ relu1 (<span style=\"color: #0087ff; text-decoration-color: #0087ff\">ReLU</span>)                    │ (<span style=\"color: #00d7ff; text-decoration-color: #00d7ff\">None</span>, <span style=\"color: #00af00; text-decoration-color: #00af00\">150</span>, <span style=\"color: #00af00; text-decoration-color: #00af00\">150</span>, <span style=\"color: #00af00; text-decoration-color: #00af00\">32</span>)   │             <span style=\"color: #00af00; text-decoration-color: #00af00\">0</span> │\n",
       "├─────────────────────────────────┼────────────────────────┼───────────────┤\n",
       "│ conv1.1 (<span style=\"color: #0087ff; text-decoration-color: #0087ff\">Conv2D</span>)                │ (<span style=\"color: #00d7ff; text-decoration-color: #00d7ff\">None</span>, <span style=\"color: #00af00; text-decoration-color: #00af00\">150</span>, <span style=\"color: #00af00; text-decoration-color: #00af00\">150</span>, <span style=\"color: #00af00; text-decoration-color: #00af00\">32</span>)   │         <span style=\"color: #00af00; text-decoration-color: #00af00\">9,248</span> │\n",
       "├─────────────────────────────────┼────────────────────────┼───────────────┤\n",
       "│ bn1.1 (<span style=\"color: #0087ff; text-decoration-color: #0087ff\">BatchNormalization</span>)      │ (<span style=\"color: #00d7ff; text-decoration-color: #00d7ff\">None</span>, <span style=\"color: #00af00; text-decoration-color: #00af00\">150</span>, <span style=\"color: #00af00; text-decoration-color: #00af00\">150</span>, <span style=\"color: #00af00; text-decoration-color: #00af00\">32</span>)   │           <span style=\"color: #00af00; text-decoration-color: #00af00\">128</span> │\n",
       "├─────────────────────────────────┼────────────────────────┼───────────────┤\n",
       "│ relu1.1 (<span style=\"color: #0087ff; text-decoration-color: #0087ff\">ReLU</span>)                  │ (<span style=\"color: #00d7ff; text-decoration-color: #00d7ff\">None</span>, <span style=\"color: #00af00; text-decoration-color: #00af00\">150</span>, <span style=\"color: #00af00; text-decoration-color: #00af00\">150</span>, <span style=\"color: #00af00; text-decoration-color: #00af00\">32</span>)   │             <span style=\"color: #00af00; text-decoration-color: #00af00\">0</span> │\n",
       "├─────────────────────────────────┼────────────────────────┼───────────────┤\n",
       "│ conv1.2 (<span style=\"color: #0087ff; text-decoration-color: #0087ff\">Conv2D</span>)                │ (<span style=\"color: #00d7ff; text-decoration-color: #00d7ff\">None</span>, <span style=\"color: #00af00; text-decoration-color: #00af00\">150</span>, <span style=\"color: #00af00; text-decoration-color: #00af00\">150</span>, <span style=\"color: #00af00; text-decoration-color: #00af00\">32</span>)   │         <span style=\"color: #00af00; text-decoration-color: #00af00\">9,248</span> │\n",
       "├─────────────────────────────────┼────────────────────────┼───────────────┤\n",
       "│ bn1.2 (<span style=\"color: #0087ff; text-decoration-color: #0087ff\">BatchNormalization</span>)      │ (<span style=\"color: #00d7ff; text-decoration-color: #00d7ff\">None</span>, <span style=\"color: #00af00; text-decoration-color: #00af00\">150</span>, <span style=\"color: #00af00; text-decoration-color: #00af00\">150</span>, <span style=\"color: #00af00; text-decoration-color: #00af00\">32</span>)   │           <span style=\"color: #00af00; text-decoration-color: #00af00\">128</span> │\n",
       "├─────────────────────────────────┼────────────────────────┼───────────────┤\n",
       "│ relu1.2 (<span style=\"color: #0087ff; text-decoration-color: #0087ff\">ReLU</span>)                  │ (<span style=\"color: #00d7ff; text-decoration-color: #00d7ff\">None</span>, <span style=\"color: #00af00; text-decoration-color: #00af00\">150</span>, <span style=\"color: #00af00; text-decoration-color: #00af00\">150</span>, <span style=\"color: #00af00; text-decoration-color: #00af00\">32</span>)   │             <span style=\"color: #00af00; text-decoration-color: #00af00\">0</span> │\n",
       "├─────────────────────────────────┼────────────────────────┼───────────────┤\n",
       "│ pool1 (<span style=\"color: #0087ff; text-decoration-color: #0087ff\">MaxPooling2D</span>)            │ (<span style=\"color: #00d7ff; text-decoration-color: #00d7ff\">None</span>, <span style=\"color: #00af00; text-decoration-color: #00af00\">75</span>, <span style=\"color: #00af00; text-decoration-color: #00af00\">75</span>, <span style=\"color: #00af00; text-decoration-color: #00af00\">32</span>)     │             <span style=\"color: #00af00; text-decoration-color: #00af00\">0</span> │\n",
       "├─────────────────────────────────┼────────────────────────┼───────────────┤\n",
       "│ dropout (<span style=\"color: #0087ff; text-decoration-color: #0087ff\">Dropout</span>)               │ (<span style=\"color: #00d7ff; text-decoration-color: #00d7ff\">None</span>, <span style=\"color: #00af00; text-decoration-color: #00af00\">75</span>, <span style=\"color: #00af00; text-decoration-color: #00af00\">75</span>, <span style=\"color: #00af00; text-decoration-color: #00af00\">32</span>)     │             <span style=\"color: #00af00; text-decoration-color: #00af00\">0</span> │\n",
       "├─────────────────────────────────┼────────────────────────┼───────────────┤\n",
       "│ conv2.1 (<span style=\"color: #0087ff; text-decoration-color: #0087ff\">Conv2D</span>)                │ (<span style=\"color: #00d7ff; text-decoration-color: #00d7ff\">None</span>, <span style=\"color: #00af00; text-decoration-color: #00af00\">75</span>, <span style=\"color: #00af00; text-decoration-color: #00af00\">75</span>, <span style=\"color: #00af00; text-decoration-color: #00af00\">64</span>)     │        <span style=\"color: #00af00; text-decoration-color: #00af00\">18,496</span> │\n",
       "├─────────────────────────────────┼────────────────────────┼───────────────┤\n",
       "│ bn2.1 (<span style=\"color: #0087ff; text-decoration-color: #0087ff\">BatchNormalization</span>)      │ (<span style=\"color: #00d7ff; text-decoration-color: #00d7ff\">None</span>, <span style=\"color: #00af00; text-decoration-color: #00af00\">75</span>, <span style=\"color: #00af00; text-decoration-color: #00af00\">75</span>, <span style=\"color: #00af00; text-decoration-color: #00af00\">64</span>)     │           <span style=\"color: #00af00; text-decoration-color: #00af00\">256</span> │\n",
       "├─────────────────────────────────┼────────────────────────┼───────────────┤\n",
       "│ relu2.1 (<span style=\"color: #0087ff; text-decoration-color: #0087ff\">ReLU</span>)                  │ (<span style=\"color: #00d7ff; text-decoration-color: #00d7ff\">None</span>, <span style=\"color: #00af00; text-decoration-color: #00af00\">75</span>, <span style=\"color: #00af00; text-decoration-color: #00af00\">75</span>, <span style=\"color: #00af00; text-decoration-color: #00af00\">64</span>)     │             <span style=\"color: #00af00; text-decoration-color: #00af00\">0</span> │\n",
       "├─────────────────────────────────┼────────────────────────┼───────────────┤\n",
       "│ conv2.2 (<span style=\"color: #0087ff; text-decoration-color: #0087ff\">Conv2D</span>)                │ (<span style=\"color: #00d7ff; text-decoration-color: #00d7ff\">None</span>, <span style=\"color: #00af00; text-decoration-color: #00af00\">75</span>, <span style=\"color: #00af00; text-decoration-color: #00af00\">75</span>, <span style=\"color: #00af00; text-decoration-color: #00af00\">64</span>)     │        <span style=\"color: #00af00; text-decoration-color: #00af00\">36,928</span> │\n",
       "├─────────────────────────────────┼────────────────────────┼───────────────┤\n",
       "│ bn2.2 (<span style=\"color: #0087ff; text-decoration-color: #0087ff\">BatchNormalization</span>)      │ (<span style=\"color: #00d7ff; text-decoration-color: #00d7ff\">None</span>, <span style=\"color: #00af00; text-decoration-color: #00af00\">75</span>, <span style=\"color: #00af00; text-decoration-color: #00af00\">75</span>, <span style=\"color: #00af00; text-decoration-color: #00af00\">64</span>)     │           <span style=\"color: #00af00; text-decoration-color: #00af00\">256</span> │\n",
       "├─────────────────────────────────┼────────────────────────┼───────────────┤\n",
       "│ relu2.2 (<span style=\"color: #0087ff; text-decoration-color: #0087ff\">ReLU</span>)                  │ (<span style=\"color: #00d7ff; text-decoration-color: #00d7ff\">None</span>, <span style=\"color: #00af00; text-decoration-color: #00af00\">75</span>, <span style=\"color: #00af00; text-decoration-color: #00af00\">75</span>, <span style=\"color: #00af00; text-decoration-color: #00af00\">64</span>)     │             <span style=\"color: #00af00; text-decoration-color: #00af00\">0</span> │\n",
       "├─────────────────────────────────┼────────────────────────┼───────────────┤\n",
       "│ pool2 (<span style=\"color: #0087ff; text-decoration-color: #0087ff\">MaxPooling2D</span>)            │ (<span style=\"color: #00d7ff; text-decoration-color: #00d7ff\">None</span>, <span style=\"color: #00af00; text-decoration-color: #00af00\">38</span>, <span style=\"color: #00af00; text-decoration-color: #00af00\">38</span>, <span style=\"color: #00af00; text-decoration-color: #00af00\">64</span>)     │             <span style=\"color: #00af00; text-decoration-color: #00af00\">0</span> │\n",
       "├─────────────────────────────────┼────────────────────────┼───────────────┤\n",
       "│ dropout_1 (<span style=\"color: #0087ff; text-decoration-color: #0087ff\">Dropout</span>)             │ (<span style=\"color: #00d7ff; text-decoration-color: #00d7ff\">None</span>, <span style=\"color: #00af00; text-decoration-color: #00af00\">38</span>, <span style=\"color: #00af00; text-decoration-color: #00af00\">38</span>, <span style=\"color: #00af00; text-decoration-color: #00af00\">64</span>)     │             <span style=\"color: #00af00; text-decoration-color: #00af00\">0</span> │\n",
       "├─────────────────────────────────┼────────────────────────┼───────────────┤\n",
       "│ conv3.1 (<span style=\"color: #0087ff; text-decoration-color: #0087ff\">Conv2D</span>)                │ (<span style=\"color: #00d7ff; text-decoration-color: #00d7ff\">None</span>, <span style=\"color: #00af00; text-decoration-color: #00af00\">38</span>, <span style=\"color: #00af00; text-decoration-color: #00af00\">38</span>, <span style=\"color: #00af00; text-decoration-color: #00af00\">128</span>)    │        <span style=\"color: #00af00; text-decoration-color: #00af00\">73,856</span> │\n",
       "├─────────────────────────────────┼────────────────────────┼───────────────┤\n",
       "│ bn3.1 (<span style=\"color: #0087ff; text-decoration-color: #0087ff\">BatchNormalization</span>)      │ (<span style=\"color: #00d7ff; text-decoration-color: #00d7ff\">None</span>, <span style=\"color: #00af00; text-decoration-color: #00af00\">38</span>, <span style=\"color: #00af00; text-decoration-color: #00af00\">38</span>, <span style=\"color: #00af00; text-decoration-color: #00af00\">128</span>)    │           <span style=\"color: #00af00; text-decoration-color: #00af00\">512</span> │\n",
       "├─────────────────────────────────┼────────────────────────┼───────────────┤\n",
       "│ relu3.1 (<span style=\"color: #0087ff; text-decoration-color: #0087ff\">ReLU</span>)                  │ (<span style=\"color: #00d7ff; text-decoration-color: #00d7ff\">None</span>, <span style=\"color: #00af00; text-decoration-color: #00af00\">38</span>, <span style=\"color: #00af00; text-decoration-color: #00af00\">38</span>, <span style=\"color: #00af00; text-decoration-color: #00af00\">128</span>)    │             <span style=\"color: #00af00; text-decoration-color: #00af00\">0</span> │\n",
       "├─────────────────────────────────┼────────────────────────┼───────────────┤\n",
       "│ conv3.2 (<span style=\"color: #0087ff; text-decoration-color: #0087ff\">Conv2D</span>)                │ (<span style=\"color: #00d7ff; text-decoration-color: #00d7ff\">None</span>, <span style=\"color: #00af00; text-decoration-color: #00af00\">38</span>, <span style=\"color: #00af00; text-decoration-color: #00af00\">38</span>, <span style=\"color: #00af00; text-decoration-color: #00af00\">128</span>)    │       <span style=\"color: #00af00; text-decoration-color: #00af00\">147,584</span> │\n",
       "├─────────────────────────────────┼────────────────────────┼───────────────┤\n",
       "│ bn3.2 (<span style=\"color: #0087ff; text-decoration-color: #0087ff\">BatchNormalization</span>)      │ (<span style=\"color: #00d7ff; text-decoration-color: #00d7ff\">None</span>, <span style=\"color: #00af00; text-decoration-color: #00af00\">38</span>, <span style=\"color: #00af00; text-decoration-color: #00af00\">38</span>, <span style=\"color: #00af00; text-decoration-color: #00af00\">128</span>)    │           <span style=\"color: #00af00; text-decoration-color: #00af00\">512</span> │\n",
       "├─────────────────────────────────┼────────────────────────┼───────────────┤\n",
       "│ relu3.2 (<span style=\"color: #0087ff; text-decoration-color: #0087ff\">ReLU</span>)                  │ (<span style=\"color: #00d7ff; text-decoration-color: #00d7ff\">None</span>, <span style=\"color: #00af00; text-decoration-color: #00af00\">38</span>, <span style=\"color: #00af00; text-decoration-color: #00af00\">38</span>, <span style=\"color: #00af00; text-decoration-color: #00af00\">128</span>)    │             <span style=\"color: #00af00; text-decoration-color: #00af00\">0</span> │\n",
       "├─────────────────────────────────┼────────────────────────┼───────────────┤\n",
       "│ pool3 (<span style=\"color: #0087ff; text-decoration-color: #0087ff\">MaxPooling2D</span>)            │ (<span style=\"color: #00d7ff; text-decoration-color: #00d7ff\">None</span>, <span style=\"color: #00af00; text-decoration-color: #00af00\">19</span>, <span style=\"color: #00af00; text-decoration-color: #00af00\">19</span>, <span style=\"color: #00af00; text-decoration-color: #00af00\">128</span>)    │             <span style=\"color: #00af00; text-decoration-color: #00af00\">0</span> │\n",
       "├─────────────────────────────────┼────────────────────────┼───────────────┤\n",
       "│ dropout_2 (<span style=\"color: #0087ff; text-decoration-color: #0087ff\">Dropout</span>)             │ (<span style=\"color: #00d7ff; text-decoration-color: #00d7ff\">None</span>, <span style=\"color: #00af00; text-decoration-color: #00af00\">19</span>, <span style=\"color: #00af00; text-decoration-color: #00af00\">19</span>, <span style=\"color: #00af00; text-decoration-color: #00af00\">128</span>)    │             <span style=\"color: #00af00; text-decoration-color: #00af00\">0</span> │\n",
       "├─────────────────────────────────┼────────────────────────┼───────────────┤\n",
       "│ conv4 (<span style=\"color: #0087ff; text-decoration-color: #0087ff\">Conv2D</span>)                  │ (<span style=\"color: #00d7ff; text-decoration-color: #00d7ff\">None</span>, <span style=\"color: #00af00; text-decoration-color: #00af00\">19</span>, <span style=\"color: #00af00; text-decoration-color: #00af00\">19</span>, <span style=\"color: #00af00; text-decoration-color: #00af00\">256</span>)    │       <span style=\"color: #00af00; text-decoration-color: #00af00\">295,168</span> │\n",
       "├─────────────────────────────────┼────────────────────────┼───────────────┤\n",
       "│ bn4 (<span style=\"color: #0087ff; text-decoration-color: #0087ff\">BatchNormalization</span>)        │ (<span style=\"color: #00d7ff; text-decoration-color: #00d7ff\">None</span>, <span style=\"color: #00af00; text-decoration-color: #00af00\">19</span>, <span style=\"color: #00af00; text-decoration-color: #00af00\">19</span>, <span style=\"color: #00af00; text-decoration-color: #00af00\">256</span>)    │         <span style=\"color: #00af00; text-decoration-color: #00af00\">1,024</span> │\n",
       "├─────────────────────────────────┼────────────────────────┼───────────────┤\n",
       "│ relu4 (<span style=\"color: #0087ff; text-decoration-color: #0087ff\">ReLU</span>)                    │ (<span style=\"color: #00d7ff; text-decoration-color: #00d7ff\">None</span>, <span style=\"color: #00af00; text-decoration-color: #00af00\">19</span>, <span style=\"color: #00af00; text-decoration-color: #00af00\">19</span>, <span style=\"color: #00af00; text-decoration-color: #00af00\">256</span>)    │             <span style=\"color: #00af00; text-decoration-color: #00af00\">0</span> │\n",
       "├─────────────────────────────────┼────────────────────────┼───────────────┤\n",
       "│ pool4 (<span style=\"color: #0087ff; text-decoration-color: #0087ff\">MaxPooling2D</span>)            │ (<span style=\"color: #00d7ff; text-decoration-color: #00d7ff\">None</span>, <span style=\"color: #00af00; text-decoration-color: #00af00\">10</span>, <span style=\"color: #00af00; text-decoration-color: #00af00\">10</span>, <span style=\"color: #00af00; text-decoration-color: #00af00\">256</span>)    │             <span style=\"color: #00af00; text-decoration-color: #00af00\">0</span> │\n",
       "├─────────────────────────────────┼────────────────────────┼───────────────┤\n",
       "│ dropout_3 (<span style=\"color: #0087ff; text-decoration-color: #0087ff\">Dropout</span>)             │ (<span style=\"color: #00d7ff; text-decoration-color: #00d7ff\">None</span>, <span style=\"color: #00af00; text-decoration-color: #00af00\">10</span>, <span style=\"color: #00af00; text-decoration-color: #00af00\">10</span>, <span style=\"color: #00af00; text-decoration-color: #00af00\">256</span>)    │             <span style=\"color: #00af00; text-decoration-color: #00af00\">0</span> │\n",
       "├─────────────────────────────────┼────────────────────────┼───────────────┤\n",
       "│ conv5 (<span style=\"color: #0087ff; text-decoration-color: #0087ff\">Conv2D</span>)                  │ (<span style=\"color: #00d7ff; text-decoration-color: #00d7ff\">None</span>, <span style=\"color: #00af00; text-decoration-color: #00af00\">10</span>, <span style=\"color: #00af00; text-decoration-color: #00af00\">10</span>, <span style=\"color: #00af00; text-decoration-color: #00af00\">512</span>)    │     <span style=\"color: #00af00; text-decoration-color: #00af00\">1,180,160</span> │\n",
       "├─────────────────────────────────┼────────────────────────┼───────────────┤\n",
       "│ bn5 (<span style=\"color: #0087ff; text-decoration-color: #0087ff\">BatchNormalization</span>)        │ (<span style=\"color: #00d7ff; text-decoration-color: #00d7ff\">None</span>, <span style=\"color: #00af00; text-decoration-color: #00af00\">10</span>, <span style=\"color: #00af00; text-decoration-color: #00af00\">10</span>, <span style=\"color: #00af00; text-decoration-color: #00af00\">512</span>)    │         <span style=\"color: #00af00; text-decoration-color: #00af00\">2,048</span> │\n",
       "├─────────────────────────────────┼────────────────────────┼───────────────┤\n",
       "│ relu5 (<span style=\"color: #0087ff; text-decoration-color: #0087ff\">ReLU</span>)                    │ (<span style=\"color: #00d7ff; text-decoration-color: #00d7ff\">None</span>, <span style=\"color: #00af00; text-decoration-color: #00af00\">10</span>, <span style=\"color: #00af00; text-decoration-color: #00af00\">10</span>, <span style=\"color: #00af00; text-decoration-color: #00af00\">512</span>)    │             <span style=\"color: #00af00; text-decoration-color: #00af00\">0</span> │\n",
       "├─────────────────────────────────┼────────────────────────┼───────────────┤\n",
       "│ pool5 (<span style=\"color: #0087ff; text-decoration-color: #0087ff\">MaxPooling2D</span>)            │ (<span style=\"color: #00d7ff; text-decoration-color: #00d7ff\">None</span>, <span style=\"color: #00af00; text-decoration-color: #00af00\">5</span>, <span style=\"color: #00af00; text-decoration-color: #00af00\">5</span>, <span style=\"color: #00af00; text-decoration-color: #00af00\">512</span>)      │             <span style=\"color: #00af00; text-decoration-color: #00af00\">0</span> │\n",
       "├─────────────────────────────────┼────────────────────────┼───────────────┤\n",
       "│ dropout_4 (<span style=\"color: #0087ff; text-decoration-color: #0087ff\">Dropout</span>)             │ (<span style=\"color: #00d7ff; text-decoration-color: #00d7ff\">None</span>, <span style=\"color: #00af00; text-decoration-color: #00af00\">5</span>, <span style=\"color: #00af00; text-decoration-color: #00af00\">5</span>, <span style=\"color: #00af00; text-decoration-color: #00af00\">512</span>)      │             <span style=\"color: #00af00; text-decoration-color: #00af00\">0</span> │\n",
       "├─────────────────────────────────┼────────────────────────┼───────────────┤\n",
       "│ flatten (<span style=\"color: #0087ff; text-decoration-color: #0087ff\">Flatten</span>)               │ (<span style=\"color: #00d7ff; text-decoration-color: #00d7ff\">None</span>, <span style=\"color: #00af00; text-decoration-color: #00af00\">12800</span>)          │             <span style=\"color: #00af00; text-decoration-color: #00af00\">0</span> │\n",
       "├─────────────────────────────────┼────────────────────────┼───────────────┤\n",
       "│ dropout_5 (<span style=\"color: #0087ff; text-decoration-color: #0087ff\">Dropout</span>)             │ (<span style=\"color: #00d7ff; text-decoration-color: #00d7ff\">None</span>, <span style=\"color: #00af00; text-decoration-color: #00af00\">12800</span>)          │             <span style=\"color: #00af00; text-decoration-color: #00af00\">0</span> │\n",
       "├─────────────────────────────────┼────────────────────────┼───────────────┤\n",
       "│ fc1 (<span style=\"color: #0087ff; text-decoration-color: #0087ff\">Dense</span>)                     │ (<span style=\"color: #00d7ff; text-decoration-color: #00d7ff\">None</span>, <span style=\"color: #00af00; text-decoration-color: #00af00\">2048</span>)           │    <span style=\"color: #00af00; text-decoration-color: #00af00\">26,216,448</span> │\n",
       "├─────────────────────────────────┼────────────────────────┼───────────────┤\n",
       "│ bn_fc1 (<span style=\"color: #0087ff; text-decoration-color: #0087ff\">BatchNormalization</span>)     │ (<span style=\"color: #00d7ff; text-decoration-color: #00d7ff\">None</span>, <span style=\"color: #00af00; text-decoration-color: #00af00\">2048</span>)           │         <span style=\"color: #00af00; text-decoration-color: #00af00\">8,192</span> │\n",
       "├─────────────────────────────────┼────────────────────────┼───────────────┤\n",
       "│ fc1_relu (<span style=\"color: #0087ff; text-decoration-color: #0087ff\">ReLU</span>)                 │ (<span style=\"color: #00d7ff; text-decoration-color: #00d7ff\">None</span>, <span style=\"color: #00af00; text-decoration-color: #00af00\">2048</span>)           │             <span style=\"color: #00af00; text-decoration-color: #00af00\">0</span> │\n",
       "├─────────────────────────────────┼────────────────────────┼───────────────┤\n",
       "│ dropout_6 (<span style=\"color: #0087ff; text-decoration-color: #0087ff\">Dropout</span>)             │ (<span style=\"color: #00d7ff; text-decoration-color: #00d7ff\">None</span>, <span style=\"color: #00af00; text-decoration-color: #00af00\">2048</span>)           │             <span style=\"color: #00af00; text-decoration-color: #00af00\">0</span> │\n",
       "├─────────────────────────────────┼────────────────────────┼───────────────┤\n",
       "│ fc2 (<span style=\"color: #0087ff; text-decoration-color: #0087ff\">Dense</span>)                     │ (<span style=\"color: #00d7ff; text-decoration-color: #00d7ff\">None</span>, <span style=\"color: #00af00; text-decoration-color: #00af00\">2048</span>)           │     <span style=\"color: #00af00; text-decoration-color: #00af00\">4,196,352</span> │\n",
       "├─────────────────────────────────┼────────────────────────┼───────────────┤\n",
       "│ bn_fc2 (<span style=\"color: #0087ff; text-decoration-color: #0087ff\">BatchNormalization</span>)     │ (<span style=\"color: #00d7ff; text-decoration-color: #00d7ff\">None</span>, <span style=\"color: #00af00; text-decoration-color: #00af00\">2048</span>)           │         <span style=\"color: #00af00; text-decoration-color: #00af00\">8,192</span> │\n",
       "├─────────────────────────────────┼────────────────────────┼───────────────┤\n",
       "│ fc2_relu (<span style=\"color: #0087ff; text-decoration-color: #0087ff\">ReLU</span>)                 │ (<span style=\"color: #00d7ff; text-decoration-color: #00d7ff\">None</span>, <span style=\"color: #00af00; text-decoration-color: #00af00\">2048</span>)           │             <span style=\"color: #00af00; text-decoration-color: #00af00\">0</span> │\n",
       "├─────────────────────────────────┼────────────────────────┼───────────────┤\n",
       "│ dropout_7 (<span style=\"color: #0087ff; text-decoration-color: #0087ff\">Dropout</span>)             │ (<span style=\"color: #00d7ff; text-decoration-color: #00d7ff\">None</span>, <span style=\"color: #00af00; text-decoration-color: #00af00\">2048</span>)           │             <span style=\"color: #00af00; text-decoration-color: #00af00\">0</span> │\n",
       "├─────────────────────────────────┼────────────────────────┼───────────────┤\n",
       "│ logits (<span style=\"color: #0087ff; text-decoration-color: #0087ff\">Dense</span>)                  │ (<span style=\"color: #00d7ff; text-decoration-color: #00d7ff\">None</span>, <span style=\"color: #00af00; text-decoration-color: #00af00\">2</span>)              │         <span style=\"color: #00af00; text-decoration-color: #00af00\">4,098</span> │\n",
       "└─────────────────────────────────┴────────────────────────┴───────────────┘\n",
       "</pre>\n"
      ]
     },
     "metadata": {},
     "output_type": "display_data"
    },
    {
     "data": {
      "text/plain": [
       "\u001B[1m Total params: \u001B[0m\u001B[38;5;34m32,209,282\u001B[0m (122.87 MB)\n"
      ],
      "text/html": [
       "<pre style=\"white-space:pre;overflow-x:auto;line-height:normal;font-family:Menlo,'DejaVu Sans Mono',consolas,'Courier New',monospace\"><span style=\"font-weight: bold\"> Total params: </span><span style=\"color: #00af00; text-decoration-color: #00af00\">32,209,282</span> (122.87 MB)\n",
       "</pre>\n"
      ]
     },
     "metadata": {},
     "output_type": "display_data"
    },
    {
     "data": {
      "text/plain": [
       "\u001B[1m Trainable params: \u001B[0m\u001B[38;5;34m32,198,594\u001B[0m (122.83 MB)\n"
      ],
      "text/html": [
       "<pre style=\"white-space:pre;overflow-x:auto;line-height:normal;font-family:Menlo,'DejaVu Sans Mono',consolas,'Courier New',monospace\"><span style=\"font-weight: bold\"> Trainable params: </span><span style=\"color: #00af00; text-decoration-color: #00af00\">32,198,594</span> (122.83 MB)\n",
       "</pre>\n"
      ]
     },
     "metadata": {},
     "output_type": "display_data"
    },
    {
     "data": {
      "text/plain": [
       "\u001B[1m Non-trainable params: \u001B[0m\u001B[38;5;34m10,688\u001B[0m (41.75 KB)\n"
      ],
      "text/html": [
       "<pre style=\"white-space:pre;overflow-x:auto;line-height:normal;font-family:Menlo,'DejaVu Sans Mono',consolas,'Courier New',monospace\"><span style=\"font-weight: bold\"> Non-trainable params: </span><span style=\"color: #00af00; text-decoration-color: #00af00\">10,688</span> (41.75 KB)\n",
       "</pre>\n"
      ]
     },
     "metadata": {},
     "output_type": "display_data"
    }
   ],
   "execution_count": 2
  },
  {
   "cell_type": "markdown",
   "source": [
    "## Carga de datos"
   ],
   "metadata": {
    "collapsed": false
   },
   "id": "bc7358ebb3f5308f"
  },
  {
   "cell_type": "code",
   "source": [
    "import keras\n",
    "\n",
    "train_path = '/Users/julio/Documentos-Local/data/VinDr-Mammo/subsets/ss1/training'\n",
    "test_path = '/Users/julio/Documentos-Local/data/VinDr-Mammo/subsets/ss1/test'\n",
    "\n",
    "train_ds = keras.utils.image_dataset_from_directory(\n",
    "    directory=train_path,\n",
    "    labels='inferred',\n",
    "    label_mode='categorical',\n",
    "    batch_size=32,\n",
    "    image_size=(299, 299),\n",
    "    color_mode='grayscale'\n",
    ")\n",
    "\n",
    "tests_ds = keras.utils.image_dataset_from_directory(\n",
    "    directory=test_path,\n",
    "    labels='inferred',\n",
    "    label_mode='categorical',\n",
    "    batch_size=32,\n",
    "    image_size=(299, 299),\n",
    "    color_mode='grayscale'\n",
    ")"
   ],
   "metadata": {
    "collapsed": false,
    "ExecuteTime": {
     "end_time": "2024-09-12T21:42:44.492686Z",
     "start_time": "2024-09-12T21:42:44.375938Z"
    }
   },
   "id": "ac87a859a4847a92",
   "outputs": [
    {
     "name": "stdout",
     "output_type": "stream",
     "text": [
      "Found 815 files belonging to 2 classes.\n",
      "Found 192 files belonging to 2 classes.\n"
     ]
    }
   ],
   "execution_count": 3
  },
  {
   "cell_type": "markdown",
   "source": [
    "## Aumentación y Escalamiento"
   ],
   "metadata": {
    "collapsed": false
   },
   "id": "e45aea7c7f78944e"
  },
  {
   "cell_type": "code",
   "source": [
    "from tensorflow.keras.layers import Rescaling, RandomFlip, RandomRotation, RandomZoom\n",
    "\n",
    "# Agregar capas de augmentación dentro del modelo\n",
    "data_augmentation = tf.keras.Sequential([\n",
    "    RandomFlip(\"horizontal_and_vertical\"),\n",
    "    RandomRotation(0.2),\n",
    "    RandomZoom(0.2)\n",
    "])\n",
    "\n",
    "# Normalizar los datos dentro del modelo\n",
    "normalization_layer = Rescaling(1./255)\n",
    "\n",
    "# Aplicar augmentación y normalización en el flujo del modelo\n",
    "augmented_train_dataset = train_ds.map(\n",
    "    lambda x, y: (data_augmentation(x, training=True), y))\n",
    "\n",
    "normalized_train_dataset = augmented_train_dataset.map(\n",
    "    lambda x, y: (normalization_layer(x), y))\n",
    "\n",
    "normalized_test_dataset = tests_ds.map(\n",
    "    lambda x, y: (normalization_layer(x), y))"
   ],
   "metadata": {
    "collapsed": false,
    "ExecuteTime": {
     "end_time": "2024-09-12T21:42:50.011958Z",
     "start_time": "2024-09-12T21:42:49.920215Z"
    }
   },
   "id": "e4f5f71a1b6a76bd",
   "outputs": [],
   "execution_count": 4
  },
  {
   "cell_type": "markdown",
   "source": [
    "## Carga de los pesos"
   ],
   "metadata": {
    "collapsed": false
   },
   "id": "e04d87f14260f304"
  },
  {
   "cell_type": "code",
   "outputs": [],
   "source": [
    "## load weights from a checkpoint, excluding any or including specified vars and returning initializer function\n",
    "def load_weights(model_name, exclude=None, include=None):\n",
    "    model_path = os.path.join(\"model\", model_name + \".ckpt\")\n",
    "\n",
    "    variables_to_restore = tf.contrib.framework.get_variables_to_restore(exclude=exclude, include=include)\n",
    "    init_fn = tf.contrib.framework.assign_from_checkpoint_fn(model_path, variables_to_restore)\n",
    "\n",
    "    return init_fn"
   ],
   "metadata": {
    "collapsed": false
   },
   "id": "2a9cbfed8167f881",
   "execution_count": null
  },
  {
   "cell_type": "code",
   "outputs": [],
   "source": [],
   "metadata": {
    "collapsed": false
   },
   "id": "4705a166a5b73874",
   "execution_count": null
  },
  {
   "cell_type": "code",
   "source": [
    "# Ruta del checkpoint \n",
    "checkpoint_path = '/Users/julio/Downloads/model_s1-2/model_s1.0.0.35b.96.bu30.ckpt'\n",
    "\n",
    "# Crear el objeto checkpoint\n",
    "checkpoint = tf.train.Checkpoint(model=model)\n",
    "\n",
    "# Restaurar los pesos\n",
    "status = checkpoint.restore(checkpoint_path)\n",
    "\n",
    "# Si solo quieres advertir y no fallar en caso de que falten pesos\n",
    "status.expect_partial()  # Permite continuar aunque algunos pesos no se restauren completamente"
   ],
   "metadata": {
    "collapsed": false,
    "ExecuteTime": {
     "end_time": "2024-09-12T21:42:54.293489Z",
     "start_time": "2024-09-12T21:42:54.274802Z"
    }
   },
   "id": "148d6650976f08be",
   "outputs": [
    {
     "name": "stdout",
     "output_type": "stream",
     "text": [
      "WARNING:tensorflow:From /Users/julio/Documents/PMM/Codigos/Test1/Classification/.venv/lib/python3.11/site-packages/tensorflow/python/checkpoint/checkpoint.py:1477: NameBasedSaverStatus.__init__ (from tensorflow.python.checkpoint.checkpoint) is deprecated and will be removed in a future version.\n",
      "Instructions for updating:\n",
      "Restoring a name-based tf.train.Saver checkpoint using the object-based restore API. This mode uses global names to match variables, and so is somewhat fragile. It also adds new restore ops to the graph each time it is called when graph building. Prefer re-encoding training checkpoints in the object-based format: run save() on the object-based saver (the same one this message is coming from) and use that checkpoint in the future.\n"
     ]
    },
    {
     "data": {
      "text/plain": [
       "<tensorflow.python.checkpoint.checkpoint.NameBasedSaverStatus at 0x30571d650>"
      ]
     },
     "execution_count": 5,
     "metadata": {},
     "output_type": "execute_result"
    }
   ],
   "execution_count": 5
  },
  {
   "metadata": {
    "ExecuteTime": {
     "end_time": "2024-09-12T21:42:58.576444Z",
     "start_time": "2024-09-12T21:42:58.475219Z"
    }
   },
   "cell_type": "code",
   "source": [
    "# Iterar sobre las capas del modelo\n",
    "for layer in model.layers:\n",
    "    #print(f\"Capa: {layer.name}\")\n",
    "    if not layer.get_weights():\n",
    "        print(f\"Capa: {layer.name} -> No se cargaron pesos\")\n",
    "        "
   ],
   "id": "ebd5e5385cf1c06d",
   "outputs": [
    {
     "name": "stdout",
     "output_type": "stream",
     "text": [
      "Capa: relu1 -> No se cargaron pesos\n",
      "Capa: relu1.1 -> No se cargaron pesos\n",
      "Capa: relu1.2 -> No se cargaron pesos\n",
      "Capa: pool1 -> No se cargaron pesos\n",
      "Capa: dropout -> No se cargaron pesos\n",
      "Capa: relu2.1 -> No se cargaron pesos\n",
      "Capa: relu2.2 -> No se cargaron pesos\n",
      "Capa: pool2 -> No se cargaron pesos\n",
      "Capa: dropout_1 -> No se cargaron pesos\n",
      "Capa: relu3.1 -> No se cargaron pesos\n",
      "Capa: relu3.2 -> No se cargaron pesos\n",
      "Capa: pool3 -> No se cargaron pesos\n",
      "Capa: dropout_2 -> No se cargaron pesos\n",
      "Capa: relu4 -> No se cargaron pesos\n",
      "Capa: pool4 -> No se cargaron pesos\n",
      "Capa: dropout_3 -> No se cargaron pesos\n",
      "Capa: relu5 -> No se cargaron pesos\n",
      "Capa: pool5 -> No se cargaron pesos\n",
      "Capa: dropout_4 -> No se cargaron pesos\n",
      "Capa: flatten -> No se cargaron pesos\n",
      "Capa: dropout_5 -> No se cargaron pesos\n",
      "Capa: fc1_relu -> No se cargaron pesos\n",
      "Capa: dropout_6 -> No se cargaron pesos\n",
      "Capa: fc2_relu -> No se cargaron pesos\n",
      "Capa: dropout_7 -> No se cargaron pesos\n"
     ]
    }
   ],
   "execution_count": 6
  },
  {
   "cell_type": "code",
   "source": [
    "# Congelar todas las capas convolucionales (hasta Flatten)\n",
    "for layer in model.layers:\n",
    "    if isinstance(layer, tf.keras.layers.Conv2D) or isinstance(layer, tf.keras.layers.MaxPooling2D):\n",
    "        layer.trainable = False\n",
    "\n",
    "print(\"Capas convolucionales congeladas.\")"
   ],
   "metadata": {
    "collapsed": false,
    "ExecuteTime": {
     "end_time": "2024-09-12T21:43:03.071150Z",
     "start_time": "2024-09-12T21:43:03.066825Z"
    }
   },
   "id": "caba01e10e599992",
   "outputs": [
    {
     "name": "stdout",
     "output_type": "stream",
     "text": [
      "Capas convolucionales congeladas.\n"
     ]
    }
   ],
   "execution_count": 7
  },
  {
   "cell_type": "code",
   "source": [
    "for layer in model.layers:\n",
    "    print(f\"Capa: {layer.name} - ¿Entrenable?: {layer.trainable}\")"
   ],
   "metadata": {
    "collapsed": false,
    "ExecuteTime": {
     "end_time": "2024-09-12T21:43:04.773211Z",
     "start_time": "2024-09-12T21:43:04.771096Z"
    }
   },
   "id": "981aae75f6cea564",
   "outputs": [
    {
     "name": "stdout",
     "output_type": "stream",
     "text": [
      "Capa: conv1 - ¿Entrenable?: False\n",
      "Capa: bn1 - ¿Entrenable?: True\n",
      "Capa: relu1 - ¿Entrenable?: True\n",
      "Capa: conv1.1 - ¿Entrenable?: False\n",
      "Capa: bn1.1 - ¿Entrenable?: True\n",
      "Capa: relu1.1 - ¿Entrenable?: True\n",
      "Capa: conv1.2 - ¿Entrenable?: False\n",
      "Capa: bn1.2 - ¿Entrenable?: True\n",
      "Capa: relu1.2 - ¿Entrenable?: True\n",
      "Capa: pool1 - ¿Entrenable?: False\n",
      "Capa: dropout - ¿Entrenable?: True\n",
      "Capa: conv2.1 - ¿Entrenable?: False\n",
      "Capa: bn2.1 - ¿Entrenable?: True\n",
      "Capa: relu2.1 - ¿Entrenable?: True\n",
      "Capa: conv2.2 - ¿Entrenable?: False\n",
      "Capa: bn2.2 - ¿Entrenable?: True\n",
      "Capa: relu2.2 - ¿Entrenable?: True\n",
      "Capa: pool2 - ¿Entrenable?: False\n",
      "Capa: dropout_1 - ¿Entrenable?: True\n",
      "Capa: conv3.1 - ¿Entrenable?: False\n",
      "Capa: bn3.1 - ¿Entrenable?: True\n",
      "Capa: relu3.1 - ¿Entrenable?: True\n",
      "Capa: conv3.2 - ¿Entrenable?: False\n",
      "Capa: bn3.2 - ¿Entrenable?: True\n",
      "Capa: relu3.2 - ¿Entrenable?: True\n",
      "Capa: pool3 - ¿Entrenable?: False\n",
      "Capa: dropout_2 - ¿Entrenable?: True\n",
      "Capa: conv4 - ¿Entrenable?: False\n",
      "Capa: bn4 - ¿Entrenable?: True\n",
      "Capa: relu4 - ¿Entrenable?: True\n",
      "Capa: pool4 - ¿Entrenable?: False\n",
      "Capa: dropout_3 - ¿Entrenable?: True\n",
      "Capa: conv5 - ¿Entrenable?: False\n",
      "Capa: bn5 - ¿Entrenable?: True\n",
      "Capa: relu5 - ¿Entrenable?: True\n",
      "Capa: pool5 - ¿Entrenable?: False\n",
      "Capa: dropout_4 - ¿Entrenable?: True\n",
      "Capa: flatten - ¿Entrenable?: True\n",
      "Capa: dropout_5 - ¿Entrenable?: True\n",
      "Capa: fc1 - ¿Entrenable?: True\n",
      "Capa: bn_fc1 - ¿Entrenable?: True\n",
      "Capa: fc1_relu - ¿Entrenable?: True\n",
      "Capa: dropout_6 - ¿Entrenable?: True\n",
      "Capa: fc2 - ¿Entrenable?: True\n",
      "Capa: bn_fc2 - ¿Entrenable?: True\n",
      "Capa: fc2_relu - ¿Entrenable?: True\n",
      "Capa: dropout_7 - ¿Entrenable?: True\n",
      "Capa: logits - ¿Entrenable?: True\n"
     ]
    }
   ],
   "execution_count": 8
  },
  {
   "cell_type": "markdown",
   "source": [
    "## Training"
   ],
   "metadata": {
    "collapsed": false
   },
   "id": "447af2824660c23d"
  },
  {
   "cell_type": "code",
   "source": [
    "# Compilar el modelo con un optimizador y función de pérdida adecuados\n",
    "model.compile(optimizer='adam', \n",
    "              loss='binary_crossentropy', \n",
    "              metrics=['accuracy', 'recall'])"
   ],
   "metadata": {
    "collapsed": false,
    "ExecuteTime": {
     "end_time": "2024-09-12T21:50:17.502835Z",
     "start_time": "2024-09-12T21:50:17.494412Z"
    }
   },
   "id": "f7637ea3c6223e46",
   "outputs": [],
   "execution_count": 11
  },
  {
   "cell_type": "code",
   "outputs": [
    {
     "name": "stdout",
     "output_type": "stream",
     "text": [
      "Epoch 1/50\n",
      "\u001B[1m26/26\u001B[0m \u001B[32m━━━━━━━━━━━━━━━━━━━━\u001B[0m\u001B[37m\u001B[0m \u001B[1m8s\u001B[0m 281ms/step - accuracy: 0.7568 - loss: 0.5165 - recall: 0.7568 - val_accuracy: 0.7396 - val_loss: 0.5478 - val_recall: 0.7396\n",
      "Epoch 2/50\n",
      "\u001B[1m26/26\u001B[0m \u001B[32m━━━━━━━━━━━━━━━━━━━━\u001B[0m\u001B[37m\u001B[0m \u001B[1m7s\u001B[0m 270ms/step - accuracy: 0.7681 - loss: 0.4863 - recall: 0.7681 - val_accuracy: 0.7396 - val_loss: 0.5606 - val_recall: 0.7396\n",
      "Epoch 3/50\n",
      "\u001B[1m26/26\u001B[0m \u001B[32m━━━━━━━━━━━━━━━━━━━━\u001B[0m\u001B[37m\u001B[0m \u001B[1m7s\u001B[0m 274ms/step - accuracy: 0.7653 - loss: 0.5076 - recall: 0.7653 - val_accuracy: 0.7396 - val_loss: 0.5703 - val_recall: 0.7396\n",
      "Epoch 4/50\n",
      "\u001B[1m26/26\u001B[0m \u001B[32m━━━━━━━━━━━━━━━━━━━━\u001B[0m\u001B[37m\u001B[0m \u001B[1m7s\u001B[0m 275ms/step - accuracy: 0.7727 - loss: 0.4772 - recall: 0.7727 - val_accuracy: 0.7396 - val_loss: 0.5762 - val_recall: 0.7396\n",
      "Epoch 5/50\n",
      "\u001B[1m26/26\u001B[0m \u001B[32m━━━━━━━━━━━━━━━━━━━━\u001B[0m\u001B[37m\u001B[0m \u001B[1m7s\u001B[0m 269ms/step - accuracy: 0.7623 - loss: 0.5195 - recall: 0.7623 - val_accuracy: 0.7396 - val_loss: 0.6078 - val_recall: 0.7396\n",
      "Epoch 6/50\n",
      "\u001B[1m26/26\u001B[0m \u001B[32m━━━━━━━━━━━━━━━━━━━━\u001B[0m\u001B[37m\u001B[0m \u001B[1m7s\u001B[0m 272ms/step - accuracy: 0.7496 - loss: 0.5128 - recall: 0.7496 - val_accuracy: 0.7396 - val_loss: 0.4750 - val_recall: 0.7396\n",
      "Epoch 7/50\n",
      "\u001B[1m26/26\u001B[0m \u001B[32m━━━━━━━━━━━━━━━━━━━━\u001B[0m\u001B[37m\u001B[0m \u001B[1m7s\u001B[0m 272ms/step - accuracy: 0.7715 - loss: 0.4515 - recall: 0.7715 - val_accuracy: 0.7396 - val_loss: 0.5511 - val_recall: 0.7396\n",
      "Epoch 8/50\n",
      "\u001B[1m26/26\u001B[0m \u001B[32m━━━━━━━━━━━━━━━━━━━━\u001B[0m\u001B[37m\u001B[0m \u001B[1m7s\u001B[0m 271ms/step - accuracy: 0.7775 - loss: 0.4663 - recall: 0.7775 - val_accuracy: 0.7396 - val_loss: 0.4940 - val_recall: 0.7396\n",
      "Epoch 9/50\n",
      "\u001B[1m26/26\u001B[0m \u001B[32m━━━━━━━━━━━━━━━━━━━━\u001B[0m\u001B[37m\u001B[0m \u001B[1m7s\u001B[0m 271ms/step - accuracy: 0.7655 - loss: 0.4675 - recall: 0.7655 - val_accuracy: 0.7396 - val_loss: 0.5539 - val_recall: 0.7396\n",
      "Epoch 10/50\n",
      "\u001B[1m26/26\u001B[0m \u001B[32m━━━━━━━━━━━━━━━━━━━━\u001B[0m\u001B[37m\u001B[0m \u001B[1m7s\u001B[0m 272ms/step - accuracy: 0.7634 - loss: 0.4590 - recall: 0.7634 - val_accuracy: 0.7396 - val_loss: 0.5281 - val_recall: 0.7396\n",
      "Epoch 11/50\n",
      "\u001B[1m26/26\u001B[0m \u001B[32m━━━━━━━━━━━━━━━━━━━━\u001B[0m\u001B[37m\u001B[0m \u001B[1m7s\u001B[0m 274ms/step - accuracy: 0.7585 - loss: 0.5223 - recall: 0.7585 - val_accuracy: 0.7396 - val_loss: 0.5025 - val_recall: 0.7396\n",
      "Epoch 12/50\n",
      "\u001B[1m26/26\u001B[0m \u001B[32m━━━━━━━━━━━━━━━━━━━━\u001B[0m\u001B[37m\u001B[0m \u001B[1m7s\u001B[0m 274ms/step - accuracy: 0.7741 - loss: 0.4854 - recall: 0.7741 - val_accuracy: 0.7396 - val_loss: 0.5999 - val_recall: 0.7396\n",
      "Epoch 13/50\n",
      "\u001B[1m26/26\u001B[0m \u001B[32m━━━━━━━━━━━━━━━━━━━━\u001B[0m\u001B[37m\u001B[0m \u001B[1m7s\u001B[0m 272ms/step - accuracy: 0.7660 - loss: 0.4652 - recall: 0.7660 - val_accuracy: 0.7396 - val_loss: 0.6032 - val_recall: 0.7396\n",
      "Epoch 14/50\n",
      "\u001B[1m26/26\u001B[0m \u001B[32m━━━━━━━━━━━━━━━━━━━━\u001B[0m\u001B[37m\u001B[0m \u001B[1m7s\u001B[0m 268ms/step - accuracy: 0.7720 - loss: 0.4671 - recall: 0.7720 - val_accuracy: 0.7396 - val_loss: 0.6031 - val_recall: 0.7396\n",
      "Epoch 15/50\n",
      "\u001B[1m26/26\u001B[0m \u001B[32m━━━━━━━━━━━━━━━━━━━━\u001B[0m\u001B[37m\u001B[0m \u001B[1m7s\u001B[0m 270ms/step - accuracy: 0.7669 - loss: 0.4614 - recall: 0.7669 - val_accuracy: 0.7396 - val_loss: 0.5367 - val_recall: 0.7396\n",
      "Epoch 16/50\n",
      "\u001B[1m26/26\u001B[0m \u001B[32m━━━━━━━━━━━━━━━━━━━━\u001B[0m\u001B[37m\u001B[0m \u001B[1m7s\u001B[0m 272ms/step - accuracy: 0.7533 - loss: 0.4566 - recall: 0.7533 - val_accuracy: 0.7396 - val_loss: 0.6194 - val_recall: 0.7396\n",
      "Epoch 17/50\n",
      "\u001B[1m26/26\u001B[0m \u001B[32m━━━━━━━━━━━━━━━━━━━━\u001B[0m\u001B[37m\u001B[0m \u001B[1m7s\u001B[0m 272ms/step - accuracy: 0.7605 - loss: 0.4735 - recall: 0.7605 - val_accuracy: 0.7396 - val_loss: 0.5880 - val_recall: 0.7396\n",
      "Epoch 18/50\n",
      "\u001B[1m26/26\u001B[0m \u001B[32m━━━━━━━━━━━━━━━━━━━━\u001B[0m\u001B[37m\u001B[0m \u001B[1m7s\u001B[0m 270ms/step - accuracy: 0.7712 - loss: 0.4661 - recall: 0.7712 - val_accuracy: 0.7396 - val_loss: 0.6178 - val_recall: 0.7396\n",
      "Epoch 19/50\n",
      "\u001B[1m26/26\u001B[0m \u001B[32m━━━━━━━━━━━━━━━━━━━━\u001B[0m\u001B[37m\u001B[0m \u001B[1m7s\u001B[0m 268ms/step - accuracy: 0.7638 - loss: 0.4776 - recall: 0.7638 - val_accuracy: 0.7396 - val_loss: 0.6189 - val_recall: 0.7396\n",
      "Epoch 20/50\n",
      "\u001B[1m26/26\u001B[0m \u001B[32m━━━━━━━━━━━━━━━━━━━━\u001B[0m\u001B[37m\u001B[0m \u001B[1m7s\u001B[0m 279ms/step - accuracy: 0.7412 - loss: 0.5165 - recall: 0.7412 - val_accuracy: 0.7396 - val_loss: 0.4537 - val_recall: 0.7396\n",
      "Epoch 21/50\n",
      "\u001B[1m26/26\u001B[0m \u001B[32m━━━━━━━━━━━━━━━━━━━━\u001B[0m\u001B[37m\u001B[0m \u001B[1m7s\u001B[0m 277ms/step - accuracy: 0.7640 - loss: 0.4745 - recall: 0.7640 - val_accuracy: 0.7396 - val_loss: 0.4574 - val_recall: 0.7396\n",
      "Epoch 22/50\n",
      "\u001B[1m26/26\u001B[0m \u001B[32m━━━━━━━━━━━━━━━━━━━━\u001B[0m\u001B[37m\u001B[0m \u001B[1m7s\u001B[0m 273ms/step - accuracy: 0.7602 - loss: 0.4857 - recall: 0.7602 - val_accuracy: 0.7396 - val_loss: 0.5152 - val_recall: 0.7396\n",
      "Epoch 23/50\n",
      "\u001B[1m26/26\u001B[0m \u001B[32m━━━━━━━━━━━━━━━━━━━━\u001B[0m\u001B[37m\u001B[0m \u001B[1m7s\u001B[0m 274ms/step - accuracy: 0.7590 - loss: 0.4732 - recall: 0.7590 - val_accuracy: 0.7396 - val_loss: 0.6010 - val_recall: 0.7396\n",
      "Epoch 24/50\n",
      "\u001B[1m26/26\u001B[0m \u001B[32m━━━━━━━━━━━━━━━━━━━━\u001B[0m\u001B[37m\u001B[0m \u001B[1m7s\u001B[0m 276ms/step - accuracy: 0.7747 - loss: 0.4682 - recall: 0.7747 - val_accuracy: 0.7396 - val_loss: 0.4780 - val_recall: 0.7396\n",
      "Epoch 25/50\n",
      "\u001B[1m26/26\u001B[0m \u001B[32m━━━━━━━━━━━━━━━━━━━━\u001B[0m\u001B[37m\u001B[0m \u001B[1m7s\u001B[0m 273ms/step - accuracy: 0.7627 - loss: 0.4533 - recall: 0.7627 - val_accuracy: 0.7396 - val_loss: 0.5801 - val_recall: 0.7396\n",
      "Epoch 26/50\n",
      "\u001B[1m26/26\u001B[0m \u001B[32m━━━━━━━━━━━━━━━━━━━━\u001B[0m\u001B[37m\u001B[0m \u001B[1m7s\u001B[0m 273ms/step - accuracy: 0.7694 - loss: 0.4453 - recall: 0.7694 - val_accuracy: 0.7396 - val_loss: 0.6198 - val_recall: 0.7396\n",
      "Epoch 27/50\n",
      "\u001B[1m26/26\u001B[0m \u001B[32m━━━━━━━━━━━━━━━━━━━━\u001B[0m\u001B[37m\u001B[0m \u001B[1m7s\u001B[0m 273ms/step - accuracy: 0.7548 - loss: 0.4865 - recall: 0.7548 - val_accuracy: 0.7396 - val_loss: 0.4313 - val_recall: 0.7396\n",
      "Epoch 28/50\n",
      "\u001B[1m26/26\u001B[0m \u001B[32m━━━━━━━━━━━━━━━━━━━━\u001B[0m\u001B[37m\u001B[0m \u001B[1m7s\u001B[0m 272ms/step - accuracy: 0.7793 - loss: 0.4353 - recall: 0.7793 - val_accuracy: 0.7396 - val_loss: 0.6179 - val_recall: 0.7396\n",
      "Epoch 29/50\n",
      "\u001B[1m26/26\u001B[0m \u001B[32m━━━━━━━━━━━━━━━━━━━━\u001B[0m\u001B[37m\u001B[0m \u001B[1m7s\u001B[0m 272ms/step - accuracy: 0.7731 - loss: 0.4530 - recall: 0.7731 - val_accuracy: 0.7396 - val_loss: 0.5399 - val_recall: 0.7396\n",
      "Epoch 30/50\n",
      "\u001B[1m26/26\u001B[0m \u001B[32m━━━━━━━━━━━━━━━━━━━━\u001B[0m\u001B[37m\u001B[0m \u001B[1m7s\u001B[0m 278ms/step - accuracy: 0.7482 - loss: 0.4601 - recall: 0.7482 - val_accuracy: 0.7396 - val_loss: 0.4942 - val_recall: 0.7396\n",
      "Epoch 31/50\n",
      "\u001B[1m26/26\u001B[0m \u001B[32m━━━━━━━━━━━━━━━━━━━━\u001B[0m\u001B[37m\u001B[0m \u001B[1m7s\u001B[0m 270ms/step - accuracy: 0.7665 - loss: 0.4584 - recall: 0.7665 - val_accuracy: 0.7396 - val_loss: 0.5211 - val_recall: 0.7396\n",
      "Epoch 32/50\n",
      "\u001B[1m26/26\u001B[0m \u001B[32m━━━━━━━━━━━━━━━━━━━━\u001B[0m\u001B[37m\u001B[0m \u001B[1m7s\u001B[0m 275ms/step - accuracy: 0.7702 - loss: 0.4514 - recall: 0.7702 - val_accuracy: 0.7396 - val_loss: 0.5990 - val_recall: 0.7396\n",
      "Epoch 33/50\n",
      "\u001B[1m26/26\u001B[0m \u001B[32m━━━━━━━━━━━━━━━━━━━━\u001B[0m\u001B[37m\u001B[0m \u001B[1m7s\u001B[0m 269ms/step - accuracy: 0.7590 - loss: 0.4496 - recall: 0.7590 - val_accuracy: 0.7396 - val_loss: 0.6259 - val_recall: 0.7396\n",
      "Epoch 34/50\n",
      "\u001B[1m26/26\u001B[0m \u001B[32m━━━━━━━━━━━━━━━━━━━━\u001B[0m\u001B[37m\u001B[0m \u001B[1m7s\u001B[0m 269ms/step - accuracy: 0.7881 - loss: 0.4161 - recall: 0.7881 - val_accuracy: 0.7396 - val_loss: 0.4750 - val_recall: 0.7396\n",
      "Epoch 35/50\n",
      "\u001B[1m26/26\u001B[0m \u001B[32m━━━━━━━━━━━━━━━━━━━━\u001B[0m\u001B[37m\u001B[0m \u001B[1m7s\u001B[0m 272ms/step - accuracy: 0.7646 - loss: 0.4456 - recall: 0.7646 - val_accuracy: 0.7396 - val_loss: 0.4607 - val_recall: 0.7396\n",
      "Epoch 36/50\n",
      "\u001B[1m26/26\u001B[0m \u001B[32m━━━━━━━━━━━━━━━━━━━━\u001B[0m\u001B[37m\u001B[0m \u001B[1m7s\u001B[0m 269ms/step - accuracy: 0.7640 - loss: 0.5024 - recall: 0.7640 - val_accuracy: 0.7396 - val_loss: 0.6237 - val_recall: 0.7396\n",
      "Epoch 37/50\n",
      "\u001B[1m26/26\u001B[0m \u001B[32m━━━━━━━━━━━━━━━━━━━━\u001B[0m\u001B[37m\u001B[0m \u001B[1m7s\u001B[0m 270ms/step - accuracy: 0.7787 - loss: 0.4355 - recall: 0.7787 - val_accuracy: 0.7396 - val_loss: 0.4602 - val_recall: 0.7396\n",
      "Epoch 38/50\n",
      "\u001B[1m26/26\u001B[0m \u001B[32m━━━━━━━━━━━━━━━━━━━━\u001B[0m\u001B[37m\u001B[0m \u001B[1m7s\u001B[0m 272ms/step - accuracy: 0.7743 - loss: 0.4346 - recall: 0.7743 - val_accuracy: 0.7396 - val_loss: 0.5409 - val_recall: 0.7396\n",
      "Epoch 39/50\n",
      "\u001B[1m26/26\u001B[0m \u001B[32m━━━━━━━━━━━━━━━━━━━━\u001B[0m\u001B[37m\u001B[0m \u001B[1m7s\u001B[0m 269ms/step - accuracy: 0.7789 - loss: 0.4447 - recall: 0.7789 - val_accuracy: 0.7396 - val_loss: 0.4288 - val_recall: 0.7396\n",
      "Epoch 40/50\n",
      "\u001B[1m26/26\u001B[0m \u001B[32m━━━━━━━━━━━━━━━━━━━━\u001B[0m\u001B[37m\u001B[0m \u001B[1m7s\u001B[0m 270ms/step - accuracy: 0.7644 - loss: 0.4640 - recall: 0.7644 - val_accuracy: 0.7396 - val_loss: 0.5100 - val_recall: 0.7396\n",
      "Epoch 41/50\n",
      "\u001B[1m26/26\u001B[0m \u001B[32m━━━━━━━━━━━━━━━━━━━━\u001B[0m\u001B[37m\u001B[0m \u001B[1m7s\u001B[0m 273ms/step - accuracy: 0.7578 - loss: 0.4365 - recall: 0.7578 - val_accuracy: 0.7396 - val_loss: 0.4513 - val_recall: 0.7396\n",
      "Epoch 42/50\n",
      "\u001B[1m26/26\u001B[0m \u001B[32m━━━━━━━━━━━━━━━━━━━━\u001B[0m\u001B[37m\u001B[0m \u001B[1m7s\u001B[0m 271ms/step - accuracy: 0.7675 - loss: 0.4370 - recall: 0.7675 - val_accuracy: 0.7396 - val_loss: 0.5617 - val_recall: 0.7396\n",
      "Epoch 43/50\n",
      "\u001B[1m26/26\u001B[0m \u001B[32m━━━━━━━━━━━━━━━━━━━━\u001B[0m\u001B[37m\u001B[0m \u001B[1m7s\u001B[0m 269ms/step - accuracy: 0.7605 - loss: 0.4440 - recall: 0.7605 - val_accuracy: 0.7396 - val_loss: 0.4765 - val_recall: 0.7396\n",
      "Epoch 44/50\n",
      "\u001B[1m26/26\u001B[0m \u001B[32m━━━━━━━━━━━━━━━━━━━━\u001B[0m\u001B[37m\u001B[0m \u001B[1m7s\u001B[0m 271ms/step - accuracy: 0.7653 - loss: 0.4374 - recall: 0.7653 - val_accuracy: 0.7396 - val_loss: 0.6209 - val_recall: 0.7396\n",
      "Epoch 45/50\n",
      "\u001B[1m26/26\u001B[0m \u001B[32m━━━━━━━━━━━━━━━━━━━━\u001B[0m\u001B[37m\u001B[0m \u001B[1m7s\u001B[0m 268ms/step - accuracy: 0.7618 - loss: 0.4264 - recall: 0.7618 - val_accuracy: 0.7396 - val_loss: 0.5910 - val_recall: 0.7396\n",
      "Epoch 46/50\n",
      "\u001B[1m26/26\u001B[0m \u001B[32m━━━━━━━━━━━━━━━━━━━━\u001B[0m\u001B[37m\u001B[0m \u001B[1m7s\u001B[0m 281ms/step - accuracy: 0.7765 - loss: 0.3923 - recall: 0.7765 - val_accuracy: 0.7396 - val_loss: 0.5988 - val_recall: 0.7396\n",
      "Epoch 47/50\n",
      "\u001B[1m26/26\u001B[0m \u001B[32m━━━━━━━━━━━━━━━━━━━━\u001B[0m\u001B[37m\u001B[0m \u001B[1m7s\u001B[0m 270ms/step - accuracy: 0.7643 - loss: 0.4254 - recall: 0.7643 - val_accuracy: 0.7396 - val_loss: 0.6325 - val_recall: 0.7396\n",
      "Epoch 48/50\n",
      "\u001B[1m26/26\u001B[0m \u001B[32m━━━━━━━━━━━━━━━━━━━━\u001B[0m\u001B[37m\u001B[0m \u001B[1m7s\u001B[0m 274ms/step - accuracy: 0.7448 - loss: 0.3964 - recall: 0.7448 - val_accuracy: 0.7396 - val_loss: 0.5089 - val_recall: 0.7396\n",
      "Epoch 49/50\n",
      "\u001B[1m26/26\u001B[0m \u001B[32m━━━━━━━━━━━━━━━━━━━━\u001B[0m\u001B[37m\u001B[0m \u001B[1m7s\u001B[0m 271ms/step - accuracy: 0.7632 - loss: 0.4082 - recall: 0.7632 - val_accuracy: 0.7396 - val_loss: 0.6699 - val_recall: 0.7396\n",
      "Epoch 50/50\n",
      "\u001B[1m26/26\u001B[0m \u001B[32m━━━━━━━━━━━━━━━━━━━━\u001B[0m\u001B[37m\u001B[0m \u001B[1m7s\u001B[0m 271ms/step - accuracy: 0.7433 - loss: 0.4496 - recall: 0.7433 - val_accuracy: 0.7396 - val_loss: 0.5535 - val_recall: 0.7396\n"
     ]
    }
   ],
   "source": [
    "# Entrenar el modelo congelando las capas convolucionales\n",
    "history = model.fit(\n",
    "    normalized_train_dataset,\n",
    "    validation_data=normalized_test_dataset,\n",
    "    epochs=50\n",
    ")"
   ],
   "metadata": {
    "collapsed": false,
    "ExecuteTime": {
     "end_time": "2024-09-11T00:16:00.401315Z",
     "start_time": "2024-09-11T00:10:00.335807Z"
    }
   },
   "id": "e955a7a7df980bf7",
   "execution_count": 7
  },
  {
   "cell_type": "code",
   "outputs": [
    {
     "name": "stdout",
     "output_type": "stream",
     "text": [
      "Epoch 1/20\n"
     ]
    },
    {
     "name": "stderr",
     "output_type": "stream",
     "text": [
      "2024-09-10 23:14:48.937296: I tensorflow/core/grappler/optimizers/custom_graph_optimizer_registry.cc:117] Plugin optimizer for device_type GPU is enabled.\n"
     ]
    },
    {
     "name": "stdout",
     "output_type": "stream",
     "text": [
      "\u001B[1m26/26\u001B[0m \u001B[32m━━━━━━━━━━━━━━━━━━━━\u001B[0m\u001B[37m\u001B[0m \u001B[1m15s\u001B[0m 341ms/step - accuracy: 0.6699 - loss: 8.7201 - recall: 0.6699 - val_accuracy: 0.7396 - val_loss: 0.6007 - val_recall: 0.7396\n",
      "Epoch 2/20\n",
      "\u001B[1m26/26\u001B[0m \u001B[32m━━━━━━━━━━━━━━━━━━━━\u001B[0m\u001B[37m\u001B[0m \u001B[1m7s\u001B[0m 271ms/step - accuracy: 0.7485 - loss: 1.1411 - recall: 0.7485 - val_accuracy: 0.7396 - val_loss: 0.6067 - val_recall: 0.7396\n",
      "Epoch 3/20\n",
      "\u001B[1m26/26\u001B[0m \u001B[32m━━━━━━━━━━━━━━━━━━━━\u001B[0m\u001B[37m\u001B[0m \u001B[1m7s\u001B[0m 274ms/step - accuracy: 0.7305 - loss: 1.0090 - recall: 0.7305 - val_accuracy: 0.7396 - val_loss: 0.6080 - val_recall: 0.7396\n",
      "Epoch 4/20\n",
      "\u001B[1m26/26\u001B[0m \u001B[32m━━━━━━━━━━━━━━━━━━━━\u001B[0m\u001B[37m\u001B[0m \u001B[1m7s\u001B[0m 274ms/step - accuracy: 0.7290 - loss: 1.2360 - recall: 0.7290 - val_accuracy: 0.7396 - val_loss: 0.6252 - val_recall: 0.7396\n",
      "Epoch 5/20\n",
      "\u001B[1m26/26\u001B[0m \u001B[32m━━━━━━━━━━━━━━━━━━━━\u001B[0m\u001B[37m\u001B[0m \u001B[1m7s\u001B[0m 279ms/step - accuracy: 0.7195 - loss: 1.0653 - recall: 0.7195 - val_accuracy: 0.7396 - val_loss: 0.6012 - val_recall: 0.7396\n",
      "Epoch 6/20\n",
      "\u001B[1m26/26\u001B[0m \u001B[32m━━━━━━━━━━━━━━━━━━━━\u001B[0m\u001B[37m\u001B[0m \u001B[1m7s\u001B[0m 272ms/step - accuracy: 0.7673 - loss: 0.5847 - recall: 0.7673 - val_accuracy: 0.7396 - val_loss: 0.6368 - val_recall: 0.7396\n",
      "Epoch 7/20\n",
      "\u001B[1m26/26\u001B[0m \u001B[32m━━━━━━━━━━━━━━━━━━━━\u001B[0m\u001B[37m\u001B[0m \u001B[1m7s\u001B[0m 274ms/step - accuracy: 0.7597 - loss: 0.5786 - recall: 0.7597 - val_accuracy: 0.7396 - val_loss: 0.6232 - val_recall: 0.7396\n",
      "Epoch 8/20\n",
      "\u001B[1m26/26\u001B[0m \u001B[32m━━━━━━━━━━━━━━━━━━━━\u001B[0m\u001B[37m\u001B[0m \u001B[1m7s\u001B[0m 275ms/step - accuracy: 0.7579 - loss: 0.5328 - recall: 0.7579 - val_accuracy: 0.7396 - val_loss: 0.6079 - val_recall: 0.7396\n",
      "Epoch 9/20\n",
      "\u001B[1m26/26\u001B[0m \u001B[32m━━━━━━━━━━━━━━━━━━━━\u001B[0m\u001B[37m\u001B[0m \u001B[1m7s\u001B[0m 274ms/step - accuracy: 0.7498 - loss: 0.5329 - recall: 0.7498 - val_accuracy: 0.7396 - val_loss: 0.6419 - val_recall: 0.7396\n",
      "Epoch 10/20\n",
      "\u001B[1m26/26\u001B[0m \u001B[32m━━━━━━━━━━━━━━━━━━━━\u001B[0m\u001B[37m\u001B[0m \u001B[1m7s\u001B[0m 276ms/step - accuracy: 0.7534 - loss: 0.5334 - recall: 0.7534 - val_accuracy: 0.7396 - val_loss: 0.6026 - val_recall: 0.7396\n",
      "Epoch 11/20\n",
      "\u001B[1m26/26\u001B[0m \u001B[32m━━━━━━━━━━━━━━━━━━━━\u001B[0m\u001B[37m\u001B[0m \u001B[1m7s\u001B[0m 277ms/step - accuracy: 0.7394 - loss: 0.5467 - recall: 0.7394 - val_accuracy: 0.7396 - val_loss: 0.5787 - val_recall: 0.7396\n",
      "Epoch 12/20\n",
      "\u001B[1m26/26\u001B[0m \u001B[32m━━━━━━━━━━━━━━━━━━━━\u001B[0m\u001B[37m\u001B[0m \u001B[1m7s\u001B[0m 275ms/step - accuracy: 0.7556 - loss: 0.5749 - recall: 0.7556 - val_accuracy: 0.7396 - val_loss: 0.6140 - val_recall: 0.7396\n",
      "Epoch 13/20\n",
      "\u001B[1m26/26\u001B[0m \u001B[32m━━━━━━━━━━━━━━━━━━━━\u001B[0m\u001B[37m\u001B[0m \u001B[1m7s\u001B[0m 272ms/step - accuracy: 0.7593 - loss: 0.5127 - recall: 0.7593 - val_accuracy: 0.7396 - val_loss: 0.6330 - val_recall: 0.7396\n",
      "Epoch 14/20\n",
      "\u001B[1m26/26\u001B[0m \u001B[32m━━━━━━━━━━━━━━━━━━━━\u001B[0m\u001B[37m\u001B[0m \u001B[1m7s\u001B[0m 278ms/step - accuracy: 0.7643 - loss: 0.5238 - recall: 0.7643 - val_accuracy: 0.7396 - val_loss: 0.6019 - val_recall: 0.7396\n",
      "Epoch 15/20\n",
      "\u001B[1m26/26\u001B[0m \u001B[32m━━━━━━━━━━━━━━━━━━━━\u001B[0m\u001B[37m\u001B[0m \u001B[1m7s\u001B[0m 274ms/step - accuracy: 0.7594 - loss: 0.5321 - recall: 0.7594 - val_accuracy: 0.7396 - val_loss: 0.5857 - val_recall: 0.7396\n",
      "Epoch 16/20\n",
      "\u001B[1m26/26\u001B[0m \u001B[32m━━━━━━━━━━━━━━━━━━━━\u001B[0m\u001B[37m\u001B[0m \u001B[1m7s\u001B[0m 271ms/step - accuracy: 0.7533 - loss: 0.5229 - recall: 0.7533 - val_accuracy: 0.7396 - val_loss: 0.6015 - val_recall: 0.7396\n",
      "Epoch 17/20\n",
      "\u001B[1m26/26\u001B[0m \u001B[32m━━━━━━━━━━━━━━━━━━━━\u001B[0m\u001B[37m\u001B[0m \u001B[1m7s\u001B[0m 277ms/step - accuracy: 0.7500 - loss: 0.4966 - recall: 0.7500 - val_accuracy: 0.7396 - val_loss: 0.5712 - val_recall: 0.7396\n",
      "Epoch 18/20\n",
      "\u001B[1m26/26\u001B[0m \u001B[32m━━━━━━━━━━━━━━━━━━━━\u001B[0m\u001B[37m\u001B[0m \u001B[1m7s\u001B[0m 274ms/step - accuracy: 0.7832 - loss: 0.4703 - recall: 0.7832 - val_accuracy: 0.7396 - val_loss: 0.5914 - val_recall: 0.7396\n",
      "Epoch 19/20\n",
      "\u001B[1m26/26\u001B[0m \u001B[32m━━━━━━━━━━━━━━━━━━━━\u001B[0m\u001B[37m\u001B[0m \u001B[1m7s\u001B[0m 274ms/step - accuracy: 0.7717 - loss: 0.4942 - recall: 0.7717 - val_accuracy: 0.7396 - val_loss: 0.5794 - val_recall: 0.7396\n",
      "Epoch 20/20\n",
      "\u001B[1m26/26\u001B[0m \u001B[32m━━━━━━━━━━━━━━━━━━━━\u001B[0m\u001B[37m\u001B[0m \u001B[1m7s\u001B[0m 274ms/step - accuracy: 0.7572 - loss: 0.4989 - recall: 0.7572 - val_accuracy: 0.7396 - val_loss: 0.5177 - val_recall: 0.7396\n"
     ]
    }
   ],
   "source": [
    "history2 = model.fit(\n",
    "    normalized_train_dataset,\n",
    "    validation_data=normalized_test_dataset,\n",
    "    epochs=20\n",
    ")"
   ],
   "metadata": {
    "collapsed": false,
    "ExecuteTime": {
     "end_time": "2024-09-11T02:17:21.511974Z",
     "start_time": "2024-09-11T02:14:48.895173Z"
    }
   },
   "id": "598fec19795ac42d",
   "execution_count": 6
  },
  {
   "metadata": {
    "ExecuteTime": {
     "end_time": "2024-09-12T21:52:17.083572Z",
     "start_time": "2024-09-12T21:50:20.944829Z"
    }
   },
   "cell_type": "code",
   "source": [
    "history3 = model.fit(\n",
    "    normalized_train_dataset,\n",
    "    validation_data=normalized_test_dataset,\n",
    "    epochs=20\n",
    ")"
   ],
   "id": "c4821b22d1696fa9",
   "outputs": [
    {
     "name": "stdout",
     "output_type": "stream",
     "text": [
      "Epoch 1/20\n",
      "\u001B[1m26/26\u001B[0m \u001B[32m━━━━━━━━━━━━━━━━━━━━\u001B[0m\u001B[37m\u001B[0m \u001B[1m13s\u001B[0m 281ms/step - accuracy: 0.7171 - loss: 19.9308 - recall: 0.7171 - val_accuracy: 0.7396 - val_loss: 16.9096 - val_recall: 0.7396\n",
      "Epoch 2/20\n",
      "\u001B[1m26/26\u001B[0m \u001B[32m━━━━━━━━━━━━━━━━━━━━\u001B[0m\u001B[37m\u001B[0m \u001B[1m6s\u001B[0m 207ms/step - accuracy: 0.6870 - loss: 16.2498 - recall: 0.6870 - val_accuracy: 0.7396 - val_loss: 13.8016 - val_recall: 0.7396\n",
      "Epoch 3/20\n",
      "\u001B[1m26/26\u001B[0m \u001B[32m━━━━━━━━━━━━━━━━━━━━\u001B[0m\u001B[37m\u001B[0m \u001B[1m5s\u001B[0m 203ms/step - accuracy: 0.7523 - loss: 13.0203 - recall: 0.7523 - val_accuracy: 0.2604 - val_loss: 11.2975 - val_recall: 0.2604\n",
      "Epoch 4/20\n",
      "\u001B[1m26/26\u001B[0m \u001B[32m━━━━━━━━━━━━━━━━━━━━\u001B[0m\u001B[37m\u001B[0m \u001B[1m5s\u001B[0m 204ms/step - accuracy: 0.7490 - loss: 10.2015 - recall: 0.7490 - val_accuracy: 0.7396 - val_loss: 8.5463 - val_recall: 0.7396\n",
      "Epoch 5/20\n",
      "\u001B[1m26/26\u001B[0m \u001B[32m━━━━━━━━━━━━━━━━━━━━\u001B[0m\u001B[37m\u001B[0m \u001B[1m5s\u001B[0m 198ms/step - accuracy: 0.7320 - loss: 7.9413 - recall: 0.7320 - val_accuracy: 0.7396 - val_loss: 6.9777 - val_recall: 0.7396\n",
      "Epoch 6/20\n",
      "\u001B[1m26/26\u001B[0m \u001B[32m━━━━━━━━━━━━━━━━━━━━\u001B[0m\u001B[37m\u001B[0m \u001B[1m5s\u001B[0m 206ms/step - accuracy: 0.7407 - loss: 6.3636 - recall: 0.7407 - val_accuracy: 0.2604 - val_loss: 6.3345 - val_recall: 0.2604\n",
      "Epoch 7/20\n",
      "\u001B[1m26/26\u001B[0m \u001B[32m━━━━━━━━━━━━━━━━━━━━\u001B[0m\u001B[37m\u001B[0m \u001B[1m6s\u001B[0m 211ms/step - accuracy: 0.7534 - loss: 5.2465 - recall: 0.7534 - val_accuracy: 0.7396 - val_loss: 4.6338 - val_recall: 0.7396\n",
      "Epoch 8/20\n",
      "\u001B[1m26/26\u001B[0m \u001B[32m━━━━━━━━━━━━━━━━━━━━\u001B[0m\u001B[37m\u001B[0m \u001B[1m5s\u001B[0m 206ms/step - accuracy: 0.7455 - loss: 4.4276 - recall: 0.7455 - val_accuracy: 0.7396 - val_loss: 3.9818 - val_recall: 0.7396\n",
      "Epoch 9/20\n",
      "\u001B[1m26/26\u001B[0m \u001B[32m━━━━━━━━━━━━━━━━━━━━\u001B[0m\u001B[37m\u001B[0m \u001B[1m5s\u001B[0m 207ms/step - accuracy: 0.7586 - loss: 3.8392 - recall: 0.7586 - val_accuracy: 0.7396 - val_loss: 3.4658 - val_recall: 0.7396\n",
      "Epoch 10/20\n",
      "\u001B[1m26/26\u001B[0m \u001B[32m━━━━━━━━━━━━━━━━━━━━\u001B[0m\u001B[37m\u001B[0m \u001B[1m6s\u001B[0m 215ms/step - accuracy: 0.7556 - loss: 3.3095 - recall: 0.7556 - val_accuracy: 0.7396 - val_loss: 3.1955 - val_recall: 0.7396\n",
      "Epoch 11/20\n",
      "\u001B[1m26/26\u001B[0m \u001B[32m━━━━━━━━━━━━━━━━━━━━\u001B[0m\u001B[37m\u001B[0m \u001B[1m6s\u001B[0m 214ms/step - accuracy: 0.7502 - loss: 3.0114 - recall: 0.7502 - val_accuracy: 0.7396 - val_loss: 3.0082 - val_recall: 0.7396\n",
      "Epoch 12/20\n",
      "\u001B[1m26/26\u001B[0m \u001B[32m━━━━━━━━━━━━━━━━━━━━\u001B[0m\u001B[37m\u001B[0m \u001B[1m6s\u001B[0m 216ms/step - accuracy: 0.7510 - loss: 2.8492 - recall: 0.7510 - val_accuracy: 0.7396 - val_loss: 2.8749 - val_recall: 0.7396\n",
      "Epoch 13/20\n",
      "\u001B[1m26/26\u001B[0m \u001B[32m━━━━━━━━━━━━━━━━━━━━\u001B[0m\u001B[37m\u001B[0m \u001B[1m6s\u001B[0m 216ms/step - accuracy: 0.7510 - loss: 2.7849 - recall: 0.7510 - val_accuracy: 0.2604 - val_loss: 3.3301 - val_recall: 0.2604\n",
      "Epoch 14/20\n",
      "\u001B[1m26/26\u001B[0m \u001B[32m━━━━━━━━━━━━━━━━━━━━\u001B[0m\u001B[37m\u001B[0m \u001B[1m5s\u001B[0m 201ms/step - accuracy: 0.7441 - loss: 2.6798 - recall: 0.7441 - val_accuracy: 0.7396 - val_loss: 2.6465 - val_recall: 0.7396\n",
      "Epoch 15/20\n",
      "\u001B[1m26/26\u001B[0m \u001B[32m━━━━━━━━━━━━━━━━━━━━\u001B[0m\u001B[37m\u001B[0m \u001B[1m5s\u001B[0m 195ms/step - accuracy: 0.7381 - loss: 2.6055 - recall: 0.7381 - val_accuracy: 0.2604 - val_loss: 2.8793 - val_recall: 0.2604\n",
      "Epoch 16/20\n",
      "\u001B[1m26/26\u001B[0m \u001B[32m━━━━━━━━━━━━━━━━━━━━\u001B[0m\u001B[37m\u001B[0m \u001B[1m5s\u001B[0m 196ms/step - accuracy: 0.7650 - loss: 2.5283 - recall: 0.7650 - val_accuracy: 0.7396 - val_loss: 2.5897 - val_recall: 0.7396\n",
      "Epoch 17/20\n",
      "\u001B[1m26/26\u001B[0m \u001B[32m━━━━━━━━━━━━━━━━━━━━\u001B[0m\u001B[37m\u001B[0m \u001B[1m5s\u001B[0m 197ms/step - accuracy: 0.7209 - loss: 2.5905 - recall: 0.7209 - val_accuracy: 0.7396 - val_loss: 2.5466 - val_recall: 0.7396\n",
      "Epoch 18/20\n",
      "\u001B[1m26/26\u001B[0m \u001B[32m━━━━━━━━━━━━━━━━━━━━\u001B[0m\u001B[37m\u001B[0m \u001B[1m5s\u001B[0m 197ms/step - accuracy: 0.7434 - loss: 2.4809 - recall: 0.7434 - val_accuracy: 0.7396 - val_loss: 2.5575 - val_recall: 0.7396\n",
      "Epoch 19/20\n",
      "\u001B[1m26/26\u001B[0m \u001B[32m━━━━━━━━━━━━━━━━━━━━\u001B[0m\u001B[37m\u001B[0m \u001B[1m5s\u001B[0m 202ms/step - accuracy: 0.7566 - loss: 2.4616 - recall: 0.7566 - val_accuracy: 0.7396 - val_loss: 2.5058 - val_recall: 0.7396\n",
      "Epoch 20/20\n",
      "\u001B[1m26/26\u001B[0m \u001B[32m━━━━━━━━━━━━━━━━━━━━\u001B[0m\u001B[37m\u001B[0m \u001B[1m6s\u001B[0m 213ms/step - accuracy: 0.7700 - loss: 2.4446 - recall: 0.7700 - val_accuracy: 0.5781 - val_loss: 2.5891 - val_recall: 0.5781\n"
     ]
    }
   ],
   "execution_count": 12
  },
  {
   "metadata": {
    "ExecuteTime": {
     "end_time": "2024-09-12T21:57:26.576178Z",
     "start_time": "2024-09-12T21:57:25.962440Z"
    }
   },
   "cell_type": "code",
   "source": [
    "# Guardar el modelo completo\n",
    "model.save('weights/model_1.0.0.35_complete.keras')"
   ],
   "id": "b4a44c44acb3c0dc",
   "outputs": [],
   "execution_count": 15
  }
 ],
 "metadata": {
  "kernelspec": {
   "display_name": "Python 3",
   "language": "python",
   "name": "python3"
  },
  "language_info": {
   "codemirror_mode": {
    "name": "ipython",
    "version": 2
   },
   "file_extension": ".py",
   "mimetype": "text/x-python",
   "name": "python",
   "nbconvert_exporter": "python",
   "pygments_lexer": "ipython2",
   "version": "2.7.6"
  }
 },
 "nbformat": 4,
 "nbformat_minor": 5
}
