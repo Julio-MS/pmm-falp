{
 "cells": [
  {
   "cell_type": "code",
   "id": "initial_id",
   "metadata": {
    "collapsed": true,
    "ExecuteTime": {
     "end_time": "2024-10-25T03:34:03.912877Z",
     "start_time": "2024-10-25T03:34:03.907698Z"
    }
   },
   "source": [
    "import pydicom\n",
    "import cv2\n",
    "import numpy as np\n"
   ],
   "outputs": [],
   "execution_count": 8
  },
  {
   "metadata": {
    "ExecuteTime": {
     "end_time": "2024-10-25T03:34:03.919673Z",
     "start_time": "2024-10-25T03:34:03.917851Z"
    }
   },
   "cell_type": "code",
   "source": "image_path = '/Users/julio/Documentos-Local/data/Breast Micro-Calcifications Dataset/Dataset/Suspicious_cases/32/MLO_recent.dcm'",
   "id": "afedb7fe27c75948",
   "outputs": [],
   "execution_count": 9
  },
  {
   "metadata": {
    "ExecuteTime": {
     "end_time": "2024-10-25T03:34:26.557373Z",
     "start_time": "2024-10-25T03:34:03.927087Z"
    }
   },
   "cell_type": "code",
   "source": [
    "dicom = pydicom.dcmread(image_path)\n",
    "img = dicom.pixel_array\n",
    "\n",
    "# Extraer Window Center y Window Width\n",
    "WC = dicom.WindowCenter\n",
    "WW = dicom.WindowWidth\n",
    "\n",
    "print()\n",
    "\n",
    "img_windowed = np.zeros_like(img, dtype=np.float32)\n",
    "ymin = 0  # Mínimo valor en la escala de salida\n",
    "ymax = 255  # Máximo valor en la escala de salida\n",
    "\n",
    "for i in range(img.shape[0]):\n",
    "    for j in range(img.shape[1]):\n",
    "        x = img[i, j]\n",
    "        if x <= WC - 0.5 - ((WW - 1) / 2):\n",
    "            img_windowed[i, j] = ymin\n",
    "        elif x > WC - 0.5 + ((WW - 1) / 2):\n",
    "            img_windowed[i, j] = ymax\n",
    "        else:\n",
    "            img_windowed[i, j] = ((x - (WC - 0.5)) / (WW - 1) + 0.5) * (ymax - ymin) + ymin\n",
    "\n",
    "# Convertir la imagen a uint8 para su visualización\n",
    "img_windowed = img_windowed.astype(np.uint8)"
   ],
   "id": "a2a00a804d85f33",
   "outputs": [
    {
     "name": "stdout",
     "output_type": "stream",
     "text": [
      "\n"
     ]
    }
   ],
   "execution_count": 10
  },
  {
   "metadata": {
    "ExecuteTime": {
     "end_time": "2024-10-25T03:39:57.369455Z",
     "start_time": "2024-10-25T03:39:57.323452Z"
    }
   },
   "cell_type": "code",
   "source": "cv2.imwrite('/Users/julio/Library/Mobile Documents/com~apple~CloudDocs/Downloads/img_windowed.png', img_windowed)",
   "id": "979357c76ca26255",
   "outputs": [
    {
     "data": {
      "text/plain": [
       "True"
      ]
     },
     "execution_count": 12,
     "metadata": {},
     "output_type": "execute_result"
    }
   ],
   "execution_count": 12
  },
  {
   "metadata": {
    "ExecuteTime": {
     "end_time": "2024-10-25T03:31:37.759743Z",
     "start_time": "2024-10-25T03:31:32.088021Z"
    }
   },
   "cell_type": "code",
   "outputs": [
    {
     "name": "stderr",
     "output_type": "stream",
     "text": [
      "2024-10-25 00:31:32.248 Python[4030:212931] WARNING: Secure coding is not enabled for restorable state! Enable secure coding by implementing NSApplicationDelegate.applicationSupportsSecureRestorableState: and returning YES.\n"
     ]
    }
   ],
   "execution_count": 6,
   "source": [
    "# Mostrar la imagen combinada\n",
    "cv2.imshow('img_windowed', img_windowed)\n",
    "cv2.waitKey(0)\n",
    "cv2.destroyAllWindows()"
   ],
   "id": "7fcec113f4f40a2b"
  }
 ],
 "metadata": {
  "kernelspec": {
   "display_name": "Python 3",
   "language": "python",
   "name": "python3"
  },
  "language_info": {
   "codemirror_mode": {
    "name": "ipython",
    "version": 2
   },
   "file_extension": ".py",
   "mimetype": "text/x-python",
   "name": "python",
   "nbconvert_exporter": "python",
   "pygments_lexer": "ipython2",
   "version": "2.7.6"
  }
 },
 "nbformat": 4,
 "nbformat_minor": 5
}
