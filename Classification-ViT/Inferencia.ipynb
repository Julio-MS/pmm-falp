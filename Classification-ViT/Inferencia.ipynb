{
 "cells": [
  {
   "metadata": {},
   "cell_type": "markdown",
   "source": "# Inferencia en imágenes",
   "id": "47249fcc3ddd4715"
  },
  {
   "metadata": {
    "ExecuteTime": {
     "end_time": "2024-10-23T19:22:15.480629Z",
     "start_time": "2024-10-23T19:22:15.477762Z"
    }
   },
   "cell_type": "code",
   "source": [
    "from datasets import load_from_disk\n",
    "from transformers import pipeline\n",
    "from transformers.pipelines.pt_utils import KeyDataset\n",
    "import numpy as np\n",
    "from Utils import confusion_matrix"
   ],
   "id": "d74c0c93fdc5a3cb",
   "outputs": [],
   "execution_count": 14
  },
  {
   "metadata": {
    "ExecuteTime": {
     "end_time": "2024-10-23T19:22:18.374532Z",
     "start_time": "2024-10-23T19:22:15.806315Z"
    }
   },
   "cell_type": "code",
   "source": [
    "# Parámetros\n",
    "_checkpoint = 'SavedModels/Cal_ViT-large-patch16-224_A.ipynb/checkpoint-3780'  # path al checkpoint a cargar\n",
    "classifier = pipeline(\"image-classification\", model=_checkpoint, device=\"mps\")"
   ],
   "id": "901957d6f0d5d193",
   "outputs": [],
   "execution_count": 15
  },
  {
   "metadata": {},
   "cell_type": "markdown",
   "source": "## En dataset",
   "id": "b559d885f27eb1c0"
  },
  {
   "metadata": {
    "ExecuteTime": {
     "end_time": "2024-10-23T19:22:18.416276Z",
     "start_time": "2024-10-23T19:22:18.390137Z"
    }
   },
   "cell_type": "code",
   "source": [
    "_dataset_test = '/Users/julio/Documentos-Local/data/VinDr-Mammo/subsets/calcifications_3Categories_split/test'\n",
    "\n",
    "dataset = load_from_disk(_dataset_test)"
   ],
   "id": "2f3f71570d1b58db",
   "outputs": [],
   "execution_count": 16
  },
  {
   "metadata": {
    "ExecuteTime": {
     "end_time": "2024-10-23T19:22:18.426066Z",
     "start_time": "2024-10-23T19:22:18.423722Z"
    }
   },
   "cell_type": "code",
   "source": [
    "labels = dataset.features['label'].names\n",
    "label2id = {c:idx for idx,c in enumerate(labels)}\n",
    "id2label = {idx:c for idx,c in enumerate(labels)}"
   ],
   "id": "25444934c5162f63",
   "outputs": [],
   "execution_count": 17
  },
  {
   "metadata": {},
   "cell_type": "markdown",
   "source": "### Mostrar algunas predicciones",
   "id": "39050d2dd97d72b4"
  },
  {
   "metadata": {},
   "cell_type": "code",
   "outputs": [],
   "execution_count": null,
   "source": [
    "cont = 0\n",
    "for i, out in enumerate(classifier(KeyDataset(dataset, \"image\"))):\n",
    "    if cont > 100:\n",
    "        break\n",
    "    else:\n",
    "        predicted_label = out[0]['label']\n",
    "        predicted_score = out[0]['score']\n",
    "        real_label = id2label[dataset[i]['label']]  # Obtener la etiqueta real\n",
    "        print(f\"Predicción: {predicted_label} - {predicted_score * 100:.2f}%, Etiqueta real: {real_label}\")\n",
    "        cont += 1\n"
   ],
   "id": "b56f0e5eeeab43d3"
  },
  {
   "metadata": {},
   "cell_type": "markdown",
   "source": "### Matriz de confusion",
   "id": "f7d6fdbffac9a4a4"
  },
  {
   "metadata": {
    "jupyter": {
     "is_executing": true
    },
    "ExecuteTime": {
     "start_time": "2024-10-23T19:22:22.442002Z"
    }
   },
   "cell_type": "code",
   "source": [
    "# Inicializar listas para las etiquetas reales y predichas\n",
    "y_true = []\n",
    "y_pred = []\n",
    "\n",
    "# Inferencia sobre el conjunto de test\n",
    "for sample in dataset:\n",
    "    # Realizar predicción sobre la imagen\n",
    "    prediction = classifier(sample['image'])[0]  # Primera predicción más probable\n",
    "    predicted_label = prediction['label']\n",
    "    \n",
    "    # Guardar las etiquetas real y predicha\n",
    "    y_true.append(sample['label'])  # Índice de etiqueta real\n",
    "    y_pred.append(label2id[predicted_label])  # Convertir la predicción a índice\n",
    "\n",
    "# Crear un diccionario para simular la estructura esperada por tu función\n",
    "samples_dict = {'label': np.array(y_true)}  # Las etiquetas reales como array\n",
    "\n",
    "# Llamar a la función de matriz de confusión sin modificarla\n",
    "confusion_matrix(samples_dict, y_pred, labels)"
   ],
   "id": "8e02e19301377fa5",
   "outputs": [],
   "execution_count": null
  },
  {
   "metadata": {},
   "cell_type": "markdown",
   "source": "## Por imagen ",
   "id": "eebc35b5bfc99fed"
  },
  {
   "metadata": {
    "ExecuteTime": {
     "end_time": "2024-10-17T20:23:23.332176Z",
     "start_time": "2024-10-17T20:23:23.062115Z"
    }
   },
   "cell_type": "code",
   "source": "classifier('/Users/julio/Library/Mobile Documents/com~apple~CloudDocs/Downloads/output.png')",
   "id": "cd27d286f34bc84e",
   "outputs": [
    {
     "data": {
      "text/plain": [
       "[{'label': 'calcificaciones', 'score': 0.9976891279220581},\n",
       " {'label': 'masas', 'score': 0.14085496962070465},\n",
       " {'label': 'no_encontrado', 'score': 0.0005524149746634066}]"
      ]
     },
     "execution_count": 3,
     "metadata": {},
     "output_type": "execute_result"
    }
   ],
   "execution_count": 3
  }
 ],
 "metadata": {
  "kernelspec": {
   "display_name": "Python 3",
   "language": "python",
   "name": "python3"
  },
  "language_info": {
   "codemirror_mode": {
    "name": "ipython",
    "version": 2
   },
   "file_extension": ".py",
   "mimetype": "text/x-python",
   "name": "python",
   "nbconvert_exporter": "python",
   "pygments_lexer": "ipython2",
   "version": "2.7.6"
  }
 },
 "nbformat": 4,
 "nbformat_minor": 5
}
