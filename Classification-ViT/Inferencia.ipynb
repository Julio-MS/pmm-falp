{
 "cells": [
  {
   "metadata": {},
   "cell_type": "markdown",
   "source": "# Inferencia en imágenes",
   "id": "47249fcc3ddd4715"
  },
  {
   "metadata": {
    "ExecuteTime": {
     "end_time": "2024-10-14T22:15:27.453254Z",
     "start_time": "2024-10-14T22:15:23.323035Z"
    }
   },
   "cell_type": "code",
   "source": [
    "from datasets import load_from_disk\n",
    "from transformers import pipeline\n",
    "from transformers.pipelines.pt_utils import KeyDataset"
   ],
   "id": "d74c0c93fdc5a3cb",
   "outputs": [],
   "execution_count": 1
  },
  {
   "metadata": {
    "ExecuteTime": {
     "end_time": "2024-10-14T22:15:29.773565Z",
     "start_time": "2024-10-14T22:15:27.461433Z"
    }
   },
   "cell_type": "code",
   "source": [
    "# Parámetros\n",
    "_checkpoint = 'SavedModels/ViT-large-patch16-224_B/checkpoint-7520'  # path al checkpoint a cargar\n",
    "classifier = pipeline(\"image-classification\", model=_checkpoint, device=\"mps\")"
   ],
   "id": "901957d6f0d5d193",
   "outputs": [],
   "execution_count": 2
  },
  {
   "metadata": {},
   "cell_type": "markdown",
   "source": "## En dataset",
   "id": "b559d885f27eb1c0"
  },
  {
   "metadata": {
    "ExecuteTime": {
     "end_time": "2024-10-11T00:19:08.289337Z",
     "start_time": "2024-10-11T00:19:08.242337Z"
    }
   },
   "cell_type": "code",
   "outputs": [],
   "execution_count": 23,
   "source": [
    "_dataset_test = '/Users/julio/Documentos-Local/data/VinDr-Mammo/subsets/images_massas_balanced_A_split/test'\n",
    "\n",
    "dataset = load_from_disk(_dataset_test)"
   ],
   "id": "2f3f71570d1b58db"
  },
  {
   "metadata": {
    "ExecuteTime": {
     "end_time": "2024-10-11T00:19:10.001490Z",
     "start_time": "2024-10-11T00:19:09.998103Z"
    }
   },
   "cell_type": "code",
   "outputs": [],
   "execution_count": 24,
   "source": [
    "labels = dataset.features['label'].names\n",
    "label2id = {c:idx for idx,c in enumerate(labels)}\n",
    "id2label = {idx:c for idx,c in enumerate(labels)}"
   ],
   "id": "25444934c5162f63"
  },
  {
   "metadata": {
    "ExecuteTime": {
     "end_time": "2024-10-11T00:23:52.730412Z",
     "start_time": "2024-10-11T00:23:50.077078Z"
    }
   },
   "cell_type": "code",
   "source": [
    "cont = 0\n",
    "for i, out in enumerate(classifier(KeyDataset(dataset, \"image\"))):\n",
    "    if cont > 100:\n",
    "        break\n",
    "    else:\n",
    "        predicted_label = out[0]['label']\n",
    "        predicted_score = out[0]['score']\n",
    "        real_label = id2label[dataset[i]['label']] # Obtener la etiqueta real\n",
    "        print(f\"Predicción: {predicted_label} - {predicted_score * 100:.2f}%, Etiqueta real: {real_label}\")\n",
    "        cont += 1\n",
    "    "
   ],
   "id": "8e02e19301377fa5",
   "outputs": [
    {
     "name": "stdout",
     "output_type": "stream",
     "text": [
      "Predicción: masas - 99.45%, Etiqueta real: masas\n",
      "Predicción: masas - 99.93%, Etiqueta real: masas\n",
      "Predicción: calcificaciones - 98.44%, Etiqueta real: calcificaciones\n",
      "Predicción: calcificaciones - 99.88%, Etiqueta real: calcificaciones\n",
      "Predicción: masas - 99.85%, Etiqueta real: masas\n",
      "Predicción: calcificaciones - 95.70%, Etiqueta real: calcificaciones\n",
      "Predicción: calcificaciones - 99.65%, Etiqueta real: calcificaciones\n",
      "Predicción: masas - 90.24%, Etiqueta real: masas\n",
      "Predicción: masas - 99.53%, Etiqueta real: masas\n",
      "Predicción: calcificaciones - 74.38%, Etiqueta real: calcificaciones\n",
      "Predicción: calcificaciones - 72.12%, Etiqueta real: calcificaciones\n",
      "Predicción: calcificaciones - 99.89%, Etiqueta real: calcificaciones\n",
      "Predicción: calcificaciones - 99.72%, Etiqueta real: calcificaciones\n",
      "Predicción: calcificaciones - 99.65%, Etiqueta real: calcificaciones\n",
      "Predicción: masas - 98.97%, Etiqueta real: masas\n",
      "Predicción: masas - 99.87%, Etiqueta real: masas\n",
      "Predicción: calcificaciones - 99.74%, Etiqueta real: calcificaciones\n",
      "Predicción: masas - 84.97%, Etiqueta real: calcificaciones\n",
      "Predicción: masas - 99.70%, Etiqueta real: masas\n",
      "Predicción: calcificaciones - 89.30%, Etiqueta real: calcificaciones\n",
      "Predicción: masas - 99.84%, Etiqueta real: masas\n",
      "Predicción: masas - 99.92%, Etiqueta real: masas\n",
      "Predicción: masas - 98.69%, Etiqueta real: masas\n",
      "Predicción: masas - 99.83%, Etiqueta real: masas\n",
      "Predicción: masas - 98.84%, Etiqueta real: masas\n",
      "Predicción: masas - 80.07%, Etiqueta real: masas\n",
      "Predicción: calcificaciones - 99.80%, Etiqueta real: calcificaciones\n",
      "Predicción: masas - 76.30%, Etiqueta real: masas\n",
      "Predicción: calcificaciones - 89.90%, Etiqueta real: masas\n",
      "Predicción: masas - 99.90%, Etiqueta real: masas\n",
      "Predicción: calcificaciones - 99.03%, Etiqueta real: masas\n",
      "Predicción: masas - 99.90%, Etiqueta real: masas\n",
      "Predicción: masas - 86.59%, Etiqueta real: masas\n",
      "Predicción: masas - 99.87%, Etiqueta real: masas\n",
      "Predicción: masas - 99.23%, Etiqueta real: masas\n",
      "Predicción: calcificaciones - 99.91%, Etiqueta real: calcificaciones\n",
      "Predicción: calcificaciones - 99.89%, Etiqueta real: calcificaciones\n",
      "Predicción: masas - 99.90%, Etiqueta real: masas\n",
      "Predicción: calcificaciones - 97.28%, Etiqueta real: calcificaciones\n",
      "Predicción: calcificaciones - 95.21%, Etiqueta real: calcificaciones\n",
      "Predicción: calcificaciones - 99.72%, Etiqueta real: calcificaciones\n",
      "Predicción: masas - 99.66%, Etiqueta real: masas\n",
      "Predicción: calcificaciones - 99.82%, Etiqueta real: calcificaciones\n",
      "Predicción: masas - 97.87%, Etiqueta real: masas\n",
      "Predicción: masas - 99.84%, Etiqueta real: masas\n",
      "Predicción: masas - 85.87%, Etiqueta real: masas\n",
      "Predicción: masas - 99.30%, Etiqueta real: masas\n",
      "Predicción: calcificaciones - 55.87%, Etiqueta real: calcificaciones\n",
      "Predicción: calcificaciones - 85.91%, Etiqueta real: calcificaciones\n",
      "Predicción: masas - 99.86%, Etiqueta real: masas\n",
      "Predicción: calcificaciones - 94.85%, Etiqueta real: calcificaciones\n",
      "Predicción: calcificaciones - 99.89%, Etiqueta real: calcificaciones\n",
      "Predicción: calcificaciones - 99.29%, Etiqueta real: calcificaciones\n",
      "Predicción: masas - 98.94%, Etiqueta real: masas\n",
      "Predicción: masas - 99.85%, Etiqueta real: masas\n",
      "Predicción: calcificaciones - 99.87%, Etiqueta real: calcificaciones\n",
      "Predicción: masas - 84.82%, Etiqueta real: masas\n",
      "Predicción: calcificaciones - 99.74%, Etiqueta real: calcificaciones\n",
      "Predicción: calcificaciones - 99.85%, Etiqueta real: calcificaciones\n",
      "Predicción: masas - 99.65%, Etiqueta real: masas\n",
      "Predicción: calcificaciones - 99.58%, Etiqueta real: calcificaciones\n",
      "Predicción: masas - 85.59%, Etiqueta real: masas\n",
      "Predicción: masas - 99.93%, Etiqueta real: masas\n",
      "Predicción: masas - 89.03%, Etiqueta real: masas\n",
      "Predicción: calcificaciones - 99.84%, Etiqueta real: calcificaciones\n",
      "Predicción: calcificaciones - 99.56%, Etiqueta real: masas\n",
      "Predicción: masas - 99.95%, Etiqueta real: masas\n",
      "Predicción: masas - 98.85%, Etiqueta real: calcificaciones\n",
      "Predicción: calcificaciones - 54.14%, Etiqueta real: masas\n",
      "Predicción: masas - 99.12%, Etiqueta real: masas\n",
      "Predicción: calcificaciones - 90.64%, Etiqueta real: calcificaciones\n",
      "Predicción: masas - 99.85%, Etiqueta real: masas\n",
      "Predicción: calcificaciones - 99.85%, Etiqueta real: calcificaciones\n",
      "Predicción: masas - 99.52%, Etiqueta real: masas\n",
      "Predicción: masas - 99.90%, Etiqueta real: masas\n",
      "Predicción: masas - 99.95%, Etiqueta real: masas\n",
      "Predicción: masas - 99.57%, Etiqueta real: calcificaciones\n",
      "Predicción: masas - 99.90%, Etiqueta real: masas\n",
      "Predicción: masas - 99.34%, Etiqueta real: masas\n",
      "Predicción: calcificaciones - 65.51%, Etiqueta real: calcificaciones\n",
      "Predicción: calcificaciones - 99.67%, Etiqueta real: calcificaciones\n",
      "Predicción: calcificaciones - 98.72%, Etiqueta real: masas\n",
      "Predicción: calcificaciones - 99.57%, Etiqueta real: calcificaciones\n",
      "Predicción: masas - 99.69%, Etiqueta real: masas\n",
      "Predicción: masas - 92.61%, Etiqueta real: calcificaciones\n",
      "Predicción: masas - 99.90%, Etiqueta real: masas\n",
      "Predicción: masas - 99.94%, Etiqueta real: masas\n",
      "Predicción: calcificaciones - 99.71%, Etiqueta real: calcificaciones\n",
      "Predicción: masas - 99.55%, Etiqueta real: masas\n",
      "Predicción: masas - 69.87%, Etiqueta real: masas\n",
      "Predicción: masas - 99.87%, Etiqueta real: calcificaciones\n",
      "Predicción: calcificaciones - 99.44%, Etiqueta real: calcificaciones\n",
      "Predicción: calcificaciones - 84.06%, Etiqueta real: masas\n",
      "Predicción: calcificaciones - 99.80%, Etiqueta real: calcificaciones\n",
      "Predicción: masas - 99.87%, Etiqueta real: masas\n",
      "Predicción: calcificaciones - 99.66%, Etiqueta real: calcificaciones\n",
      "Predicción: calcificaciones - 99.72%, Etiqueta real: masas\n",
      "Predicción: calcificaciones - 99.75%, Etiqueta real: calcificaciones\n",
      "Predicción: calcificaciones - 99.23%, Etiqueta real: calcificaciones\n",
      "Predicción: calcificaciones - 95.31%, Etiqueta real: calcificaciones\n",
      "Predicción: masas - 99.76%, Etiqueta real: masas\n"
     ]
    }
   ],
   "execution_count": 33
  },
  {
   "metadata": {},
   "cell_type": "markdown",
   "source": "## Por imagen ",
   "id": "eebc35b5bfc99fed"
  },
  {
   "metadata": {
    "ExecuteTime": {
     "end_time": "2024-10-14T22:25:42.837394Z",
     "start_time": "2024-10-14T22:25:42.705814Z"
    }
   },
   "cell_type": "code",
   "source": "classifier('/Users/julio/Documentos-Local/data/Dataset of Mammography with Benign Malignant Breast Masses/INbreast Dataset/Malignant Masses/20586986 (15).png')",
   "id": "cd27d286f34bc84e",
   "outputs": [
    {
     "data": {
      "text/plain": [
       "[{'label': 'masas', 'score': 0.999576985836029},\n",
       " {'label': 'calcificaciones', 'score': 0.2247180938720703},\n",
       " {'label': 'no_encontrado', 'score': 0.00286688725464046}]"
      ]
     },
     "execution_count": 10,
     "metadata": {},
     "output_type": "execute_result"
    }
   ],
   "execution_count": 10
  }
 ],
 "metadata": {
  "kernelspec": {
   "display_name": "Python 3",
   "language": "python",
   "name": "python3"
  },
  "language_info": {
   "codemirror_mode": {
    "name": "ipython",
    "version": 2
   },
   "file_extension": ".py",
   "mimetype": "text/x-python",
   "name": "python",
   "nbconvert_exporter": "python",
   "pygments_lexer": "ipython2",
   "version": "2.7.6"
  }
 },
 "nbformat": 4,
 "nbformat_minor": 5
}
