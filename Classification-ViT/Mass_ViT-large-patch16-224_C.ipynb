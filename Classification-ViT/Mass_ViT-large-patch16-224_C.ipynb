{
 "cells": [
  {
   "metadata": {},
   "cell_type": "markdown",
   "source": [
    "ViT-based model using Transfer-Learning\n",
    "---\n",
    "#### Model: google/vit-large-patch16-224, descongelando las últimas 3 capas del encoder\n",
    "#### Epochs: 10\n",
    "#### Dataset: masas_3categorias\n",
    "#### Cambios:\n",
    "- DropOut:\n",
    "    - Clasificador 0.3\n",
    "    - HiddenLayer 0.2\n",
    "    - AttentionLayer 0.2\n",
    "- Learning Rate 1e-4   \n",
    "- Uso de función Weighted Loss  "
   ],
   "id": "7022885cdaf44b3"
  },
  {
   "metadata": {
    "ExecuteTime": {
     "end_time": "2024-10-23T03:26:43.216763Z",
     "start_time": "2024-10-23T03:26:43.212580Z"
    }
   },
   "cell_type": "code",
   "source": [
    "# Parámetros\n",
    "_model = 'google/vit-large-patch16-224'\n",
    "# path al checkpoint a cargar, None si no existe\n",
    "_checkpoint = None\n",
    "_output = 'SavedModels/Mass_ViT-large-patch16-224_C'  # path para guardar el modelo\n",
    "\n",
    "_dataset = '/Users/julio/Documentos-Local/data/VinDr-Mammo/subsets/masas_3categorias'\n",
    "\n",
    "# path para guardar el dataset con split\n",
    "_dataset_split_path = '/Users/julio/Documentos-Local/data/VinDr-Mammo/subsets/masas_3categorias_split'  \n",
    "\n",
    "# Si el dataset ya está separado en train, validation y test ->  _dataset_split=_dataset_split_path. \n",
    "# Si no está separado -> _dataset_split=None.\n",
    "_dataset_split = _dataset_split_path  \n",
    "\n",
    "_batch_size = 16\n",
    "_learning_rate = 1e-4\n",
    "_epochs = 10  # Entrenamiento solo por 10 epochs\n",
    "\n",
    "# DropOut\n",
    "_dp_clasificador = 0.3\n",
    "_dp_hidden_layer = 0.2\n",
    "_dp_attention_layer= 0.2\n",
    "\n",
    "num_layers_to_unfreeze = 5  # Definir el número de capas a descongelar, None eoc"
   ],
   "id": "70a22524132806c4",
   "outputs": [],
   "execution_count": 1
  },
  {
   "cell_type": "code",
   "id": "initial_id",
   "metadata": {
    "collapsed": true,
    "ExecuteTime": {
     "end_time": "2024-10-23T03:26:45.818278Z",
     "start_time": "2024-10-23T03:26:43.219917Z"
    }
   },
   "source": [
    "import torch\n",
    "import torch.nn as nn\n",
    "import pandas as pd\n",
    "from collections import Counter\n",
    "from datasets import load_dataset, DatasetDict, load_from_disk\n",
    "\n",
    "from transformers import AutoImageProcessor, ViTForImageClassification\n",
    "\n",
    "from transformers import Trainer, TrainingArguments\n",
    "\n",
    "import evaluate\n",
    "\n",
    "from Utils import *"
   ],
   "outputs": [],
   "execution_count": 2
  },
  {
   "metadata": {},
   "cell_type": "markdown",
   "source": "## Carga de datos",
   "id": "86c5c376167db015"
  },
  {
   "metadata": {
    "ExecuteTime": {
     "end_time": "2024-10-23T03:26:45.957089Z",
     "start_time": "2024-10-23T03:26:45.911567Z"
    }
   },
   "cell_type": "code",
   "source": [
    "if _dataset_split is None:\n",
    "    dataset = load_dataset(_dataset)\n",
    "else:\n",
    "    # Cargar el dataset previamente guardado\n",
    "    dataset = load_from_disk(_dataset_split_path)\n",
    "\n",
    "dataset"
   ],
   "id": "3cc4f4afb99d5cf2",
   "outputs": [
    {
     "data": {
      "text/plain": [
       "DatasetDict({\n",
       "    train: Dataset({\n",
       "        features: ['image', 'label'],\n",
       "        num_rows: 2001\n",
       "    })\n",
       "    validation: Dataset({\n",
       "        features: ['image', 'label'],\n",
       "        num_rows: 250\n",
       "    })\n",
       "    test: Dataset({\n",
       "        features: ['image', 'label'],\n",
       "        num_rows: 251\n",
       "    })\n",
       "})"
      ]
     },
     "execution_count": 3,
     "metadata": {},
     "output_type": "execute_result"
    }
   ],
   "execution_count": 3
  },
  {
   "metadata": {},
   "cell_type": "markdown",
   "source": "### Revisión de categorías",
   "id": "74ee833516aa9480"
  },
  {
   "metadata": {
    "ExecuteTime": {
     "end_time": "2024-10-23T03:26:45.980599Z",
     "start_time": "2024-10-23T03:26:45.978309Z"
    }
   },
   "cell_type": "code",
   "source": [
    "labels = dataset['train'].features['label'].names\n",
    "print(len(labels),labels)\n",
    "\n",
    "label2id = {c:idx for idx,c in enumerate(labels)}\n",
    "id2label = {idx:c for idx,c in enumerate(labels)}"
   ],
   "id": "672104ff2885bdeb",
   "outputs": [
    {
     "name": "stdout",
     "output_type": "stream",
     "text": [
      "3 ['benigno', 'maligno', 'sospechoso']\n"
     ]
    }
   ],
   "execution_count": 4
  },
  {
   "metadata": {},
   "cell_type": "markdown",
   "source": "## Muestra de ejemplos",
   "id": "8a5e0a4c31f70014"
  },
  {
   "metadata": {
    "ExecuteTime": {
     "end_time": "2024-10-23T03:26:46.000853Z",
     "start_time": "2024-10-23T03:26:45.998110Z"
    }
   },
   "cell_type": "code",
   "source": [
    "def show_samples(ds,rows,cols):\n",
    "    samples = ds.shuffle().select(np.arange(rows*cols)) # selecting random images\n",
    "    fig = plt.figure(figsize=(cols*4,rows*4))\n",
    "    # plotting\n",
    "    for i in range(rows*cols):\n",
    "        img = samples[i]['image']\n",
    "        label = samples[i]['label']\n",
    "        fig.add_subplot(rows,cols,i+1)\n",
    "        plt.imshow(img, cmap='gray')\n",
    "        plt.title(label)\n",
    "        plt.axis('off')\n",
    "            \n",
    "# show_samples(dataset['train'],rows=3,cols=5)"
   ],
   "id": "2e09d39396d652ae",
   "outputs": [],
   "execution_count": 5
  },
  {
   "metadata": {},
   "cell_type": "markdown",
   "source": "## Split Dataset",
   "id": "65cd6f013528a8e5"
  },
  {
   "metadata": {
    "ExecuteTime": {
     "end_time": "2024-10-23T03:26:46.025512Z",
     "start_time": "2024-10-23T03:26:46.022510Z"
    }
   },
   "cell_type": "code",
   "source": [
    "if _dataset_split is None:\n",
    "    split_dataset = dataset['train'].train_test_split(test_size=0.2)\n",
    "    eval_dataset = split_dataset['test'].train_test_split(test_size=0.5)\n",
    "    \n",
    "    \n",
    "    # Recombinar los splits \n",
    "    \n",
    "    final_dataset = DatasetDict({\n",
    "        'train': split_dataset['train'],\n",
    "        'validation': eval_dataset['train'],\n",
    "        'test': eval_dataset['test']\n",
    "    })\n",
    "    # Guardar el dataset dividido\n",
    "    final_dataset.save_to_disk(_dataset_split_path)\n",
    "\n",
    "else:\n",
    "    final_dataset = dataset\n",
    "final_dataset"
   ],
   "id": "826ff9fdce47b2e8",
   "outputs": [
    {
     "data": {
      "text/plain": [
       "DatasetDict({\n",
       "    train: Dataset({\n",
       "        features: ['image', 'label'],\n",
       "        num_rows: 2001\n",
       "    })\n",
       "    validation: Dataset({\n",
       "        features: ['image', 'label'],\n",
       "        num_rows: 250\n",
       "    })\n",
       "    test: Dataset({\n",
       "        features: ['image', 'label'],\n",
       "        num_rows: 251\n",
       "    })\n",
       "})"
      ]
     },
     "execution_count": 6,
     "metadata": {},
     "output_type": "execute_result"
    }
   ],
   "execution_count": 6
  },
  {
   "metadata": {
    "ExecuteTime": {
     "end_time": "2024-10-23T03:26:47.283886Z",
     "start_time": "2024-10-23T03:26:46.049892Z"
    }
   },
   "cell_type": "code",
   "source": [
    "print('Número de imágenes por clases en cada split')\n",
    "clases_split = pd.DataFrame(columns=['split', 'benigno', 'maligno', 'sospechoso'])\n",
    "for key in final_dataset:\n",
    "    split = pd.DataFrame(final_dataset[key])\n",
    "    num = split['label'].value_counts().sort_index()\n",
    "    clases_split.loc[len(clases_split)] = [key, *num]\n",
    "    #print(num.sort_index())\n",
    "clases_split"
   ],
   "id": "7c0520fb8246ae8c",
   "outputs": [
    {
     "name": "stdout",
     "output_type": "stream",
     "text": [
      "Número de imágenes por clases en cada split\n"
     ]
    },
    {
     "data": {
      "text/plain": [
       "        split  benigno  maligno  sospechoso\n",
       "0       train      672      674         655\n",
       "1  validation       87       83          80\n",
       "2        test       75       77          99"
      ],
      "text/html": [
       "<div>\n",
       "<style scoped>\n",
       "    .dataframe tbody tr th:only-of-type {\n",
       "        vertical-align: middle;\n",
       "    }\n",
       "\n",
       "    .dataframe tbody tr th {\n",
       "        vertical-align: top;\n",
       "    }\n",
       "\n",
       "    .dataframe thead th {\n",
       "        text-align: right;\n",
       "    }\n",
       "</style>\n",
       "<table border=\"1\" class=\"dataframe\">\n",
       "  <thead>\n",
       "    <tr style=\"text-align: right;\">\n",
       "      <th></th>\n",
       "      <th>split</th>\n",
       "      <th>benigno</th>\n",
       "      <th>maligno</th>\n",
       "      <th>sospechoso</th>\n",
       "    </tr>\n",
       "  </thead>\n",
       "  <tbody>\n",
       "    <tr>\n",
       "      <th>0</th>\n",
       "      <td>train</td>\n",
       "      <td>672</td>\n",
       "      <td>674</td>\n",
       "      <td>655</td>\n",
       "    </tr>\n",
       "    <tr>\n",
       "      <th>1</th>\n",
       "      <td>validation</td>\n",
       "      <td>87</td>\n",
       "      <td>83</td>\n",
       "      <td>80</td>\n",
       "    </tr>\n",
       "    <tr>\n",
       "      <th>2</th>\n",
       "      <td>test</td>\n",
       "      <td>75</td>\n",
       "      <td>77</td>\n",
       "      <td>99</td>\n",
       "    </tr>\n",
       "  </tbody>\n",
       "</table>\n",
       "</div>"
      ]
     },
     "execution_count": 7,
     "metadata": {},
     "output_type": "execute_result"
    }
   ],
   "execution_count": 7
  },
  {
   "metadata": {},
   "cell_type": "markdown",
   "source": "## Preprocesamiento de las imágenes",
   "id": "54d16d02617d0642"
  },
  {
   "metadata": {
    "ExecuteTime": {
     "end_time": "2024-10-23T03:26:48.174506Z",
     "start_time": "2024-10-23T03:26:47.307670Z"
    }
   },
   "cell_type": "code",
   "source": [
    "processor = AutoImageProcessor.from_pretrained(_model, use_fast=True)\n",
    "processor"
   ],
   "id": "1c2cd9e3e4ab5a4a",
   "outputs": [
    {
     "data": {
      "text/plain": [
       "ViTImageProcessorFast {\n",
       "  \"do_normalize\": true,\n",
       "  \"do_rescale\": true,\n",
       "  \"do_resize\": true,\n",
       "  \"image_mean\": [\n",
       "    0.5,\n",
       "    0.5,\n",
       "    0.5\n",
       "  ],\n",
       "  \"image_processor_type\": \"ViTImageProcessorFast\",\n",
       "  \"image_std\": [\n",
       "    0.5,\n",
       "    0.5,\n",
       "    0.5\n",
       "  ],\n",
       "  \"resample\": 2,\n",
       "  \"rescale_factor\": 0.00392156862745098,\n",
       "  \"size\": {\n",
       "    \"height\": 224,\n",
       "    \"width\": 224\n",
       "  }\n",
       "}"
      ]
     },
     "execution_count": 8,
     "metadata": {},
     "output_type": "execute_result"
    }
   ],
   "execution_count": 8
  },
  {
   "metadata": {
    "ExecuteTime": {
     "end_time": "2024-10-23T03:26:48.193393Z",
     "start_time": "2024-10-23T03:26:48.191246Z"
    }
   },
   "cell_type": "code",
   "source": [
    "def transforms(batch):\n",
    "    batch['image'] = [x.convert('RGB') for x in batch['image']]\n",
    "    inputs = processor(batch['image'],return_tensors='pt')\n",
    "    inputs['labels'] = batch['label']  # Las clases ya están en formato numérico\n",
    "    return inputs"
   ],
   "id": "fd8e91d20395f822",
   "outputs": [],
   "execution_count": 9
  },
  {
   "metadata": {
    "ExecuteTime": {
     "end_time": "2024-10-23T03:26:48.232919Z",
     "start_time": "2024-10-23T03:26:48.219391Z"
    }
   },
   "cell_type": "code",
   "source": "processed_dataset = final_dataset.with_transform(transforms)",
   "id": "7fd84c61b445fd27",
   "outputs": [],
   "execution_count": 10
  },
  {
   "metadata": {},
   "cell_type": "markdown",
   "source": "### Data Collation",
   "id": "3c20e0c2fcab0cbf"
  },
  {
   "metadata": {
    "ExecuteTime": {
     "end_time": "2024-10-23T03:26:48.254913Z",
     "start_time": "2024-10-23T03:26:48.252949Z"
    }
   },
   "cell_type": "code",
   "source": [
    "def collate_fn(batch):\n",
    "    return {\n",
    "        'pixel_values': torch.stack([x['pixel_values'] for x in batch]),\n",
    "        'labels': torch.tensor([x['labels'] for x in batch])\n",
    "    }"
   ],
   "id": "b594c7a07efc3686",
   "outputs": [],
   "execution_count": 11
  },
  {
   "metadata": {},
   "cell_type": "markdown",
   "source": "## Métricas de evaluación",
   "id": "248fd8bb2ba4efb4"
  },
  {
   "metadata": {
    "ExecuteTime": {
     "end_time": "2024-10-23T03:26:53.103437Z",
     "start_time": "2024-10-23T03:26:48.261079Z"
    }
   },
   "cell_type": "code",
   "source": [
    "import numpy as np\n",
    "import evaluate\n",
    "\n",
    "accuracy = evaluate.load('accuracy')\n",
    "precision = evaluate.load('precision')\n",
    "recall = evaluate.load('recall')\n",
    "f1 = evaluate.load('f1')\n",
    "\n",
    "def compute_metrics(eval_preds):\n",
    "    logits, labels = eval_preds\n",
    "    predictions = np.argmax(logits, axis=1)\n",
    "\n",
    "    print(\"Conteo de etiquetas reales:\", Counter(labels))\n",
    "    print(\"Conteo de predicciones:\", Counter(predictions))\n",
    "    \n",
    "    precision_per_class = precision.compute(\n",
    "    predictions=predictions, references=labels, average=None)\n",
    "    print(\"Precision por clase:\", precision_per_class)\n",
    "\n",
    "    # Accuracy no requiere el parámetro average\n",
    "    accuracy_score = accuracy.compute(predictions=predictions, references=labels)['accuracy']\n",
    "    \n",
    "    # Las demás métricas sí requieren el parámetro average para multiclase\n",
    "    precision_score = precision.compute(predictions=predictions, references=labels, average='macro')['precision']\n",
    "    recall_score = recall.compute(predictions=predictions, references=labels, average='macro')['recall']\n",
    "    f1_score = f1.compute(predictions=predictions, references=labels, average='macro')['f1']\n",
    "    \n",
    "    return {\n",
    "        'accuracy': accuracy_score,\n",
    "        'precision': precision_score,\n",
    "        'recall': recall_score,\n",
    "        'f1': f1_score\n",
    "    }"
   ],
   "id": "eeb8010325f0f0cc",
   "outputs": [],
   "execution_count": 12
  },
  {
   "metadata": {},
   "cell_type": "markdown",
   "source": "## Carga del modelo",
   "id": "952d173ae5c464b6"
  },
  {
   "metadata": {
    "ExecuteTime": {
     "end_time": "2024-10-23T03:26:56.533489Z",
     "start_time": "2024-10-23T03:26:53.119188Z"
    }
   },
   "cell_type": "code",
   "source": [
    "# Clase personalizada que añade dropout antes de la capa final de clasificación\n",
    "class CustomViTForImageClassification(ViTForImageClassification):\n",
    "    def __init__(self, config):\n",
    "        super().__init__(config)\n",
    "        \n",
    "        # Dropout adicional antes de la capa final\n",
    "        self.additional_dropout = nn.Dropout(_dp_clasificador)  # Dropout antes del clasificador\n",
    "        self.classifier = nn.Linear(config.hidden_size, config.num_labels)\n",
    "\n",
    "    def forward(self, pixel_values, labels=None):\n",
    "        outputs = self.vit(pixel_values)  # Obtenemos la salida del modelo ViT\n",
    "        \n",
    "        # Usamos el primer token [CLS] de la salida\n",
    "        pooled_output = outputs.last_hidden_state[:, 0]  # [CLS] está en la posición 0\n",
    "        \n",
    "        # Aplicamos dropout adicional antes de la clasificación\n",
    "        pooled_output = self.additional_dropout(pooled_output)\n",
    "        logits = self.classifier(pooled_output)\n",
    "        \n",
    "        loss = None\n",
    "        if labels is not None:\n",
    "            # Asegúrate de que las etiquetas sean tipo long (para clasificación)\n",
    "            class_weights = torch.tensor([1.0, 1.0, 1.5], dtype=torch.float32)  # Aumentar peso de \"sospechoso\"\n",
    "            loss_fn = nn.CrossEntropyLoss(weight=class_weights.to(self.device))  # Enviar los pesos al dispositivo\n",
    "            loss = loss_fn(logits, labels)\n",
    "        \n",
    "        return (loss, logits) if loss is not None else logits\n",
    "\n",
    "# Configuramos el modelo base con Dropout en las capas internas del ViT\n",
    "model = CustomViTForImageClassification.from_pretrained(\n",
    "    _model,\n",
    "    num_labels = len(labels),\n",
    "    id2label = id2label,\n",
    "    label2id = label2id,\n",
    "    hidden_dropout_prob=_dp_hidden_layer,  # Dropout en las capas internas del modelo\n",
    "    attention_probs_dropout_prob=_dp_attention_layer,  # Dropout en las capas de atención\n",
    "    ignore_mismatched_sizes = True\n",
    ")"
   ],
   "id": "90238aad36c0de2b",
   "outputs": [
    {
     "name": "stderr",
     "output_type": "stream",
     "text": [
      "Some weights of CustomViTForImageClassification were not initialized from the model checkpoint at google/vit-large-patch16-224 and are newly initialized because the shapes did not match:\n",
      "- classifier.weight: found shape torch.Size([1000, 1024]) in the checkpoint and torch.Size([3, 1024]) in the model instantiated\n",
      "- classifier.bias: found shape torch.Size([1000]) in the checkpoint and torch.Size([3]) in the model instantiated\n",
      "You should probably TRAIN this model on a down-stream task to be able to use it for predictions and inference.\n"
     ]
    }
   ],
   "execution_count": 13
  },
  {
   "metadata": {},
   "cell_type": "markdown",
   "source": "### Arquitectura del modelo",
   "id": "922184390f5b66e1"
  },
  {
   "metadata": {
    "ExecuteTime": {
     "end_time": "2024-10-23T03:26:56.553691Z",
     "start_time": "2024-10-23T03:26:56.549907Z"
    }
   },
   "cell_type": "code",
   "source": "model",
   "id": "46712562a7213709",
   "outputs": [
    {
     "data": {
      "text/plain": [
       "CustomViTForImageClassification(\n",
       "  (vit): ViTModel(\n",
       "    (embeddings): ViTEmbeddings(\n",
       "      (patch_embeddings): ViTPatchEmbeddings(\n",
       "        (projection): Conv2d(3, 1024, kernel_size=(16, 16), stride=(16, 16))\n",
       "      )\n",
       "      (dropout): Dropout(p=0.2, inplace=False)\n",
       "    )\n",
       "    (encoder): ViTEncoder(\n",
       "      (layer): ModuleList(\n",
       "        (0-23): 24 x ViTLayer(\n",
       "          (attention): ViTSdpaAttention(\n",
       "            (attention): ViTSdpaSelfAttention(\n",
       "              (query): Linear(in_features=1024, out_features=1024, bias=True)\n",
       "              (key): Linear(in_features=1024, out_features=1024, bias=True)\n",
       "              (value): Linear(in_features=1024, out_features=1024, bias=True)\n",
       "              (dropout): Dropout(p=0.2, inplace=False)\n",
       "            )\n",
       "            (output): ViTSelfOutput(\n",
       "              (dense): Linear(in_features=1024, out_features=1024, bias=True)\n",
       "              (dropout): Dropout(p=0.2, inplace=False)\n",
       "            )\n",
       "          )\n",
       "          (intermediate): ViTIntermediate(\n",
       "            (dense): Linear(in_features=1024, out_features=4096, bias=True)\n",
       "            (intermediate_act_fn): GELUActivation()\n",
       "          )\n",
       "          (output): ViTOutput(\n",
       "            (dense): Linear(in_features=4096, out_features=1024, bias=True)\n",
       "            (dropout): Dropout(p=0.2, inplace=False)\n",
       "          )\n",
       "          (layernorm_before): LayerNorm((1024,), eps=1e-12, elementwise_affine=True)\n",
       "          (layernorm_after): LayerNorm((1024,), eps=1e-12, elementwise_affine=True)\n",
       "        )\n",
       "      )\n",
       "    )\n",
       "    (layernorm): LayerNorm((1024,), eps=1e-12, elementwise_affine=True)\n",
       "  )\n",
       "  (classifier): Linear(in_features=1024, out_features=3, bias=True)\n",
       "  (additional_dropout): Dropout(p=0.3, inplace=False)\n",
       ")"
      ]
     },
     "execution_count": 14,
     "metadata": {},
     "output_type": "execute_result"
    }
   ],
   "execution_count": 14
  },
  {
   "metadata": {},
   "cell_type": "markdown",
   "source": "### Congelar todas las capas, menos el clasificador",
   "id": "de3fe87175e49406"
  },
  {
   "metadata": {
    "ExecuteTime": {
     "end_time": "2024-10-23T03:26:56.574708Z",
     "start_time": "2024-10-23T03:26:56.572237Z"
    }
   },
   "cell_type": "code",
   "source": [
    "for name,p in model.named_parameters():\n",
    "    if not name.startswith('classifier'):\n",
    "        p.requires_grad = False"
   ],
   "id": "7b12d0b8faee7367",
   "outputs": [],
   "execution_count": 15
  },
  {
   "metadata": {
    "ExecuteTime": {
     "end_time": "2024-10-23T03:26:56.587561Z",
     "start_time": "2024-10-23T03:26:56.584274Z"
    }
   },
   "cell_type": "code",
   "source": [
    "num_params = sum([p.numel() for p in model.parameters()])\n",
    "trainable_params = sum([p.numel() for p in model.parameters() if p.requires_grad])\n",
    "\n",
    "print(f\"{num_params = :,} | {trainable_params = :,}\")"
   ],
   "id": "64c82a89eda67be7",
   "outputs": [
    {
     "name": "stdout",
     "output_type": "stream",
     "text": [
      "num_params = 303,304,707 | trainable_params = 3,075\n"
     ]
    }
   ],
   "execution_count": 16
  },
  {
   "metadata": {},
   "cell_type": "markdown",
   "source": "### Descongelar capas del encoder para fine-tuning",
   "id": "5ed4701c8e3fa107"
  },
  {
   "metadata": {
    "ExecuteTime": {
     "end_time": "2024-10-23T03:26:56.607120Z",
     "start_time": "2024-10-23T03:26:56.604940Z"
    }
   },
   "cell_type": "code",
   "source": [
    "# Obtener el número total de capas en el encoder\n",
    "num_total_layers = len(list(model.vit.encoder.layer))  # Debería ser 24 para ViT-Large, 12 para ViT-base\n",
    "print(num_total_layers)"
   ],
   "id": "94cb222cd820fbde",
   "outputs": [
    {
     "name": "stdout",
     "output_type": "stream",
     "text": [
      "24\n"
     ]
    }
   ],
   "execution_count": 17
  },
  {
   "metadata": {
    "ExecuteTime": {
     "end_time": "2024-10-23T03:26:56.634214Z",
     "start_time": "2024-10-23T03:26:56.631352Z"
    }
   },
   "cell_type": "code",
   "source": [
    "# Si se descongelan capas\n",
    "if num_layers_to_unfreeze is not None:\n",
    "    # Calcular el índice a partir del cual descongelar\n",
    "    unfreeze_from = num_total_layers - num_layers_to_unfreeze\n",
    "    \n",
    "    # Iterar sobre todas las capas del encoder\n",
    "    for idx, layer in enumerate(model.vit.encoder.layer):\n",
    "        if idx >= unfreeze_from:\n",
    "            # Descongelar esta capa\n",
    "            for param in layer.parameters():\n",
    "                param.requires_grad = True\n",
    "        else:\n",
    "            # Congelar esta capa\n",
    "            for param in layer.parameters():\n",
    "                param.requires_grad = False\n"
   ],
   "id": "7b3a8cb360656483",
   "outputs": [],
   "execution_count": 18
  },
  {
   "metadata": {
    "ExecuteTime": {
     "end_time": "2024-10-23T03:26:56.652777Z",
     "start_time": "2024-10-23T03:26:56.649375Z"
    }
   },
   "cell_type": "code",
   "source": [
    "# Mostrar el número total de parámetros y los entrenables después de descongelar\n",
    "num_params = sum(p.numel() for p in model.parameters())\n",
    "trainable_params = sum(p.numel() for p in model.parameters() if p.requires_grad)\n",
    "print(f\"Después de descongelar las últimas {num_layers_to_unfreeze} capas:\")\n",
    "print(f\"Total de parámetros: {num_params:,}\")\n",
    "print(f\"Parámetros entrenables: {trainable_params:,}\")"
   ],
   "id": "e145df6d86c1cc9",
   "outputs": [
    {
     "name": "stdout",
     "output_type": "stream",
     "text": [
      "Después de descongelar las últimas 5 capas:\n",
      "Total de parámetros: 303,304,707\n",
      "Parámetros entrenables: 62,984,195\n"
     ]
    }
   ],
   "execution_count": 19
  },
  {
   "metadata": {
    "ExecuteTime": {
     "end_time": "2024-10-23T03:26:56.668850Z",
     "start_time": "2024-10-23T03:26:56.666513Z"
    }
   },
   "cell_type": "code",
   "source": [
    "# Revisión de trainable por capa\n",
    "for name, param in model.named_parameters():\n",
    "    status = \"Trainable\" if param.requires_grad else \"Frozen\"\n",
    "    #print(f\"{name}: {status}\")"
   ],
   "id": "f7dfb567949b7bbf",
   "outputs": [],
   "execution_count": 20
  },
  {
   "metadata": {},
   "cell_type": "markdown",
   "source": "## Training",
   "id": "19a3a741baf42170"
  },
  {
   "metadata": {
    "ExecuteTime": {
     "end_time": "2024-10-23T03:26:56.700146Z",
     "start_time": "2024-10-23T03:26:56.686565Z"
    }
   },
   "cell_type": "code",
   "source": [
    "training_args = TrainingArguments(\n",
    "    output_dir=_output,\n",
    "    per_device_train_batch_size=_batch_size,\n",
    "    eval_strategy=\"epoch\",\n",
    "    save_strategy=\"epoch\",\n",
    "    logging_steps=100,\n",
    "    num_train_epochs=_epochs,  # Epochs a entrenar -> Revisar\n",
    "    learning_rate=_learning_rate,\n",
    "    save_total_limit=2,\n",
    "    remove_unused_columns=False,\n",
    "    push_to_hub=False,\n",
    "    report_to='tensorboard',\n",
    "    load_best_model_at_end=True,\n",
    ")"
   ],
   "id": "541994dbbce332e6",
   "outputs": [],
   "execution_count": 21
  },
  {
   "metadata": {
    "ExecuteTime": {
     "end_time": "2024-10-23T03:26:57.424875Z",
     "start_time": "2024-10-23T03:26:56.708241Z"
    }
   },
   "cell_type": "code",
   "source": [
    "trainer = Trainer(\n",
    "    model=model,\n",
    "    args=training_args,\n",
    "    data_collator=collate_fn,\n",
    "    compute_metrics=compute_metrics,\n",
    "    train_dataset=processed_dataset[\"train\"],\n",
    "    eval_dataset=processed_dataset[\"validation\"],\n",
    "    tokenizer=processor\n",
    ")"
   ],
   "id": "30f59f8a406a04ef",
   "outputs": [],
   "execution_count": 22
  },
  {
   "metadata": {
    "ExecuteTime": {
     "end_time": "2024-10-23T03:26:57.499478Z",
     "start_time": "2024-10-23T03:26:57.497217Z"
    }
   },
   "cell_type": "code",
   "source": [
    "# Check that MPS is available\n",
    "if not torch.backends.mps.is_available():\n",
    "    if not torch.backends.mps.is_built():\n",
    "        print(\"MPS not available because the current PyTorch install was not \"\n",
    "              \"built with MPS enabled.\")\n",
    "    else:\n",
    "        print(\"MPS not available because the current MacOS version is not 12.3+ \"\n",
    "              \"and/or you do not have an MPS-enabled device on this machine.\")\n",
    "\n",
    "else:\n",
    "    mps_device = torch.device(\"mps\")\n",
    "    print(\"MPS enabled\")"
   ],
   "id": "56a200df21ff907e",
   "outputs": [
    {
     "name": "stdout",
     "output_type": "stream",
     "text": [
      "MPS enabled\n"
     ]
    }
   ],
   "execution_count": 23
  },
  {
   "metadata": {
    "ExecuteTime": {
     "end_time": "2024-10-23T03:51:36.876266Z",
     "start_time": "2024-10-23T03:26:59.765543Z"
    }
   },
   "cell_type": "code",
   "source": "trainer.train()",
   "id": "f3df38c3b841d8a9",
   "outputs": [
    {
     "data": {
      "text/plain": [
       "<IPython.core.display.HTML object>"
      ],
      "text/html": [
       "\n",
       "    <div>\n",
       "      \n",
       "      <progress value='1260' max='1260' style='width:300px; height:20px; vertical-align: middle;'></progress>\n",
       "      [1260/1260 24:34, Epoch 10/10]\n",
       "    </div>\n",
       "    <table border=\"1\" class=\"dataframe\">\n",
       "  <thead>\n",
       " <tr style=\"text-align: left;\">\n",
       "      <th>Epoch</th>\n",
       "      <th>Training Loss</th>\n",
       "      <th>Validation Loss</th>\n",
       "      <th>Accuracy</th>\n",
       "      <th>Precision</th>\n",
       "      <th>Recall</th>\n",
       "      <th>F1</th>\n",
       "    </tr>\n",
       "  </thead>\n",
       "  <tbody>\n",
       "    <tr>\n",
       "      <td>1</td>\n",
       "      <td>1.025300</td>\n",
       "      <td>0.993545</td>\n",
       "      <td>0.552000</td>\n",
       "      <td>0.531650</td>\n",
       "      <td>0.544343</td>\n",
       "      <td>0.484803</td>\n",
       "    </tr>\n",
       "    <tr>\n",
       "      <td>2</td>\n",
       "      <td>0.895900</td>\n",
       "      <td>0.968188</td>\n",
       "      <td>0.488000</td>\n",
       "      <td>0.542224</td>\n",
       "      <td>0.495959</td>\n",
       "      <td>0.464396</td>\n",
       "    </tr>\n",
       "    <tr>\n",
       "      <td>3</td>\n",
       "      <td>0.850300</td>\n",
       "      <td>1.177910</td>\n",
       "      <td>0.440000</td>\n",
       "      <td>0.413196</td>\n",
       "      <td>0.445547</td>\n",
       "      <td>0.363388</td>\n",
       "    </tr>\n",
       "    <tr>\n",
       "      <td>4</td>\n",
       "      <td>0.755900</td>\n",
       "      <td>0.978451</td>\n",
       "      <td>0.496000</td>\n",
       "      <td>0.498705</td>\n",
       "      <td>0.499536</td>\n",
       "      <td>0.475472</td>\n",
       "    </tr>\n",
       "    <tr>\n",
       "      <td>5</td>\n",
       "      <td>0.685400</td>\n",
       "      <td>1.068819</td>\n",
       "      <td>0.512000</td>\n",
       "      <td>0.531869</td>\n",
       "      <td>0.515464</td>\n",
       "      <td>0.500551</td>\n",
       "    </tr>\n",
       "    <tr>\n",
       "      <td>6</td>\n",
       "      <td>0.605800</td>\n",
       "      <td>1.143574</td>\n",
       "      <td>0.504000</td>\n",
       "      <td>0.497765</td>\n",
       "      <td>0.504736</td>\n",
       "      <td>0.482779</td>\n",
       "    </tr>\n",
       "    <tr>\n",
       "      <td>7</td>\n",
       "      <td>0.577100</td>\n",
       "      <td>1.070289</td>\n",
       "      <td>0.540000</td>\n",
       "      <td>0.556960</td>\n",
       "      <td>0.542216</td>\n",
       "      <td>0.539318</td>\n",
       "    </tr>\n",
       "    <tr>\n",
       "      <td>8</td>\n",
       "      <td>0.478000</td>\n",
       "      <td>1.154590</td>\n",
       "      <td>0.536000</td>\n",
       "      <td>0.550077</td>\n",
       "      <td>0.538234</td>\n",
       "      <td>0.532863</td>\n",
       "    </tr>\n",
       "    <tr>\n",
       "      <td>9</td>\n",
       "      <td>0.450000</td>\n",
       "      <td>1.162480</td>\n",
       "      <td>0.532000</td>\n",
       "      <td>0.538844</td>\n",
       "      <td>0.533766</td>\n",
       "      <td>0.526816</td>\n",
       "    </tr>\n",
       "    <tr>\n",
       "      <td>10</td>\n",
       "      <td>0.416600</td>\n",
       "      <td>1.226932</td>\n",
       "      <td>0.536000</td>\n",
       "      <td>0.540928</td>\n",
       "      <td>0.537262</td>\n",
       "      <td>0.531405</td>\n",
       "    </tr>\n",
       "  </tbody>\n",
       "</table><p>"
      ]
     },
     "metadata": {},
     "output_type": "display_data"
    },
    {
     "name": "stdout",
     "output_type": "stream",
     "text": [
      "Conteo de etiquetas reales: Counter({np.int64(0): 87, np.int64(1): 83, np.int64(2): 80})\n",
      "Conteo de predicciones: Counter({np.int64(1): 132, np.int64(0): 101, np.int64(2): 17})\n",
      "Precision por clase: {'precision': array([0.59405941, 0.53030303, 0.47058824])}\n",
      "Conteo de etiquetas reales: Counter({np.int64(0): 87, np.int64(1): 83, np.int64(2): 80})\n",
      "Conteo de predicciones: Counter({np.int64(2): 151, np.int64(1): 74, np.int64(0): 25})\n",
      "Precision por clase: {'precision': array([0.56      , 0.68918919, 0.37748344])}\n",
      "Conteo de etiquetas reales: Counter({np.int64(0): 87, np.int64(1): 83, np.int64(2): 80})\n",
      "Conteo de predicciones: Counter({np.int64(1): 147, np.int64(2): 93, np.int64(0): 10})\n",
      "Precision por clase: {'precision': array([0.4       , 0.5170068 , 0.32258065])}\n",
      "Conteo de etiquetas reales: Counter({np.int64(0): 87, np.int64(1): 83, np.int64(2): 80})\n",
      "Conteo de predicciones: Counter({np.int64(1): 109, np.int64(2): 101, np.int64(0): 40})\n",
      "Precision por clase: {'precision': array([0.525     , 0.6146789 , 0.35643564])}\n",
      "Conteo de etiquetas reales: Counter({np.int64(0): 87, np.int64(1): 83, np.int64(2): 80})\n",
      "Conteo de predicciones: Counter({np.int64(2): 108, np.int64(1): 100, np.int64(0): 42})\n",
      "Precision por clase: {'precision': array([0.5952381 , 0.63      , 0.37037037])}\n",
      "Conteo de etiquetas reales: Counter({np.int64(0): 87, np.int64(1): 83, np.int64(2): 80})\n",
      "Conteo de predicciones: Counter({np.int64(1): 121, np.int64(2): 78, np.int64(0): 51})\n",
      "Precision por clase: {'precision': array([0.56862745, 0.5785124 , 0.34615385])}\n",
      "Conteo de etiquetas reales: Counter({np.int64(0): 87, np.int64(1): 83, np.int64(2): 80})\n",
      "Conteo de predicciones: Counter({np.int64(2): 106, np.int64(1): 87, np.int64(0): 57})\n",
      "Precision por clase: {'precision': array([0.59649123, 0.67816092, 0.39622642])}\n",
      "Conteo de etiquetas reales: Counter({np.int64(0): 87, np.int64(1): 83, np.int64(2): 80})\n",
      "Conteo de predicciones: Counter({np.int64(2): 103, np.int64(1): 92, np.int64(0): 55})\n",
      "Precision por clase: {'precision': array([0.6       , 0.65217391, 0.39805825])}\n",
      "Conteo de etiquetas reales: Counter({np.int64(0): 87, np.int64(1): 83, np.int64(2): 80})\n",
      "Conteo de predicciones: Counter({np.int64(2): 97, np.int64(1): 96, np.int64(0): 57})\n",
      "Precision por clase: {'precision': array([0.57894737, 0.64583333, 0.39175258])}\n",
      "Conteo de etiquetas reales: Counter({np.int64(0): 87, np.int64(1): 83, np.int64(2): 80})\n",
      "Conteo de predicciones: Counter({np.int64(1): 96, np.int64(2): 94, np.int64(0): 60})\n",
      "Precision por clase: {'precision': array([0.58333333, 0.64583333, 0.39361702])}\n"
     ]
    },
    {
     "data": {
      "text/plain": [
       "TrainOutput(global_step=1260, training_loss=0.6558381262279692, metrics={'train_runtime': 1476.886, 'train_samples_per_second': 13.549, 'train_steps_per_second': 0.853, 'total_flos': 5.481441463291638e+18, 'train_loss': 0.6558381262279692, 'epoch': 10.0})"
      ]
     },
     "execution_count": 24,
     "metadata": {},
     "output_type": "execute_result"
    }
   ],
   "execution_count": 24
  },
  {
   "metadata": {
    "ExecuteTime": {
     "end_time": "2024-10-23T03:54:58.261684Z",
     "start_time": "2024-10-23T03:54:57.536716Z"
    }
   },
   "cell_type": "code",
   "source": "trainer.save_model()",
   "id": "7fb997a65c2644c1",
   "outputs": [],
   "execution_count": 25
  },
  {
   "metadata": {},
   "cell_type": "markdown",
   "source": "### Evaluación del modelo",
   "id": "7a9240869110b2e8"
  },
  {
   "metadata": {
    "ExecuteTime": {
     "end_time": "2024-10-23T03:55:11.893795Z",
     "start_time": "2024-10-23T03:54:59.952545Z"
    }
   },
   "cell_type": "code",
   "source": "trainer.evaluate(processed_dataset['test'])",
   "id": "bca36b8e1d96cbe5",
   "outputs": [
    {
     "data": {
      "text/plain": [
       "<IPython.core.display.HTML object>"
      ],
      "text/html": []
     },
     "metadata": {},
     "output_type": "display_data"
    },
    {
     "name": "stdout",
     "output_type": "stream",
     "text": [
      "Conteo de etiquetas reales: Counter({np.int64(2): 99, np.int64(1): 77, np.int64(0): 75})\n",
      "Conteo de predicciones: Counter({np.int64(2): 142, np.int64(1): 74, np.int64(0): 35})\n",
      "Precision por clase: {'precision': array([0.74285714, 0.75675676, 0.52816901])}\n"
     ]
    },
    {
     "data": {
      "text/plain": [
       "{'eval_loss': 0.7804999351501465,\n",
       " 'eval_accuracy': 0.6254980079681275,\n",
       " 'eval_precision': 0.675927637899469,\n",
       " 'eval_recall': 0.6105050505050506,\n",
       " 'eval_f1': 0.6122852553453526,\n",
       " 'eval_runtime': 11.936,\n",
       " 'eval_samples_per_second': 21.029,\n",
       " 'eval_steps_per_second': 2.681,\n",
       " 'epoch': 10.0}"
      ]
     },
     "execution_count": 26,
     "metadata": {},
     "output_type": "execute_result"
    }
   ],
   "execution_count": 26
  },
  {
   "metadata": {},
   "cell_type": "markdown",
   "source": "## Inferencia en conjunto de test ",
   "id": "b0e855e955ca27b7"
  },
  {
   "metadata": {
    "ExecuteTime": {
     "end_time": "2024-10-23T03:55:23.605911Z",
     "start_time": "2024-10-23T03:55:12.040574Z"
    }
   },
   "cell_type": "code",
   "source": [
    "samples = final_dataset['test']\n",
    "processed_samples = samples.with_transform(transforms)\n",
    "predictions = trainer.predict(processed_samples).predictions.argmax(axis=1) # labels predichas"
   ],
   "id": "f37bb4fbf9efd886",
   "outputs": [
    {
     "name": "stdout",
     "output_type": "stream",
     "text": [
      "Conteo de etiquetas reales: Counter({np.int64(2): 99, np.int64(1): 77, np.int64(0): 75})\n",
      "Conteo de predicciones: Counter({np.int64(2): 142, np.int64(1): 74, np.int64(0): 35})\n",
      "Precision por clase: {'precision': array([0.74285714, 0.75675676, 0.52816901])}\n"
     ]
    }
   ],
   "execution_count": 27
  },
  {
   "metadata": {},
   "cell_type": "code",
   "source": "show_predictions(rows=5,cols=5, samples_=samples, predictions_=predictions, id2label_=id2label)",
   "id": "12a188f84c9f3779",
   "outputs": [],
   "execution_count": null
  },
  {
   "metadata": {},
   "cell_type": "markdown",
   "source": "### Matriz de confusión",
   "id": "97916219ffa54a0f"
  },
  {
   "metadata": {
    "ExecuteTime": {
     "end_time": "2024-10-23T03:55:25.536669Z",
     "start_time": "2024-10-23T03:55:23.672769Z"
    }
   },
   "cell_type": "code",
   "source": "confusion_matrix(samples_=samples, predictions_=predictions, class_names=labels)",
   "id": "f6f7fbb54f99d3f6",
   "outputs": [
    {
     "data": {
      "text/plain": [
       "<Figure size 800x600 with 2 Axes>"
      ],
      "image/png": "[encoded data removed]"
     },
     "metadata": {},
     "output_type": "display_data"
    }
   ],
   "execution_count": 28
  },
  {
   "metadata": {},
   "cell_type": "markdown",
   "source": "## Iterar por más epochs ❌",
   "id": "4cb217670e463742"
  },
  {
   "metadata": {},
   "cell_type": "code",
   "source": [
    "trainer.args.num_train_epochs = 30  # Para entrenar hasta la época 20\n",
    "trainer.train(resume_from_checkpoint=_checkpoint)"
   ],
   "id": "6f532223cd642edd",
   "outputs": [],
   "execution_count": null
  },
  {
   "metadata": {
    "ExecuteTime": {
     "end_time": "2024-10-17T17:03:40.876336Z",
     "start_time": "2024-10-15T17:59:58.726151Z"
    }
   },
   "cell_type": "code",
   "source": "trainer.save_model()",
   "id": "81df7794f48301f2",
   "outputs": [],
   "execution_count": 25
  },
  {
   "metadata": {},
   "cell_type": "code",
   "source": "trainer.evaluate(processed_dataset['test'])",
   "id": "e34356d41f6d33da",
   "outputs": [],
   "execution_count": null
  },
  {
   "metadata": {
    "ExecuteTime": {
     "end_time": "2024-10-19T15:25:29.089937Z",
     "start_time": "2024-10-19T15:25:29.088073Z"
    }
   },
   "cell_type": "code",
   "source": "confusion_matrix(samples_=samples, predictions_=predictions)",
   "id": "1827c30c0aae817e",
   "outputs": [],
   "execution_count": 29
  },
  {
   "metadata": {},
   "cell_type": "code",
   "outputs": [],
   "execution_count": null,
   "source": "",
   "id": "139cfc3ed6ac8ff"
  }
 ],
 "metadata": {
  "kernelspec": {
   "display_name": "Python 3",
   "language": "python",
   "name": "python3"
  },
  "language_info": {
   "codemirror_mode": {
    "name": "ipython",
    "version": 2
   },
   "file_extension": ".py",
   "mimetype": "text/x-python",
   "name": "python",
   "nbconvert_exporter": "python",
   "pygments_lexer": "ipython2",
   "version": "2.7.6"
  }
 },
 "nbformat": 4,
 "nbformat_minor": 5
}
