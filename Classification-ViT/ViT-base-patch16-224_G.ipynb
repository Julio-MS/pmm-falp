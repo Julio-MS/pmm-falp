{
 "cells": [
  {
   "metadata": {},
   "cell_type": "markdown",
   "source": [
    "ViT-based model using Transfer-Learning\n",
    "---\n",
    "#### Model: google/vit-base-patch16-224, descongelando las últimas 7 capas del encoder\n",
    "#### Epochs: 30\n",
    "#### Dataset: mages_3categories_balanced\n",
    "#### Cambios:\n",
    "- DropOut:\n",
    "    - Clasificador 0.4\n",
    "    - HiddenLayer 0.3\n",
    "    - AttentionLayer 0.3 \n",
    "- Learning Rate 1e-4    \n",
    "- Weighted Loss"
   ],
   "id": "7022885cdaf44b3"
  },
  {
   "metadata": {
    "ExecuteTime": {
     "end_time": "2024-11-07T14:21:07.146101Z",
     "start_time": "2024-11-07T14:21:07.141601Z"
    }
   },
   "cell_type": "code",
   "source": [
    "# Parámetros\n",
    "_model = 'google/vit-base-patch16-224'\n",
    "# path al checkpoint a cargar, None si no existe\n",
    "_checkpoint = None\n",
    "_output = 'SavedModels/ViT-base-patch16-224_G'  # path para guardar el modelo -> Revisar\n",
    "\n",
    "_dataset = '/Users/julio/Documentos-Local/data/VinDr-Mammo/subsets/images_3categories_balanced'\n",
    "\n",
    "# path para guardar el dataset con split\n",
    "_dataset_split_path = '/Users/julio/Documentos-Local/data/VinDr-Mammo/subsets/images_3categories_balanced_augmented_V3_split'\n",
    "\n",
    "# Si el dataset ya está separado en train, validation y test ->  _dataset_split=_dataset_split_path. \n",
    "# Si no está separado -> _dataset_split=None.\n",
    "_dataset_split = None  \n",
    "\n",
    "_batch_size = 32\n",
    "_learning_rate = 1e-4\n",
    "_epochs = 30  # Epochs a entrenar el modelo\n",
    "\n",
    "# DropOut\n",
    "_dp_clasificador = 0.4\n",
    "_dp_hidden_layer = 0.3\n",
    "_dp_attention_layer= 0.3\n",
    "\n",
    "num_layers_to_unfreeze = 7  # Definir el número de capas a descongelar, None eoc"
   ],
   "id": "70a22524132806c4",
   "outputs": [],
   "execution_count": 1
  },
  {
   "cell_type": "code",
   "id": "initial_id",
   "metadata": {
    "collapsed": true,
    "ExecuteTime": {
     "end_time": "2024-11-07T14:21:18.764575Z",
     "start_time": "2024-11-07T14:21:08.355312Z"
    }
   },
   "source": [
    "import torch\n",
    "import torch.nn as nn\n",
    "import pandas as pd\n",
    "from collections import Counter\n",
    "from datasets import load_dataset, DatasetDict, load_from_disk,concatenate_datasets\n",
    "\n",
    "from transformers import AutoImageProcessor, ViTForImageClassification\n",
    "\n",
    "from transformers import Trainer, TrainingArguments, EarlyStoppingCallback\n",
    "\n",
    "import evaluate\n",
    "from torchvision import transforms\n",
    "from Utils import *"
   ],
   "outputs": [],
   "execution_count": 2
  },
  {
   "metadata": {},
   "cell_type": "markdown",
   "source": "## Carga de datos",
   "id": "86c5c376167db015"
  },
  {
   "metadata": {
    "ExecuteTime": {
     "end_time": "2024-11-07T14:21:23.946118Z",
     "start_time": "2024-11-07T14:21:20.640559Z"
    }
   },
   "cell_type": "code",
   "source": [
    "if _dataset_split is None:\n",
    "    dataset = load_dataset(_dataset)\n",
    "else:\n",
    "    # Cargar el dataset previamente guardado\n",
    "    dataset = load_from_disk(_dataset_split_path)\n",
    "\n",
    "dataset"
   ],
   "id": "3cc4f4afb99d5cf2",
   "outputs": [
    {
     "data": {
      "text/plain": [
       "Resolving data files:   0%|          | 0/7504 [00:00<?, ?it/s]"
      ],
      "application/vnd.jupyter.widget-view+json": {
       "version_major": 2,
       "version_minor": 0,
       "model_id": "3b5d506a7fc94bb5aaa6ab44c541c6d1"
      }
     },
     "metadata": {},
     "output_type": "display_data"
    },
    {
     "data": {
      "text/plain": [
       "DatasetDict({\n",
       "    train: Dataset({\n",
       "        features: ['image', 'label'],\n",
       "        num_rows: 7504\n",
       "    })\n",
       "})"
      ]
     },
     "execution_count": 3,
     "metadata": {},
     "output_type": "execute_result"
    }
   ],
   "execution_count": 3
  },
  {
   "metadata": {},
   "cell_type": "markdown",
   "source": "### Revisión de categorías",
   "id": "74ee833516aa9480"
  },
  {
   "metadata": {
    "ExecuteTime": {
     "end_time": "2024-11-07T14:21:34.960602Z",
     "start_time": "2024-11-07T14:21:34.957668Z"
    }
   },
   "cell_type": "code",
   "source": [
    "labels = dataset['train'].features['label'].names\n",
    "print(len(labels),labels)\n",
    "\n",
    "label2id = {c:idx for idx,c in enumerate(labels)}\n",
    "id2label = {idx:c for idx,c in enumerate(labels)}"
   ],
   "id": "672104ff2885bdeb",
   "outputs": [
    {
     "name": "stdout",
     "output_type": "stream",
     "text": [
      "3 ['calcificaciones', 'masas', 'no_encontrado']\n"
     ]
    }
   ],
   "execution_count": 4
  },
  {
   "metadata": {},
   "cell_type": "markdown",
   "source": "#### Muestra de ejemplos",
   "id": "8a5e0a4c31f70014"
  },
  {
   "metadata": {
    "ExecuteTime": {
     "end_time": "2024-11-07T14:21:36.893103Z",
     "start_time": "2024-11-07T14:21:36.890490Z"
    }
   },
   "cell_type": "code",
   "source": [
    "def show_samples(ds,rows,cols):\n",
    "    samples = ds.shuffle().select(np.arange(rows*cols)) # selecting random images\n",
    "    fig = plt.figure(figsize=(cols*4,rows*4))\n",
    "    # plotting\n",
    "    for i in range(rows*cols):\n",
    "        img = samples[i]['image']\n",
    "        label = samples[i]['label']\n",
    "        fig.add_subplot(rows,cols,i+1)\n",
    "        plt.imshow(img, cmap='gray')\n",
    "        plt.title(label)\n",
    "        plt.axis('off')\n",
    "            \n",
    "# show_samples(dataset['train'],rows=3,cols=5)"
   ],
   "id": "2e09d39396d652ae",
   "outputs": [],
   "execution_count": 5
  },
  {
   "metadata": {},
   "cell_type": "markdown",
   "source": "## Split Dataset",
   "id": "65cd6f013528a8e5"
  },
  {
   "metadata": {
    "ExecuteTime": {
     "end_time": "2024-11-07T14:21:38.895927Z",
     "start_time": "2024-11-07T14:21:38.802034Z"
    }
   },
   "cell_type": "code",
   "source": [
    "if _dataset_split is None:\n",
    "    split_dataset = dataset['train'].train_test_split(test_size=0.2)\n",
    "    eval_dataset = split_dataset['test'].train_test_split(test_size=0.5)\n",
    "    \n",
    "    \n",
    "    # Recombinar los splits \n",
    "    \n",
    "    final_dataset = DatasetDict({\n",
    "        'train': split_dataset['train'],\n",
    "        'validation': eval_dataset['train'],\n",
    "        'test': eval_dataset['test']\n",
    "    })\n",
    "    \n",
    "else:\n",
    "    final_dataset = dataset\n",
    "final_dataset"
   ],
   "id": "826ff9fdce47b2e8",
   "outputs": [
    {
     "data": {
      "text/plain": [
       "DatasetDict({\n",
       "    train: Dataset({\n",
       "        features: ['image', 'label'],\n",
       "        num_rows: 6003\n",
       "    })\n",
       "    validation: Dataset({\n",
       "        features: ['image', 'label'],\n",
       "        num_rows: 750\n",
       "    })\n",
       "    test: Dataset({\n",
       "        features: ['image', 'label'],\n",
       "        num_rows: 751\n",
       "    })\n",
       "})"
      ]
     },
     "execution_count": 6,
     "metadata": {},
     "output_type": "execute_result"
    }
   ],
   "execution_count": 6
  },
  {
   "metadata": {},
   "cell_type": "markdown",
   "source": "### Extra Data Augmentation",
   "id": "18c8cb2da4f31c64"
  },
  {
   "metadata": {
    "ExecuteTime": {
     "end_time": "2024-11-07T14:23:19.010882Z",
     "start_time": "2024-11-07T14:21:43.757638Z"
    }
   },
   "cell_type": "code",
   "source": [
    "# Definir transformaciones de Data Augmentation para el entrenamiento\n",
    "augmentation_transforms = transforms.Compose([\n",
    "    transforms.RandomRotation(10),                # Rotación aleatoria de ±10 grados\n",
    "    transforms.RandomHorizontalFlip(),            # Flip horizontal aleatorio\n",
    "    transforms.ColorJitter(brightness=0.2, contrast=0.2, saturation=0.2, hue=0.2),  # Cambios aleatorios de brillo, contraste, saturación y tono\n",
    "])\n",
    "\n",
    "def augment_images(batch):\n",
    "    \"\"\"Aplica transformaciones de Data Augmentation a las imágenes del batch.\"\"\"\n",
    "    augmented_images = []\n",
    "    for img in batch['image']:\n",
    "        # Convertir PIL Image a RGB\n",
    "        img = img.convert('RGB')\n",
    "        # Aplicar augmentations\n",
    "        img = augmentation_transforms(img)\n",
    "        augmented_images.append(img)\n",
    "    batch['image'] = augmented_images\n",
    "    return batch\n",
    "\n",
    "if _dataset_split is None:\n",
    "    # Aplicar Data Augmentation solo al conjunto de entrenamiento\n",
    "    augmented_train = final_dataset['train'].map(augment_images, batched=True)\n",
    "    augmented_validation = final_dataset['validation'].map(augment_images, batched=True)\n",
    "    augmented_test = final_dataset['test'].map(augment_images, batched=True)\n",
    "    \n",
    "    \n",
    "    # Concatenar el dataset original de entrenamiento con el aumentado\n",
    "    # Esto duplica el tamaño del conjunto de entrenamiento con datos aumentados\n",
    "    augmented_train = concatenate_datasets([final_dataset['train'], augmented_train])\n",
    "    augmented_validation = concatenate_datasets([final_dataset['validation'], augmented_validation])\n",
    "    augmented_test = concatenate_datasets([final_dataset['test'], augmented_test])\n",
    "     # Recombinar los splits \n",
    "        \n",
    "    final_dataset = DatasetDict({\n",
    "        'train': augmented_train,\n",
    "        'validation': augmented_validation,\n",
    "        'test': augmented_test\n",
    "    })\n",
    "     # Guardar el dataset dividido\n",
    "    final_dataset.save_to_disk(_dataset_split_path)\n",
    "\n",
    "else:\n",
    "    final_dataset = dataset\n",
    "final_dataset"
   ],
   "id": "4df0a51f29cd1a98",
   "outputs": [
    {
     "data": {
      "text/plain": [
       "Map:   0%|          | 0/6003 [00:00<?, ? examples/s]"
      ],
      "application/vnd.jupyter.widget-view+json": {
       "version_major": 2,
       "version_minor": 0,
       "model_id": "0298f1f19a754fdda58b5ef8333f93d5"
      }
     },
     "metadata": {},
     "output_type": "display_data"
    },
    {
     "data": {
      "text/plain": [
       "Map:   0%|          | 0/750 [00:00<?, ? examples/s]"
      ],
      "application/vnd.jupyter.widget-view+json": {
       "version_major": 2,
       "version_minor": 0,
       "model_id": "2fc076e4b2674f669b2e09ca64d1d9a7"
      }
     },
     "metadata": {},
     "output_type": "display_data"
    },
    {
     "data": {
      "text/plain": [
       "Map:   0%|          | 0/751 [00:00<?, ? examples/s]"
      ],
      "application/vnd.jupyter.widget-view+json": {
       "version_major": 2,
       "version_minor": 0,
       "model_id": "33de6fb313a24aff892404db20deccd9"
      }
     },
     "metadata": {},
     "output_type": "display_data"
    },
    {
     "data": {
      "text/plain": [
       "Saving the dataset (0/1 shards):   0%|          | 0/12006 [00:00<?, ? examples/s]"
      ],
      "application/vnd.jupyter.widget-view+json": {
       "version_major": 2,
       "version_minor": 0,
       "model_id": "2a46bbfe8d304aa890b637f1f581246d"
      }
     },
     "metadata": {},
     "output_type": "display_data"
    },
    {
     "data": {
      "text/plain": [
       "Saving the dataset (0/1 shards):   0%|          | 0/1500 [00:00<?, ? examples/s]"
      ],
      "application/vnd.jupyter.widget-view+json": {
       "version_major": 2,
       "version_minor": 0,
       "model_id": "c1fa056efebb4ec49156b3313c6b133d"
      }
     },
     "metadata": {},
     "output_type": "display_data"
    },
    {
     "data": {
      "text/plain": [
       "Saving the dataset (0/1 shards):   0%|          | 0/1502 [00:00<?, ? examples/s]"
      ],
      "application/vnd.jupyter.widget-view+json": {
       "version_major": 2,
       "version_minor": 0,
       "model_id": "b42f508ea0bb41b69e5095ab6988ed88"
      }
     },
     "metadata": {},
     "output_type": "display_data"
    },
    {
     "data": {
      "text/plain": [
       "DatasetDict({\n",
       "    train: Dataset({\n",
       "        features: ['image', 'label'],\n",
       "        num_rows: 12006\n",
       "    })\n",
       "    validation: Dataset({\n",
       "        features: ['image', 'label'],\n",
       "        num_rows: 1500\n",
       "    })\n",
       "    test: Dataset({\n",
       "        features: ['image', 'label'],\n",
       "        num_rows: 1502\n",
       "    })\n",
       "})"
      ]
     },
     "execution_count": 7,
     "metadata": {},
     "output_type": "execute_result"
    }
   ],
   "execution_count": 7
  },
  {
   "metadata": {
    "ExecuteTime": {
     "end_time": "2024-11-07T14:32:40.718145Z",
     "start_time": "2024-11-07T14:32:27.466347Z"
    }
   },
   "cell_type": "code",
   "source": [
    "print('Número de imágenes por clases en cada split')\n",
    "clases_split = pd.DataFrame(columns=['split', *labels])\n",
    "for key in final_dataset:\n",
    "    split = pd.DataFrame(final_dataset[key])\n",
    "    num = split['label'].value_counts().sort_index()\n",
    "    clases_split.loc[len(clases_split)] = [key, *num]\n",
    "    #print(num.sort_index())\n",
    "clases_split['total'] = clases_split[['calcificaciones', 'masas', 'no_encontrado']].sum(axis=1)\n",
    "clases_split"
   ],
   "id": "7c0520fb8246ae8c",
   "outputs": [
    {
     "name": "stdout",
     "output_type": "stream",
     "text": [
      "Número de imágenes por clases en cada split\n"
     ]
    },
    {
     "data": {
      "text/plain": [
       "        split  calcificaciones  masas  no_encontrado  total\n",
       "0       train             3930   4034           4042  12006\n",
       "1  validation              518    490            492   1500\n",
       "2        test              556    480            466   1502"
      ],
      "text/html": [
       "<div>\n",
       "<style scoped>\n",
       "    .dataframe tbody tr th:only-of-type {\n",
       "        vertical-align: middle;\n",
       "    }\n",
       "\n",
       "    .dataframe tbody tr th {\n",
       "        vertical-align: top;\n",
       "    }\n",
       "\n",
       "    .dataframe thead th {\n",
       "        text-align: right;\n",
       "    }\n",
       "</style>\n",
       "<table border=\"1\" class=\"dataframe\">\n",
       "  <thead>\n",
       "    <tr style=\"text-align: right;\">\n",
       "      <th></th>\n",
       "      <th>split</th>\n",
       "      <th>calcificaciones</th>\n",
       "      <th>masas</th>\n",
       "      <th>no_encontrado</th>\n",
       "      <th>total</th>\n",
       "    </tr>\n",
       "  </thead>\n",
       "  <tbody>\n",
       "    <tr>\n",
       "      <th>0</th>\n",
       "      <td>train</td>\n",
       "      <td>3930</td>\n",
       "      <td>4034</td>\n",
       "      <td>4042</td>\n",
       "      <td>12006</td>\n",
       "    </tr>\n",
       "    <tr>\n",
       "      <th>1</th>\n",
       "      <td>validation</td>\n",
       "      <td>518</td>\n",
       "      <td>490</td>\n",
       "      <td>492</td>\n",
       "      <td>1500</td>\n",
       "    </tr>\n",
       "    <tr>\n",
       "      <th>2</th>\n",
       "      <td>test</td>\n",
       "      <td>556</td>\n",
       "      <td>480</td>\n",
       "      <td>466</td>\n",
       "      <td>1502</td>\n",
       "    </tr>\n",
       "  </tbody>\n",
       "</table>\n",
       "</div>"
      ]
     },
     "execution_count": 8,
     "metadata": {},
     "output_type": "execute_result"
    }
   ],
   "execution_count": 8
  },
  {
   "metadata": {},
   "cell_type": "markdown",
   "source": "## Preprocesamiento de las imágenes",
   "id": "54d16d02617d0642"
  },
  {
   "metadata": {
    "ExecuteTime": {
     "end_time": "2024-11-07T03:57:36.181460Z",
     "start_time": "2024-11-07T03:57:34.751819Z"
    }
   },
   "cell_type": "code",
   "source": [
    "processor = AutoImageProcessor.from_pretrained(_model, use_fast=True)\n",
    "processor"
   ],
   "id": "1c2cd9e3e4ab5a4a",
   "outputs": [
    {
     "data": {
      "text/plain": [
       "ViTImageProcessorFast {\n",
       "  \"do_normalize\": true,\n",
       "  \"do_rescale\": true,\n",
       "  \"do_resize\": true,\n",
       "  \"image_mean\": [\n",
       "    0.5,\n",
       "    0.5,\n",
       "    0.5\n",
       "  ],\n",
       "  \"image_processor_type\": \"ViTImageProcessorFast\",\n",
       "  \"image_std\": [\n",
       "    0.5,\n",
       "    0.5,\n",
       "    0.5\n",
       "  ],\n",
       "  \"resample\": 2,\n",
       "  \"rescale_factor\": 0.00392156862745098,\n",
       "  \"size\": {\n",
       "    \"height\": 224,\n",
       "    \"width\": 224\n",
       "  }\n",
       "}"
      ]
     },
     "execution_count": 13,
     "metadata": {},
     "output_type": "execute_result"
    }
   ],
   "execution_count": 13
  },
  {
   "metadata": {
    "ExecuteTime": {
     "end_time": "2024-11-07T03:57:51.260765Z",
     "start_time": "2024-11-07T03:57:51.257642Z"
    }
   },
   "cell_type": "code",
   "source": [
    "def transforms(batch):\n",
    "    batch['image'] = [x.convert('RGB') for x in batch['image']]\n",
    "    inputs = processor(batch['image'],return_tensors='pt')\n",
    "    inputs['labels'] = batch['label']  # Las clases ya están en formato numérico\n",
    "    return inputs"
   ],
   "id": "fd8e91d20395f822",
   "outputs": [],
   "execution_count": 14
  },
  {
   "metadata": {
    "ExecuteTime": {
     "end_time": "2024-11-07T03:57:52.196804Z",
     "start_time": "2024-11-07T03:57:52.151046Z"
    }
   },
   "cell_type": "code",
   "source": "processed_dataset = final_dataset.with_transform(transforms)",
   "id": "7fd84c61b445fd27",
   "outputs": [],
   "execution_count": 15
  },
  {
   "metadata": {},
   "cell_type": "markdown",
   "source": "### Data Collation",
   "id": "3c20e0c2fcab0cbf"
  },
  {
   "metadata": {
    "ExecuteTime": {
     "end_time": "2024-11-07T03:57:53.166006Z",
     "start_time": "2024-11-07T03:57:53.162835Z"
    }
   },
   "cell_type": "code",
   "source": [
    "def collate_fn(batch):\n",
    "    return {\n",
    "        'pixel_values': torch.stack([x['pixel_values'] for x in batch]),\n",
    "        'labels': torch.tensor([x['labels'] for x in batch])\n",
    "    }"
   ],
   "id": "b594c7a07efc3686",
   "outputs": [],
   "execution_count": 16
  },
  {
   "metadata": {},
   "cell_type": "markdown",
   "source": "## Métricas de evaluación",
   "id": "248fd8bb2ba4efb4"
  },
  {
   "metadata": {
    "ExecuteTime": {
     "end_time": "2024-11-07T03:57:59.333956Z",
     "start_time": "2024-11-07T03:57:54.252773Z"
    }
   },
   "cell_type": "code",
   "source": [
    "import numpy as np\n",
    "import evaluate\n",
    "\n",
    "accuracy = evaluate.load('accuracy')\n",
    "precision = evaluate.load('precision')\n",
    "recall = evaluate.load('recall')\n",
    "f1 = evaluate.load('f1')\n",
    "\n",
    "def compute_metrics(eval_preds):\n",
    "    logits, labels = eval_preds\n",
    "    predictions = np.argmax(logits, axis=1)\n",
    "\n",
    "    print(\"Conteo de etiquetas reales:\", Counter(labels))\n",
    "    print(\"Conteo de predicciones:\", Counter(predictions))\n",
    "    \n",
    "    precision_per_class = precision.compute(\n",
    "    predictions=predictions, references=labels, average=None)\n",
    "    print(\"Precision por clase:\", precision_per_class, '\\n')\n",
    "\n",
    "    # Accuracy no requiere el parámetro average\n",
    "    accuracy_score = accuracy.compute(predictions=predictions, references=labels)['accuracy']\n",
    "    \n",
    "    # Las demás métricas sí requieren el parámetro average para multiclase\n",
    "    precision_score = precision.compute(predictions=predictions, references=labels, average='macro')['precision']\n",
    "    recall_score = recall.compute(predictions=predictions, references=labels, average='macro')['recall']\n",
    "    f1_score = f1.compute(predictions=predictions, references=labels, average='macro')['f1']\n",
    "    \n",
    "    return {\n",
    "        'accuracy': accuracy_score,\n",
    "        'precision': precision_score,\n",
    "        'recall': recall_score,\n",
    "        'f1': f1_score\n",
    "    }"
   ],
   "id": "eeb8010325f0f0cc",
   "outputs": [],
   "execution_count": 17
  },
  {
   "metadata": {},
   "cell_type": "markdown",
   "source": "## Carga del modelo",
   "id": "952d173ae5c464b6"
  },
  {
   "metadata": {
    "ExecuteTime": {
     "end_time": "2024-11-07T03:58:29.405427Z",
     "start_time": "2024-11-07T03:58:27.755265Z"
    }
   },
   "cell_type": "code",
   "source": [
    "# Clase personalizada que añade dropout antes de la capa final de clasificación\n",
    "class CustomViTForImageClassification(ViTForImageClassification):\n",
    "    def __init__(self, config):\n",
    "        super().__init__(config)\n",
    "        \n",
    "        # Dropout adicional antes de la capa final\n",
    "        self.additional_dropout = nn.Dropout(_dp_clasificador)  # Dropout antes del clasificador\n",
    "        self.classifier = nn.Linear(config.hidden_size, config.num_labels)\n",
    "\n",
    "    def forward(self, pixel_values, labels=None):\n",
    "        outputs = self.vit(pixel_values)  # Obtenemos la salida del modelo ViT\n",
    "        \n",
    "        # Usamos el primer token [CLS] de la salida\n",
    "        pooled_output = outputs.last_hidden_state[:, 0]  # [CLS] está en la posición 0\n",
    "        \n",
    "        # Aplicamos dropout adicional antes de la clasificación\n",
    "        pooled_output = self.additional_dropout(pooled_output)\n",
    "        logits = self.classifier(pooled_output)\n",
    "        \n",
    "        loss = None\n",
    "        if labels is not None:\n",
    "            # Asegúrate de que las etiquetas sean tipo long (para clasificación)\n",
    "            class_weights = torch.tensor([1.0, 1.5, 1.0], dtype=torch.float32)  # Aumentar peso de \"sospechoso\"\n",
    "            loss_fn = nn.CrossEntropyLoss(weight=class_weights.to(self.device))  # Enviar los pesos al dispositivo\n",
    "            loss = loss_fn(logits, labels)\n",
    "        \n",
    "        return (loss, logits) if loss is not None else logits\n",
    "\n",
    "# Configuramos el modelo base con Dropout en las capas internas del ViT\n",
    "model = CustomViTForImageClassification.from_pretrained(\n",
    "    _model,\n",
    "    num_labels = len(labels),\n",
    "    id2label = id2label,\n",
    "    label2id = label2id,\n",
    "    hidden_dropout_prob=_dp_hidden_layer,  # Dropout en las capas internas del modelo\n",
    "    attention_probs_dropout_prob=_dp_attention_layer,  # Dropout en las capas de atención\n",
    "    ignore_mismatched_sizes = True\n",
    ")"
   ],
   "id": "90238aad36c0de2b",
   "outputs": [
    {
     "name": "stderr",
     "output_type": "stream",
     "text": [
      "Some weights of CustomViTForImageClassification were not initialized from the model checkpoint at google/vit-base-patch16-224 and are newly initialized because the shapes did not match:\n",
      "- classifier.bias: found shape torch.Size([1000]) in the checkpoint and torch.Size([3]) in the model instantiated\n",
      "- classifier.weight: found shape torch.Size([1000, 768]) in the checkpoint and torch.Size([3, 768]) in the model instantiated\n",
      "You should probably TRAIN this model on a down-stream task to be able to use it for predictions and inference.\n"
     ]
    }
   ],
   "execution_count": 18
  },
  {
   "metadata": {},
   "cell_type": "markdown",
   "source": "### Arquitectura del modelo",
   "id": "922184390f5b66e1"
  },
  {
   "metadata": {
    "ExecuteTime": {
     "end_time": "2024-11-07T03:58:31.163181Z",
     "start_time": "2024-11-07T03:58:31.158281Z"
    }
   },
   "cell_type": "code",
   "source": "model",
   "id": "46712562a7213709",
   "outputs": [
    {
     "data": {
      "text/plain": [
       "CustomViTForImageClassification(\n",
       "  (vit): ViTModel(\n",
       "    (embeddings): ViTEmbeddings(\n",
       "      (patch_embeddings): ViTPatchEmbeddings(\n",
       "        (projection): Conv2d(3, 768, kernel_size=(16, 16), stride=(16, 16))\n",
       "      )\n",
       "      (dropout): Dropout(p=0.3, inplace=False)\n",
       "    )\n",
       "    (encoder): ViTEncoder(\n",
       "      (layer): ModuleList(\n",
       "        (0-11): 12 x ViTLayer(\n",
       "          (attention): ViTSdpaAttention(\n",
       "            (attention): ViTSdpaSelfAttention(\n",
       "              (query): Linear(in_features=768, out_features=768, bias=True)\n",
       "              (key): Linear(in_features=768, out_features=768, bias=True)\n",
       "              (value): Linear(in_features=768, out_features=768, bias=True)\n",
       "              (dropout): Dropout(p=0.3, inplace=False)\n",
       "            )\n",
       "            (output): ViTSelfOutput(\n",
       "              (dense): Linear(in_features=768, out_features=768, bias=True)\n",
       "              (dropout): Dropout(p=0.3, inplace=False)\n",
       "            )\n",
       "          )\n",
       "          (intermediate): ViTIntermediate(\n",
       "            (dense): Linear(in_features=768, out_features=3072, bias=True)\n",
       "            (intermediate_act_fn): GELUActivation()\n",
       "          )\n",
       "          (output): ViTOutput(\n",
       "            (dense): Linear(in_features=3072, out_features=768, bias=True)\n",
       "            (dropout): Dropout(p=0.3, inplace=False)\n",
       "          )\n",
       "          (layernorm_before): LayerNorm((768,), eps=1e-12, elementwise_affine=True)\n",
       "          (layernorm_after): LayerNorm((768,), eps=1e-12, elementwise_affine=True)\n",
       "        )\n",
       "      )\n",
       "    )\n",
       "    (layernorm): LayerNorm((768,), eps=1e-12, elementwise_affine=True)\n",
       "  )\n",
       "  (classifier): Linear(in_features=768, out_features=3, bias=True)\n",
       "  (additional_dropout): Dropout(p=0.4, inplace=False)\n",
       ")"
      ]
     },
     "execution_count": 19,
     "metadata": {},
     "output_type": "execute_result"
    }
   ],
   "execution_count": 19
  },
  {
   "metadata": {},
   "cell_type": "markdown",
   "source": "### Congelar todas las capas, menos el clasificador",
   "id": "de3fe87175e49406"
  },
  {
   "metadata": {
    "ExecuteTime": {
     "end_time": "2024-11-07T03:58:36.749217Z",
     "start_time": "2024-11-07T03:58:36.746284Z"
    }
   },
   "cell_type": "code",
   "source": [
    "for name,p in model.named_parameters():\n",
    "    if not name.startswith('classifier'):\n",
    "        p.requires_grad = False"
   ],
   "id": "7b12d0b8faee7367",
   "outputs": [],
   "execution_count": 20
  },
  {
   "metadata": {
    "ExecuteTime": {
     "end_time": "2024-11-07T03:58:37.799079Z",
     "start_time": "2024-11-07T03:58:37.794440Z"
    }
   },
   "cell_type": "code",
   "source": [
    "num_params = sum([p.numel() for p in model.parameters()])\n",
    "trainable_params = sum([p.numel() for p in model.parameters() if p.requires_grad])\n",
    "\n",
    "print(f\"{num_params = :,} | {trainable_params = :,}\")"
   ],
   "id": "64c82a89eda67be7",
   "outputs": [
    {
     "name": "stdout",
     "output_type": "stream",
     "text": [
      "num_params = 85,800,963 | trainable_params = 2,307\n"
     ]
    }
   ],
   "execution_count": 21
  },
  {
   "metadata": {},
   "cell_type": "markdown",
   "source": "### Descongelar capas del encoder para fine-tuning",
   "id": "5ed4701c8e3fa107"
  },
  {
   "metadata": {
    "ExecuteTime": {
     "end_time": "2024-11-07T03:58:39.580004Z",
     "start_time": "2024-11-07T03:58:39.576665Z"
    }
   },
   "cell_type": "code",
   "source": [
    "# Obtener el número total de capas en el encoder\n",
    "num_total_layers = len(list(model.vit.encoder.layer))  # Debería ser 24 para ViT-Large, 12 para ViT-base\n",
    "print(num_total_layers)"
   ],
   "id": "94cb222cd820fbde",
   "outputs": [
    {
     "name": "stdout",
     "output_type": "stream",
     "text": [
      "12\n"
     ]
    }
   ],
   "execution_count": 22
  },
  {
   "metadata": {
    "ExecuteTime": {
     "end_time": "2024-11-07T03:58:40.613386Z",
     "start_time": "2024-11-07T03:58:40.610066Z"
    }
   },
   "cell_type": "code",
   "source": [
    "# Si se descongelan capas\n",
    "if num_layers_to_unfreeze is not None:\n",
    "    # Calcular el índice a partir del cual descongelar\n",
    "    unfreeze_from = num_total_layers - num_layers_to_unfreeze\n",
    "    \n",
    "    # Iterar sobre todas las capas del encoder\n",
    "    for idx, layer in enumerate(model.vit.encoder.layer):\n",
    "        if idx >= unfreeze_from:\n",
    "            # Descongelar esta capa\n",
    "            for param in layer.parameters():\n",
    "                param.requires_grad = True\n",
    "        else:\n",
    "            # Congelar esta capa\n",
    "            for param in layer.parameters():\n",
    "                param.requires_grad = False\n"
   ],
   "id": "7b3a8cb360656483",
   "outputs": [],
   "execution_count": 23
  },
  {
   "metadata": {
    "ExecuteTime": {
     "end_time": "2024-11-07T03:58:42.530452Z",
     "start_time": "2024-11-07T03:58:42.526597Z"
    }
   },
   "cell_type": "code",
   "source": [
    "# Mostrar el número total de parámetros y los entrenables después de descongelar\n",
    "num_params = sum(p.numel() for p in model.parameters())\n",
    "trainable_params = sum(p.numel() for p in model.parameters() if p.requires_grad)\n",
    "print(f\"Después de descongelar las últimas {num_layers_to_unfreeze} capas:\")\n",
    "print(f\"Total de parámetros: {num_params:,}\")\n",
    "print(f\"Parámetros entrenables: {trainable_params:,}\")"
   ],
   "id": "e145df6d86c1cc9",
   "outputs": [
    {
     "name": "stdout",
     "output_type": "stream",
     "text": [
      "Después de descongelar las últimas 7 capas:\n",
      "Total de parámetros: 85,800,963\n",
      "Parámetros entrenables: 49,617,411\n"
     ]
    }
   ],
   "execution_count": 24
  },
  {
   "metadata": {
    "ExecuteTime": {
     "end_time": "2024-11-07T03:58:45.277486Z",
     "start_time": "2024-11-07T03:58:45.274123Z"
    }
   },
   "cell_type": "code",
   "source": [
    "# Revisión de trainable por capa\n",
    "for name, param in model.named_parameters():\n",
    "    status = \"Trainable\" if param.requires_grad else \"Frozen\"\n",
    "    #print(f\"{name}: {status}\")"
   ],
   "id": "f7dfb567949b7bbf",
   "outputs": [],
   "execution_count": 25
  },
  {
   "metadata": {},
   "cell_type": "markdown",
   "source": "## Training",
   "id": "19a3a741baf42170"
  },
  {
   "metadata": {
    "ExecuteTime": {
     "end_time": "2024-11-07T03:58:47.281616Z",
     "start_time": "2024-11-07T03:58:47.246396Z"
    }
   },
   "cell_type": "code",
   "source": [
    "training_args = TrainingArguments(\n",
    "    output_dir=_output,\n",
    "    per_device_train_batch_size=_batch_size,\n",
    "    eval_strategy=\"epoch\",\n",
    "    save_strategy=\"epoch\",\n",
    "    logging_steps=100,\n",
    "    num_train_epochs=_epochs,  # Epochs a entrenar -> Revisar\n",
    "    learning_rate=_learning_rate,\n",
    "    save_total_limit=2,\n",
    "    remove_unused_columns=False,\n",
    "    push_to_hub=False,\n",
    "    report_to='tensorboard',\n",
    "    load_best_model_at_end=True,\n",
    "    metric_for_best_model=\"precision\",  # Métrica para seleccionar el mejor modelo\n",
    "    greater_is_better=True  # True si la métrica debe aumentar (ej., accuracy)\n",
    ")"
   ],
   "id": "541994dbbce332e6",
   "outputs": [],
   "execution_count": 26
  },
  {
   "metadata": {
    "ExecuteTime": {
     "end_time": "2024-11-07T03:58:48.795658Z",
     "start_time": "2024-11-07T03:58:48.793205Z"
    }
   },
   "cell_type": "code",
   "source": [
    "# Crear el callback de early stopping\n",
    "early_stopping_callback = EarlyStoppingCallback(\n",
    "    early_stopping_patience=10,  # Número de epochs sin mejora permitida\n",
    "    early_stopping_threshold=0.0001  # Mejora mínima necesaria\n",
    ")\n"
   ],
   "id": "56f8a560451e5ea3",
   "outputs": [],
   "execution_count": 27
  },
  {
   "metadata": {
    "ExecuteTime": {
     "end_time": "2024-11-07T03:58:51.593353Z",
     "start_time": "2024-11-07T03:58:50.879434Z"
    }
   },
   "cell_type": "code",
   "source": [
    "trainer = Trainer(\n",
    "    model=model,\n",
    "    args=training_args,\n",
    "    data_collator=collate_fn,\n",
    "    compute_metrics=compute_metrics,\n",
    "    train_dataset=processed_dataset[\"train\"],\n",
    "    eval_dataset=processed_dataset[\"validation\"],\n",
    "    tokenizer=processor,\n",
    "    #callbacks=[early_stopping_callback]  # Añadir el callback\n",
    ")"
   ],
   "id": "30f59f8a406a04ef",
   "outputs": [],
   "execution_count": 28
  },
  {
   "metadata": {
    "ExecuteTime": {
     "end_time": "2024-11-07T03:58:52.802014Z",
     "start_time": "2024-11-07T03:58:52.799535Z"
    }
   },
   "cell_type": "code",
   "source": [
    "# Check that MPS is available\n",
    "if not torch.backends.mps.is_available():\n",
    "    if not torch.backends.mps.is_built():\n",
    "        print(\"MPS not available because the current PyTorch install was not \"\n",
    "              \"built with MPS enabled.\")\n",
    "    else:\n",
    "        print(\"MPS not available because the current MacOS version is not 12.3+ \"\n",
    "              \"and/or you do not have an MPS-enabled device on this machine.\")\n",
    "\n",
    "else:\n",
    "    mps_device = torch.device(\"mps\")\n",
    "    print(\"MPS enabled\")"
   ],
   "id": "56a200df21ff907e",
   "outputs": [
    {
     "name": "stdout",
     "output_type": "stream",
     "text": [
      "MPS enabled\n"
     ]
    }
   ],
   "execution_count": 29
  },
  {
   "metadata": {
    "ExecuteTime": {
     "end_time": "2024-11-07T07:39:00.372353Z",
     "start_time": "2024-11-07T03:59:33.505867Z"
    }
   },
   "cell_type": "code",
   "source": "trainer.train()",
   "id": "f3df38c3b841d8a9",
   "outputs": [
    {
     "data": {
      "text/plain": [
       "<IPython.core.display.HTML object>"
      ],
      "text/html": [
       "\n",
       "    <div>\n",
       "      \n",
       "      <progress value='12690' max='12690' style='width:300px; height:20px; vertical-align: middle;'></progress>\n",
       "      [12690/12690 3:39:24, Epoch 30/30]\n",
       "    </div>\n",
       "    <table border=\"1\" class=\"dataframe\">\n",
       "  <thead>\n",
       " <tr style=\"text-align: left;\">\n",
       "      <th>Epoch</th>\n",
       "      <th>Training Loss</th>\n",
       "      <th>Validation Loss</th>\n",
       "      <th>Accuracy</th>\n",
       "      <th>Precision</th>\n",
       "      <th>Recall</th>\n",
       "      <th>F1</th>\n",
       "    </tr>\n",
       "  </thead>\n",
       "  <tbody>\n",
       "    <tr>\n",
       "      <td>1</td>\n",
       "      <td>0.822700</td>\n",
       "      <td>0.797721</td>\n",
       "      <td>0.613333</td>\n",
       "      <td>0.598337</td>\n",
       "      <td>0.618285</td>\n",
       "      <td>0.596488</td>\n",
       "    </tr>\n",
       "    <tr>\n",
       "      <td>2</td>\n",
       "      <td>0.769500</td>\n",
       "      <td>0.770583</td>\n",
       "      <td>0.641333</td>\n",
       "      <td>0.629464</td>\n",
       "      <td>0.645057</td>\n",
       "      <td>0.629190</td>\n",
       "    </tr>\n",
       "    <tr>\n",
       "      <td>3</td>\n",
       "      <td>0.760900</td>\n",
       "      <td>0.798774</td>\n",
       "      <td>0.656000</td>\n",
       "      <td>0.655304</td>\n",
       "      <td>0.663528</td>\n",
       "      <td>0.632631</td>\n",
       "    </tr>\n",
       "    <tr>\n",
       "      <td>4</td>\n",
       "      <td>0.727500</td>\n",
       "      <td>0.730944</td>\n",
       "      <td>0.652000</td>\n",
       "      <td>0.643045</td>\n",
       "      <td>0.655683</td>\n",
       "      <td>0.639077</td>\n",
       "    </tr>\n",
       "    <tr>\n",
       "      <td>5</td>\n",
       "      <td>0.718700</td>\n",
       "      <td>0.737290</td>\n",
       "      <td>0.665333</td>\n",
       "      <td>0.659285</td>\n",
       "      <td>0.667858</td>\n",
       "      <td>0.661526</td>\n",
       "    </tr>\n",
       "    <tr>\n",
       "      <td>6</td>\n",
       "      <td>0.703000</td>\n",
       "      <td>0.726943</td>\n",
       "      <td>0.676000</td>\n",
       "      <td>0.670116</td>\n",
       "      <td>0.678395</td>\n",
       "      <td>0.671334</td>\n",
       "    </tr>\n",
       "    <tr>\n",
       "      <td>7</td>\n",
       "      <td>0.690600</td>\n",
       "      <td>0.713606</td>\n",
       "      <td>0.681333</td>\n",
       "      <td>0.676618</td>\n",
       "      <td>0.684445</td>\n",
       "      <td>0.671493</td>\n",
       "    </tr>\n",
       "    <tr>\n",
       "      <td>8</td>\n",
       "      <td>0.682400</td>\n",
       "      <td>0.662352</td>\n",
       "      <td>0.693333</td>\n",
       "      <td>0.688240</td>\n",
       "      <td>0.696012</td>\n",
       "      <td>0.685276</td>\n",
       "    </tr>\n",
       "    <tr>\n",
       "      <td>9</td>\n",
       "      <td>0.641200</td>\n",
       "      <td>0.686692</td>\n",
       "      <td>0.702667</td>\n",
       "      <td>0.702242</td>\n",
       "      <td>0.704326</td>\n",
       "      <td>0.693251</td>\n",
       "    </tr>\n",
       "    <tr>\n",
       "      <td>10</td>\n",
       "      <td>0.610900</td>\n",
       "      <td>0.724113</td>\n",
       "      <td>0.697333</td>\n",
       "      <td>0.696951</td>\n",
       "      <td>0.701946</td>\n",
       "      <td>0.686638</td>\n",
       "    </tr>\n",
       "    <tr>\n",
       "      <td>11</td>\n",
       "      <td>0.617700</td>\n",
       "      <td>0.706239</td>\n",
       "      <td>0.712000</td>\n",
       "      <td>0.709965</td>\n",
       "      <td>0.714838</td>\n",
       "      <td>0.703254</td>\n",
       "    </tr>\n",
       "    <tr>\n",
       "      <td>12</td>\n",
       "      <td>0.594900</td>\n",
       "      <td>0.777007</td>\n",
       "      <td>0.693333</td>\n",
       "      <td>0.691684</td>\n",
       "      <td>0.698111</td>\n",
       "      <td>0.681212</td>\n",
       "    </tr>\n",
       "    <tr>\n",
       "      <td>13</td>\n",
       "      <td>0.577100</td>\n",
       "      <td>0.697004</td>\n",
       "      <td>0.705333</td>\n",
       "      <td>0.701835</td>\n",
       "      <td>0.706950</td>\n",
       "      <td>0.701033</td>\n",
       "    </tr>\n",
       "    <tr>\n",
       "      <td>14</td>\n",
       "      <td>0.580200</td>\n",
       "      <td>0.740975</td>\n",
       "      <td>0.700000</td>\n",
       "      <td>0.697943</td>\n",
       "      <td>0.703377</td>\n",
       "      <td>0.694019</td>\n",
       "    </tr>\n",
       "    <tr>\n",
       "      <td>15</td>\n",
       "      <td>0.554500</td>\n",
       "      <td>0.741800</td>\n",
       "      <td>0.712000</td>\n",
       "      <td>0.724709</td>\n",
       "      <td>0.711042</td>\n",
       "      <td>0.704979</td>\n",
       "    </tr>\n",
       "    <tr>\n",
       "      <td>16</td>\n",
       "      <td>0.538900</td>\n",
       "      <td>0.711426</td>\n",
       "      <td>0.714667</td>\n",
       "      <td>0.712372</td>\n",
       "      <td>0.716358</td>\n",
       "      <td>0.712698</td>\n",
       "    </tr>\n",
       "    <tr>\n",
       "      <td>17</td>\n",
       "      <td>0.547600</td>\n",
       "      <td>0.776656</td>\n",
       "      <td>0.733333</td>\n",
       "      <td>0.735883</td>\n",
       "      <td>0.737768</td>\n",
       "      <td>0.725367</td>\n",
       "    </tr>\n",
       "    <tr>\n",
       "      <td>18</td>\n",
       "      <td>0.519600</td>\n",
       "      <td>0.770156</td>\n",
       "      <td>0.717333</td>\n",
       "      <td>0.716341</td>\n",
       "      <td>0.721209</td>\n",
       "      <td>0.710655</td>\n",
       "    </tr>\n",
       "    <tr>\n",
       "      <td>19</td>\n",
       "      <td>0.517300</td>\n",
       "      <td>0.882757</td>\n",
       "      <td>0.713333</td>\n",
       "      <td>0.717111</td>\n",
       "      <td>0.717957</td>\n",
       "      <td>0.704116</td>\n",
       "    </tr>\n",
       "    <tr>\n",
       "      <td>20</td>\n",
       "      <td>0.505400</td>\n",
       "      <td>0.857242</td>\n",
       "      <td>0.730667</td>\n",
       "      <td>0.738716</td>\n",
       "      <td>0.733421</td>\n",
       "      <td>0.723743</td>\n",
       "    </tr>\n",
       "    <tr>\n",
       "      <td>21</td>\n",
       "      <td>0.514100</td>\n",
       "      <td>0.758703</td>\n",
       "      <td>0.734667</td>\n",
       "      <td>0.735585</td>\n",
       "      <td>0.737641</td>\n",
       "      <td>0.729375</td>\n",
       "    </tr>\n",
       "    <tr>\n",
       "      <td>22</td>\n",
       "      <td>0.477200</td>\n",
       "      <td>0.885394</td>\n",
       "      <td>0.722667</td>\n",
       "      <td>0.725799</td>\n",
       "      <td>0.728074</td>\n",
       "      <td>0.712477</td>\n",
       "    </tr>\n",
       "    <tr>\n",
       "      <td>23</td>\n",
       "      <td>0.459100</td>\n",
       "      <td>0.871265</td>\n",
       "      <td>0.721333</td>\n",
       "      <td>0.723219</td>\n",
       "      <td>0.726362</td>\n",
       "      <td>0.714279</td>\n",
       "    </tr>\n",
       "    <tr>\n",
       "      <td>24</td>\n",
       "      <td>0.456500</td>\n",
       "      <td>0.874425</td>\n",
       "      <td>0.733333</td>\n",
       "      <td>0.736579</td>\n",
       "      <td>0.737275</td>\n",
       "      <td>0.726951</td>\n",
       "    </tr>\n",
       "    <tr>\n",
       "      <td>25</td>\n",
       "      <td>0.463000</td>\n",
       "      <td>0.847700</td>\n",
       "      <td>0.741333</td>\n",
       "      <td>0.742352</td>\n",
       "      <td>0.744621</td>\n",
       "      <td>0.737053</td>\n",
       "    </tr>\n",
       "    <tr>\n",
       "      <td>26</td>\n",
       "      <td>0.439100</td>\n",
       "      <td>0.837107</td>\n",
       "      <td>0.745333</td>\n",
       "      <td>0.749285</td>\n",
       "      <td>0.749613</td>\n",
       "      <td>0.738817</td>\n",
       "    </tr>\n",
       "    <tr>\n",
       "      <td>27</td>\n",
       "      <td>0.437200</td>\n",
       "      <td>0.886087</td>\n",
       "      <td>0.734667</td>\n",
       "      <td>0.733351</td>\n",
       "      <td>0.738699</td>\n",
       "      <td>0.729449</td>\n",
       "    </tr>\n",
       "    <tr>\n",
       "      <td>28</td>\n",
       "      <td>0.452300</td>\n",
       "      <td>0.859459</td>\n",
       "      <td>0.738667</td>\n",
       "      <td>0.739032</td>\n",
       "      <td>0.742632</td>\n",
       "      <td>0.733561</td>\n",
       "    </tr>\n",
       "    <tr>\n",
       "      <td>29</td>\n",
       "      <td>0.437800</td>\n",
       "      <td>0.854306</td>\n",
       "      <td>0.746667</td>\n",
       "      <td>0.746750</td>\n",
       "      <td>0.750203</td>\n",
       "      <td>0.742045</td>\n",
       "    </tr>\n",
       "    <tr>\n",
       "      <td>30</td>\n",
       "      <td>0.429500</td>\n",
       "      <td>0.863188</td>\n",
       "      <td>0.745333</td>\n",
       "      <td>0.746181</td>\n",
       "      <td>0.749093</td>\n",
       "      <td>0.740404</td>\n",
       "    </tr>\n",
       "  </tbody>\n",
       "</table><p>"
      ]
     },
     "metadata": {},
     "output_type": "display_data"
    },
    {
     "name": "stdout",
     "output_type": "stream",
     "text": [
      "Conteo de etiquetas reales: Counter({np.int64(1): 262, np.int64(2): 248, np.int64(0): 240})\n",
      "Conteo de predicciones: Counter({np.int64(2): 336, np.int64(0): 240, np.int64(1): 174})\n",
      "Precision por clase: {'precision': array([0.60833333, 0.52298851, 0.66369048])} \n",
      "\n",
      "Conteo de etiquetas reales: Counter({np.int64(1): 262, np.int64(2): 248, np.int64(0): 240})\n",
      "Conteo de predicciones: Counter({np.int64(2): 325, np.int64(0): 226, np.int64(1): 199})\n",
      "Precision por clase: {'precision': array([0.63716814, 0.55276382, 0.69846154])} \n",
      "\n",
      "Conteo de etiquetas reales: Counter({np.int64(1): 262, np.int64(2): 248, np.int64(0): 240})\n",
      "Conteo de predicciones: Counter({np.int64(2): 313, np.int64(0): 310, np.int64(1): 127})\n",
      "Precision por clase: {'precision': array([0.59032258, 0.65354331, 0.72204473])} \n",
      "\n",
      "Conteo de etiquetas reales: Counter({np.int64(1): 262, np.int64(2): 248, np.int64(0): 240})\n",
      "Conteo de predicciones: Counter({np.int64(2): 334, np.int64(0): 225, np.int64(1): 191})\n",
      "Precision por clase: {'precision': array([0.64888889, 0.59162304, 0.68862275])} \n",
      "\n",
      "Conteo de etiquetas reales: Counter({np.int64(1): 262, np.int64(2): 248, np.int64(0): 240})\n",
      "Conteo de predicciones: Counter({np.int64(2): 283, np.int64(0): 239, np.int64(1): 228})\n",
      "Precision por clase: {'precision': array([0.64016736, 0.59210526, 0.74558304])} \n",
      "\n",
      "Conteo de etiquetas reales: Counter({np.int64(1): 262, np.int64(2): 248, np.int64(0): 240})\n",
      "Conteo de predicciones: Counter({np.int64(2): 293, np.int64(0): 230, np.int64(1): 227})\n",
      "Precision por clase: {'precision': array([0.66521739, 0.60792952, 0.73720137])} \n",
      "\n",
      "Conteo de etiquetas reales: Counter({np.int64(1): 262, np.int64(2): 248, np.int64(0): 240})\n",
      "Conteo de predicciones: Counter({np.int64(2): 329, np.int64(0): 220, np.int64(1): 201})\n",
      "Precision por clase: {'precision': array([0.69090909, 0.63681592, 0.70212766])} \n",
      "\n",
      "Conteo de etiquetas reales: Counter({np.int64(1): 262, np.int64(2): 248, np.int64(0): 240})\n",
      "Conteo de predicciones: Counter({np.int64(2): 319, np.int64(0): 217, np.int64(1): 214})\n",
      "Precision por clase: {'precision': array([0.70506912, 0.63551402, 0.72413793])} \n",
      "\n",
      "Conteo de etiquetas reales: Counter({np.int64(1): 262, np.int64(2): 248, np.int64(0): 240})\n",
      "Conteo de predicciones: Counter({np.int64(2): 334, np.int64(1): 223, np.int64(0): 193})\n",
      "Precision por clase: {'precision': array([0.74093264, 0.65022422, 0.71556886])} \n",
      "\n",
      "Conteo de etiquetas reales: Counter({np.int64(1): 262, np.int64(2): 248, np.int64(0): 240})\n",
      "Conteo de predicciones: Counter({np.int64(2): 320, np.int64(0): 257, np.int64(1): 173})\n",
      "Precision por clase: {'precision': array([0.67315175, 0.70520231, 0.7125    ])} \n",
      "\n",
      "Conteo de etiquetas reales: Counter({np.int64(1): 262, np.int64(2): 248, np.int64(0): 240})\n",
      "Conteo de predicciones: Counter({np.int64(2): 329, np.int64(0): 216, np.int64(1): 205})\n",
      "Precision por clase: {'precision': array([0.73148148, 0.67804878, 0.72036474])} \n",
      "\n",
      "Conteo de etiquetas reales: Counter({np.int64(1): 262, np.int64(2): 248, np.int64(0): 240})\n",
      "Conteo de predicciones: Counter({np.int64(2): 327, np.int64(0): 252, np.int64(1): 171})\n",
      "Precision por clase: {'precision': array([0.67857143, 0.69005848, 0.70642202])} \n",
      "\n",
      "Conteo de etiquetas reales: Counter({np.int64(1): 262, np.int64(2): 248, np.int64(0): 240})\n",
      "Conteo de predicciones: Counter({np.int64(2): 296, np.int64(1): 227, np.int64(0): 227})\n",
      "Precision por clase: {'precision': array([0.68722467, 0.6784141 , 0.73986486])} \n",
      "\n",
      "Conteo de etiquetas reales: Counter({np.int64(1): 262, np.int64(2): 248, np.int64(0): 240})\n",
      "Conteo de predicciones: Counter({np.int64(2): 307, np.int64(0): 243, np.int64(1): 200})\n",
      "Precision por clase: {'precision': array([0.69547325, 0.685     , 0.71335505])} \n",
      "\n",
      "Conteo de etiquetas reales: Counter({np.int64(1): 262, np.int64(2): 248, np.int64(0): 240})\n",
      "Conteo de predicciones: Counter({np.int64(2): 320, np.int64(1): 268, np.int64(0): 162})\n",
      "Precision por clase: {'precision': array([0.80864198, 0.65298507, 0.7125    ])} \n",
      "\n",
      "Conteo de etiquetas reales: Counter({np.int64(1): 262, np.int64(2): 248, np.int64(0): 240})\n",
      "Conteo de predicciones: Counter({np.int64(2): 282, np.int64(1): 240, np.int64(0): 228})\n",
      "Precision por clase: {'precision': array([0.71929825, 0.6625    , 0.75531915])} \n",
      "\n",
      "Conteo de etiquetas reales: Counter({np.int64(1): 262, np.int64(2): 248, np.int64(0): 240})\n",
      "Conteo de predicciones: Counter({np.int64(2): 311, np.int64(0): 260, np.int64(1): 179})\n",
      "Precision por clase: {'precision': array([0.71153846, 0.75977654, 0.73633441])} \n",
      "\n",
      "Conteo de etiquetas reales: Counter({np.int64(1): 262, np.int64(2): 248, np.int64(0): 240})\n",
      "Conteo de predicciones: Counter({np.int64(2): 310, np.int64(0): 247, np.int64(1): 193})\n",
      "Precision por clase: {'precision': array([0.71659919, 0.70984456, 0.72258065])} \n",
      "\n",
      "Conteo de etiquetas reales: Counter({np.int64(1): 262, np.int64(2): 248, np.int64(0): 240})\n",
      "Conteo de predicciones: Counter({np.int64(2): 323, np.int64(0): 254, np.int64(1): 173})\n",
      "Precision por clase: {'precision': array([0.70866142, 0.73988439, 0.70278638])} \n",
      "\n",
      "Conteo de etiquetas reales: Counter({np.int64(1): 262, np.int64(2): 248, np.int64(0): 240})\n",
      "Conteo de predicciones: Counter({np.int64(2): 343, np.int64(0): 207, np.int64(1): 200})\n",
      "Precision por clase: {'precision': array([0.79227053, 0.73      , 0.69387755])} \n",
      "\n",
      "Conteo de etiquetas reales: Counter({np.int64(1): 262, np.int64(2): 248, np.int64(0): 240})\n",
      "Conteo de predicciones: Counter({np.int64(2): 316, np.int64(0): 228, np.int64(1): 206})\n",
      "Precision por clase: {'precision': array([0.75877193, 0.72330097, 0.72468354])} \n",
      "\n",
      "Conteo de etiquetas reales: Counter({np.int64(1): 262, np.int64(2): 248, np.int64(0): 240})\n",
      "Conteo de predicciones: Counter({np.int64(2): 311, np.int64(0): 272, np.int64(1): 167})\n",
      "Precision por clase: {'precision': array([0.70220588, 0.74850299, 0.7266881 ])} \n",
      "\n",
      "Conteo de etiquetas reales: Counter({np.int64(1): 262, np.int64(2): 248, np.int64(0): 240})\n",
      "Conteo de predicciones: Counter({np.int64(2): 287, np.int64(0): 284, np.int64(1): 179})\n",
      "Precision por clase: {'precision': array([0.68309859, 0.73743017, 0.74912892])} \n",
      "\n",
      "Conteo de etiquetas reales: Counter({np.int64(1): 262, np.int64(2): 248, np.int64(0): 240})\n",
      "Conteo de predicciones: Counter({np.int64(2): 318, np.int64(0): 244, np.int64(1): 188})\n",
      "Precision por clase: {'precision': array([0.74590164, 0.75      , 0.71383648])} \n",
      "\n",
      "Conteo de etiquetas reales: Counter({np.int64(1): 262, np.int64(2): 248, np.int64(0): 240})\n",
      "Conteo de predicciones: Counter({np.int64(2): 305, np.int64(0): 242, np.int64(1): 203})\n",
      "Precision por clase: {'precision': array([0.75206612, 0.74384236, 0.73114754])} \n",
      "\n",
      "Conteo de etiquetas reales: Counter({np.int64(1): 262, np.int64(2): 248, np.int64(0): 240})\n",
      "Conteo de predicciones: Counter({np.int64(2): 314, np.int64(0): 252, np.int64(1): 184})\n",
      "Precision por clase: {'precision': array([0.75      , 0.77173913, 0.72611465])} \n",
      "\n",
      "Conteo de etiquetas reales: Counter({np.int64(1): 262, np.int64(2): 248, np.int64(0): 240})\n",
      "Conteo de predicciones: Counter({np.int64(2): 298, np.int64(0): 254, np.int64(1): 198})\n",
      "Precision por clase: {'precision': array([0.73622047, 0.72222222, 0.74161074])} \n",
      "\n",
      "Conteo de etiquetas reales: Counter({np.int64(1): 262, np.int64(2): 248, np.int64(0): 240})\n",
      "Conteo de predicciones: Counter({np.int64(2): 299, np.int64(0): 256, np.int64(1): 195})\n",
      "Precision por clase: {'precision': array([0.734375  , 0.74358974, 0.73913043])} \n",
      "\n",
      "Conteo de etiquetas reales: Counter({np.int64(1): 262, np.int64(2): 248, np.int64(0): 240})\n",
      "Conteo de predicciones: Counter({np.int64(2): 303, np.int64(0): 245, np.int64(1): 202})\n",
      "Precision por clase: {'precision': array([0.75510204, 0.74257426, 0.74257426])} \n",
      "\n",
      "Conteo de etiquetas reales: Counter({np.int64(1): 262, np.int64(2): 248, np.int64(0): 240})\n",
      "Conteo de predicciones: Counter({np.int64(2): 303, np.int64(0): 250, np.int64(1): 197})\n",
      "Precision por clase: {'precision': array([0.748     , 0.75126904, 0.73927393])} \n",
      "\n"
     ]
    },
    {
     "data": {
      "text/plain": [
       "TrainOutput(global_step=12690, training_loss=0.5788764526751964, metrics={'train_runtime': 13166.6922, 'train_samples_per_second': 30.775, 'train_steps_per_second': 0.964, 'total_flos': 3.1400810544739156e+19, 'train_loss': 0.5788764526751964, 'epoch': 30.0})"
      ]
     },
     "execution_count": 30,
     "metadata": {},
     "output_type": "execute_result"
    }
   ],
   "execution_count": 30
  },
  {
   "metadata": {},
   "cell_type": "code",
   "source": "trainer.save_model()",
   "id": "7fb997a65c2644c1",
   "outputs": [],
   "execution_count": null
  },
  {
   "metadata": {},
   "cell_type": "markdown",
   "source": "### Evaluación del modelo",
   "id": "7a9240869110b2e8"
  },
  {
   "metadata": {
    "ExecuteTime": {
     "end_time": "2024-11-07T08:32:36.955471Z",
     "start_time": "2024-11-07T08:32:22.431409Z"
    }
   },
   "cell_type": "code",
   "source": "trainer.evaluate(processed_dataset['test'])",
   "id": "bca36b8e1d96cbe5",
   "outputs": [
    {
     "data": {
      "text/plain": [
       "<IPython.core.display.HTML object>"
      ],
      "text/html": []
     },
     "metadata": {},
     "output_type": "display_data"
    },
    {
     "name": "stdout",
     "output_type": "stream",
     "text": [
      "Conteo de etiquetas reales: Counter({np.int64(0): 259, np.int64(1): 250, np.int64(2): 242})\n",
      "Conteo de predicciones: Counter({np.int64(2): 317, np.int64(0): 261, np.int64(1): 173})\n",
      "Precision por clase: {'precision': array([0.75095785, 0.76300578, 0.69716088])} \n",
      "\n"
     ]
    },
    {
     "data": {
      "text/plain": [
       "{'eval_loss': 0.9023119211196899,\n",
       " 'eval_accuracy': 0.7310252996005326,\n",
       " 'eval_precision': 0.7370415060112361,\n",
       " 'eval_recall': 0.7326599657508748,\n",
       " 'eval_f1': 0.7228857678140211,\n",
       " 'eval_runtime': 14.5144,\n",
       " 'eval_samples_per_second': 51.742,\n",
       " 'eval_steps_per_second': 6.476,\n",
       " 'epoch': 30.0}"
      ]
     },
     "execution_count": 31,
     "metadata": {},
     "output_type": "execute_result"
    }
   ],
   "execution_count": 31
  },
  {
   "metadata": {},
   "cell_type": "markdown",
   "source": "## Inferencia en conjunto de test ",
   "id": "b0e855e955ca27b7"
  },
  {
   "metadata": {
    "ExecuteTime": {
     "end_time": "2024-11-07T08:33:20.912043Z",
     "start_time": "2024-11-07T08:33:07.860566Z"
    }
   },
   "cell_type": "code",
   "source": [
    "samples = final_dataset['test']\n",
    "processed_samples = samples.with_transform(transforms)\n",
    "predictions = trainer.predict(processed_samples).predictions.argmax(axis=1) # labels predichas"
   ],
   "id": "f37bb4fbf9efd886",
   "outputs": [
    {
     "name": "stdout",
     "output_type": "stream",
     "text": [
      "Conteo de etiquetas reales: Counter({np.int64(0): 259, np.int64(1): 250, np.int64(2): 242})\n",
      "Conteo de predicciones: Counter({np.int64(2): 317, np.int64(0): 261, np.int64(1): 173})\n",
      "Precision por clase: {'precision': array([0.75095785, 0.76300578, 0.69716088])} \n",
      "\n"
     ]
    }
   ],
   "execution_count": 32
  },
  {
   "metadata": {},
   "cell_type": "code",
   "source": "show_predictions(rows=5,cols=5, samples_=samples, predictions_=predictions, id2label_=id2label)",
   "id": "12a188f84c9f3779",
   "outputs": [],
   "execution_count": null
  },
  {
   "metadata": {},
   "cell_type": "markdown",
   "source": "### Matriz de confusión",
   "id": "97916219ffa54a0f"
  },
  {
   "metadata": {
    "ExecuteTime": {
     "end_time": "2024-11-07T08:33:22.912780Z",
     "start_time": "2024-11-07T08:33:20.976684Z"
    }
   },
   "cell_type": "code",
   "source": "confusion_matrix(samples_=samples, predictions_=predictions, class_names=labels)",
   "id": "f6f7fbb54f99d3f6",
   "outputs": [
    {
     "data": {
      "text/plain": [
       "<Figure size 800x600 with 2 Axes>"
      ],
      "image/png": "[encoded data removed]"
     },
     "metadata": {},
     "output_type": "display_data"
    }
   ],
   "execution_count": 33
  },
  {
   "metadata": {},
   "cell_type": "markdown",
   "source": "## Iterar por más epochs ❌",
   "id": "4cb217670e463742"
  },
  {
   "metadata": {},
   "cell_type": "code",
   "source": [
    "trainer.args.num_train_epochs = 30  # Para entrenar hasta la época 20\n",
    "trainer.train(resume_from_checkpoint=_checkpoint)"
   ],
   "id": "6f532223cd642edd",
   "outputs": [],
   "execution_count": null
  },
  {
   "metadata": {},
   "cell_type": "code",
   "source": "trainer.save_model()",
   "id": "81df7794f48301f2",
   "outputs": [],
   "execution_count": null
  },
  {
   "metadata": {},
   "cell_type": "code",
   "source": "trainer.evaluate(processed_dataset['test'])",
   "id": "e34356d41f6d33da",
   "outputs": [],
   "execution_count": null
  },
  {
   "metadata": {},
   "cell_type": "code",
   "source": "confusion_matrix(samples_=samples, predictions_=predictions)",
   "id": "1827c30c0aae817e",
   "outputs": [],
   "execution_count": null
  },
  {
   "metadata": {},
   "cell_type": "code",
   "source": "",
   "id": "139cfc3ed6ac8ff",
   "outputs": [],
   "execution_count": null
  }
 ],
 "metadata": {
  "kernelspec": {
   "display_name": "Python 3",
   "language": "python",
   "name": "python3"
  },
  "language_info": {
   "codemirror_mode": {
    "name": "ipython",
    "version": 2
   },
   "file_extension": ".py",
   "mimetype": "text/x-python",
   "name": "python",
   "nbconvert_exporter": "python",
   "pygments_lexer": "ipython2",
   "version": "2.7.6"
  }
 },
 "nbformat": 4,
 "nbformat_minor": 5
}
