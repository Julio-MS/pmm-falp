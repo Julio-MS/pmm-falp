{
 "cells": [
  {
   "cell_type": "code",
   "execution_count": 1,
   "id": "initial_id",
   "metadata": {
    "collapsed": true,
    "ExecuteTime": {
     "end_time": "2024-09-05T19:32:36.650475Z",
     "start_time": "2024-09-05T19:32:35.418072Z"
    }
   },
   "outputs": [],
   "source": [
    "import numpy as np\n",
    "\n",
    "from Utils import Utils\n",
    "utils = Utils()\n",
    "findings = utils.findings\n",
    "#findings.loc[(findings['finding_categories'] == \"['Mass']\") & (findings['breast_birads'] == 'BI-RADS 5') & (findings['view_position'] == 'CC') & (findings['laterality'] == 'R')]"
   ]
  },
  {
   "cell_type": "code",
   "outputs": [],
   "source": [
    "# 66d5d94402456f664753ec443d077bf9\n",
    "image_id = '66d5d94402456f664753ec443d077bf9'\n",
    "image_path = utils.get_path(image_id)\n",
    "dicom = pydicom.dcmread(image_path)\n",
    "img = dicom.pixel_array\n",
    "\n",
    "# Extraer Window Center y Window Width\n",
    "WC = dicom.WindowCenter\n",
    "WW = dicom.WindowWidth\n",
    "\n",
    "print(f\"Window center: {WC}, Window width: {WW}\")\n",
    "\n",
    "# Aplicar la operación de windowing\n",
    "img_windowed = np.clip((img - (WC - WW / 2)) / WW * 255.0, 0, 255)\n",
    "\n",
    "#img_windowed = apply_voi_lut(img, dicom)\n",
    "\n",
    "# Convertir la imagen a uint8\n",
    "img_windowed = img_windowed.astype(np.uint8)\n",
    "\n",
    "# Coordenadas de la bounding box (en este caso, de ejemplo)\n",
    "# Vértice superior izquierdo\n",
    "x1, y1 = int(ss1.loc[ss1['image_id'] == image_id, 'xmin'].values[0]), int(ss1.loc[ss1['image_id'] == image_id, 'ymin'].values[0])\n",
    "# Vértice inferior derecho\n",
    "x2, y2 = int(ss1.loc[ss1['image_id'] == image_id, 'xmax'].values[0]), int(ss1.loc[ss1['image_id'] == image_id, 'ymax'].values[0])\n",
    "\n",
    "# Dibujar la bounding box en la imagen\n",
    "# cv2.rectangle(image, start_point, end_point, color, thickness)\n",
    "#cv2.rectangle(img_windowed, (x1, y1), (x2, y2), (255, 0, 0), 2)  # Color azul en BGR, grosor 2\n",
    "\n",
    "\n",
    "ymin = 0   # Mínimo valor en la escala de salida\n",
    "ymax = 255 # Máximo valor en la escala de salida\n",
    "\n",
    "# Crear una copia para no modificar la imagen original\n",
    "img_windowed2 = np.zeros_like(img, dtype=np.float32)\n",
    "\n",
    "for i in range(img.shape[0]):\n",
    "    for j in range(img.shape[1]):\n",
    "        x = img[i, j]\n",
    "        if x <= WC - 0.5 - (WW - 1) / 2:\n",
    "            img_windowed2[i, j] = ymin\n",
    "        elif x > WC - 0.5 + (WW - 1) / 2:\n",
    "            img_windowed2[i, j] = ymax\n",
    "        else:\n",
    "            img_windowed2[i, j] = ((x - (WC - 0.5)) / (WW - 1) + 0.5) * (ymax - ymin) + ymin\n",
    "\n",
    "# Convertir la imagen a uint8 para su visualización\n",
    "img_windowed2 = img_windowed2.astype(np.uint8)\n",
    "\n",
    "# Concatenar las imágenes horizontalmente\n",
    "combined_image = np.hstack((img_windowed, img_windowed2))\n",
    "\n",
    "# Mostrar la imagen combinada\n",
    "cv2.imshow('Combined Image', combined_image)\n",
    "cv2.waitKey(0)\n",
    "cv2.destroyAllWindows()"
   ],
   "metadata": {
    "collapsed": false
   },
   "id": "c3062990f1c6dd10",
   "execution_count": null
  },
  {
   "cell_type": "code",
   "outputs": [
    {
     "data": {
      "text/plain": "                               study_id                         series_id  \\\n0      48575a27b7c992427041a82fa750d3fa  26de4993fa6b8ae50a91c8baf49b92b0   \n1      48575a27b7c992427041a82fa750d3fa  26de4993fa6b8ae50a91c8baf49b92b0   \n2      75e8e48933289d70b407379a564f8594  853b70e7e6f39133497909d9ca4c756d   \n3      75e8e48933289d70b407379a564f8594  853b70e7e6f39133497909d9ca4c756d   \n4      c3487424fee1bdd4515b72dc3fd69813  77619c914263eae44e9099f1ce07192c   \n...                                 ...                               ...   \n20481  f2093a752e6b44df5990f5fd38c99dd2  2b1b2b8f48abab9819c0b3d091e152ee   \n20482  b3c8969cd2accfa4dbb2aece1f7158ab  69d7f07ea04572dad5e5aa62fbcfc4b7   \n20483  b3c8969cd2accfa4dbb2aece1f7158ab  69d7f07ea04572dad5e5aa62fbcfc4b7   \n20484  b3c8969cd2accfa4dbb2aece1f7158ab  69d7f07ea04572dad5e5aa62fbcfc4b7   \n20485  b3c8969cd2accfa4dbb2aece1f7158ab  69d7f07ea04572dad5e5aa62fbcfc4b7   \n\n                               image_id laterality view_position  height  \\\n0      4e3a578fe535ea4f5258d3f7f4419db8          R            CC    3518   \n1      dac39351b0f3a8c670b7f8dc88029364          R           MLO    3518   \n2      c83f780904f25eacb44e9030f32c66e1          R            CC    3518   \n3      893528bc38a0362928a89364f1b692fd          R           MLO    3518   \n4      318264c881bf12f2c1efe5f93920cc37          R            CC    3518   \n...                                 ...        ...           ...     ...   \n20481  ea732154d149f619b20070b78060ae65          R            CC    2812   \n20482  4689616c3d0b46fcba7a771107730791          R            CC    3580   \n20483  3c22491bcf1d0b004715c28d80981cdd          L            CC    3580   \n20484  d443b9725e331b8b27589aa725597801          R           MLO    3580   \n20485  45c1239cc36b0e672f0072707fd05c6f          L           MLO    3580   \n\n       width breast_birads breast_density            finding_categories  \\\n0       2800     BI-RADS 4      DENSITY C                      ['Mass']   \n1       2800     BI-RADS 4      DENSITY C                      ['Mass']   \n2       2800     BI-RADS 3      DENSITY C          ['Global Asymmetry']   \n3       2800     BI-RADS 3      DENSITY C          ['Global Asymmetry']   \n4       2800     BI-RADS 4      DENSITY C  ['Architectural Distortion']   \n...      ...           ...            ...                           ...   \n20481   2012     BI-RADS 2      DENSITY C                ['No Finding']   \n20482   2702     BI-RADS 2      DENSITY C                ['No Finding']   \n20483   2702     BI-RADS 2      DENSITY C                ['No Finding']   \n20484   2686     BI-RADS 2      DENSITY C                ['No Finding']   \n20485   2670     BI-RADS 2      DENSITY C                ['No Finding']   \n\n      finding_birads         xmin         ymin         xmax         ymax  \\\n0          BI-RADS 4  2355.139893  1731.640015  2482.979980  1852.750000   \n1          BI-RADS 4  2386.679932  1240.609985  2501.800049  1354.040039   \n2          BI-RADS 3  2279.179932  1166.510010  2704.439941  2184.260010   \n3          BI-RADS 3  1954.270020  1443.640015  2589.760010  2193.810059   \n4          BI-RADS 4  2172.300049  1967.410034  2388.699951  2147.159912   \n...              ...          ...          ...          ...          ...   \n20481            NaN          NaN          NaN          NaN          NaN   \n20482            NaN          NaN          NaN          NaN          NaN   \n20483            NaN          NaN          NaN          NaN          NaN   \n20484            NaN          NaN          NaN          NaN          NaN   \n20485            NaN          NaN          NaN          NaN          NaN   \n\n          split  \n0      training  \n1      training  \n2      training  \n3      training  \n4      training  \n...         ...  \n20481  training  \n20482  training  \n20483  training  \n20484  training  \n20485  training  \n\n[20486 rows x 16 columns]",
      "text/html": "<div>\n<style scoped>\n    .dataframe tbody tr th:only-of-type {\n        vertical-align: middle;\n    }\n\n    .dataframe tbody tr th {\n        vertical-align: top;\n    }\n\n    .dataframe thead th {\n        text-align: right;\n    }\n</style>\n<table border=\"1\" class=\"dataframe\">\n  <thead>\n    <tr style=\"text-align: right;\">\n      <th></th>\n      <th>study_id</th>\n      <th>series_id</th>\n      <th>image_id</th>\n      <th>laterality</th>\n      <th>view_position</th>\n      <th>height</th>\n      <th>width</th>\n      <th>breast_birads</th>\n      <th>breast_density</th>\n      <th>finding_categories</th>\n      <th>finding_birads</th>\n      <th>xmin</th>\n      <th>ymin</th>\n      <th>xmax</th>\n      <th>ymax</th>\n      <th>split</th>\n    </tr>\n  </thead>\n  <tbody>\n    <tr>\n      <th>0</th>\n      <td>48575a27b7c992427041a82fa750d3fa</td>\n      <td>26de4993fa6b8ae50a91c8baf49b92b0</td>\n      <td>4e3a578fe535ea4f5258d3f7f4419db8</td>\n      <td>R</td>\n      <td>CC</td>\n      <td>3518</td>\n      <td>2800</td>\n      <td>BI-RADS 4</td>\n      <td>DENSITY C</td>\n      <td>['Mass']</td>\n      <td>BI-RADS 4</td>\n      <td>2355.139893</td>\n      <td>1731.640015</td>\n      <td>2482.979980</td>\n      <td>1852.750000</td>\n      <td>training</td>\n    </tr>\n    <tr>\n      <th>1</th>\n      <td>48575a27b7c992427041a82fa750d3fa</td>\n      <td>26de4993fa6b8ae50a91c8baf49b92b0</td>\n      <td>dac39351b0f3a8c670b7f8dc88029364</td>\n      <td>R</td>\n      <td>MLO</td>\n      <td>3518</td>\n      <td>2800</td>\n      <td>BI-RADS 4</td>\n      <td>DENSITY C</td>\n      <td>['Mass']</td>\n      <td>BI-RADS 4</td>\n      <td>2386.679932</td>\n      <td>1240.609985</td>\n      <td>2501.800049</td>\n      <td>1354.040039</td>\n      <td>training</td>\n    </tr>\n    <tr>\n      <th>2</th>\n      <td>75e8e48933289d70b407379a564f8594</td>\n      <td>853b70e7e6f39133497909d9ca4c756d</td>\n      <td>c83f780904f25eacb44e9030f32c66e1</td>\n      <td>R</td>\n      <td>CC</td>\n      <td>3518</td>\n      <td>2800</td>\n      <td>BI-RADS 3</td>\n      <td>DENSITY C</td>\n      <td>['Global Asymmetry']</td>\n      <td>BI-RADS 3</td>\n      <td>2279.179932</td>\n      <td>1166.510010</td>\n      <td>2704.439941</td>\n      <td>2184.260010</td>\n      <td>training</td>\n    </tr>\n    <tr>\n      <th>3</th>\n      <td>75e8e48933289d70b407379a564f8594</td>\n      <td>853b70e7e6f39133497909d9ca4c756d</td>\n      <td>893528bc38a0362928a89364f1b692fd</td>\n      <td>R</td>\n      <td>MLO</td>\n      <td>3518</td>\n      <td>2800</td>\n      <td>BI-RADS 3</td>\n      <td>DENSITY C</td>\n      <td>['Global Asymmetry']</td>\n      <td>BI-RADS 3</td>\n      <td>1954.270020</td>\n      <td>1443.640015</td>\n      <td>2589.760010</td>\n      <td>2193.810059</td>\n      <td>training</td>\n    </tr>\n    <tr>\n      <th>4</th>\n      <td>c3487424fee1bdd4515b72dc3fd69813</td>\n      <td>77619c914263eae44e9099f1ce07192c</td>\n      <td>318264c881bf12f2c1efe5f93920cc37</td>\n      <td>R</td>\n      <td>CC</td>\n      <td>3518</td>\n      <td>2800</td>\n      <td>BI-RADS 4</td>\n      <td>DENSITY C</td>\n      <td>['Architectural Distortion']</td>\n      <td>BI-RADS 4</td>\n      <td>2172.300049</td>\n      <td>1967.410034</td>\n      <td>2388.699951</td>\n      <td>2147.159912</td>\n      <td>training</td>\n    </tr>\n    <tr>\n      <th>...</th>\n      <td>...</td>\n      <td>...</td>\n      <td>...</td>\n      <td>...</td>\n      <td>...</td>\n      <td>...</td>\n      <td>...</td>\n      <td>...</td>\n      <td>...</td>\n      <td>...</td>\n      <td>...</td>\n      <td>...</td>\n      <td>...</td>\n      <td>...</td>\n      <td>...</td>\n      <td>...</td>\n    </tr>\n    <tr>\n      <th>20481</th>\n      <td>f2093a752e6b44df5990f5fd38c99dd2</td>\n      <td>2b1b2b8f48abab9819c0b3d091e152ee</td>\n      <td>ea732154d149f619b20070b78060ae65</td>\n      <td>R</td>\n      <td>CC</td>\n      <td>2812</td>\n      <td>2012</td>\n      <td>BI-RADS 2</td>\n      <td>DENSITY C</td>\n      <td>['No Finding']</td>\n      <td>NaN</td>\n      <td>NaN</td>\n      <td>NaN</td>\n      <td>NaN</td>\n      <td>NaN</td>\n      <td>training</td>\n    </tr>\n    <tr>\n      <th>20482</th>\n      <td>b3c8969cd2accfa4dbb2aece1f7158ab</td>\n      <td>69d7f07ea04572dad5e5aa62fbcfc4b7</td>\n      <td>4689616c3d0b46fcba7a771107730791</td>\n      <td>R</td>\n      <td>CC</td>\n      <td>3580</td>\n      <td>2702</td>\n      <td>BI-RADS 2</td>\n      <td>DENSITY C</td>\n      <td>['No Finding']</td>\n      <td>NaN</td>\n      <td>NaN</td>\n      <td>NaN</td>\n      <td>NaN</td>\n      <td>NaN</td>\n      <td>training</td>\n    </tr>\n    <tr>\n      <th>20483</th>\n      <td>b3c8969cd2accfa4dbb2aece1f7158ab</td>\n      <td>69d7f07ea04572dad5e5aa62fbcfc4b7</td>\n      <td>3c22491bcf1d0b004715c28d80981cdd</td>\n      <td>L</td>\n      <td>CC</td>\n      <td>3580</td>\n      <td>2702</td>\n      <td>BI-RADS 2</td>\n      <td>DENSITY C</td>\n      <td>['No Finding']</td>\n      <td>NaN</td>\n      <td>NaN</td>\n      <td>NaN</td>\n      <td>NaN</td>\n      <td>NaN</td>\n      <td>training</td>\n    </tr>\n    <tr>\n      <th>20484</th>\n      <td>b3c8969cd2accfa4dbb2aece1f7158ab</td>\n      <td>69d7f07ea04572dad5e5aa62fbcfc4b7</td>\n      <td>d443b9725e331b8b27589aa725597801</td>\n      <td>R</td>\n      <td>MLO</td>\n      <td>3580</td>\n      <td>2686</td>\n      <td>BI-RADS 2</td>\n      <td>DENSITY C</td>\n      <td>['No Finding']</td>\n      <td>NaN</td>\n      <td>NaN</td>\n      <td>NaN</td>\n      <td>NaN</td>\n      <td>NaN</td>\n      <td>training</td>\n    </tr>\n    <tr>\n      <th>20485</th>\n      <td>b3c8969cd2accfa4dbb2aece1f7158ab</td>\n      <td>69d7f07ea04572dad5e5aa62fbcfc4b7</td>\n      <td>45c1239cc36b0e672f0072707fd05c6f</td>\n      <td>L</td>\n      <td>MLO</td>\n      <td>3580</td>\n      <td>2670</td>\n      <td>BI-RADS 2</td>\n      <td>DENSITY C</td>\n      <td>['No Finding']</td>\n      <td>NaN</td>\n      <td>NaN</td>\n      <td>NaN</td>\n      <td>NaN</td>\n      <td>NaN</td>\n      <td>training</td>\n    </tr>\n  </tbody>\n</table>\n<p>20486 rows × 16 columns</p>\n</div>"
     },
     "execution_count": 9,
     "metadata": {},
     "output_type": "execute_result"
    }
   ],
   "source": [
    "utils.findings"
   ],
   "metadata": {
    "collapsed": false,
    "ExecuteTime": {
     "end_time": "2024-09-05T19:35:46.064477Z",
     "start_time": "2024-09-05T19:35:46.060371Z"
    }
   },
   "id": "a3f7c98dfaacce5a",
   "execution_count": 9
  }
 ],
 "metadata": {
  "kernelspec": {
   "display_name": "Python 3",
   "language": "python",
   "name": "python3"
  },
  "language_info": {
   "codemirror_mode": {
    "name": "ipython",
    "version": 2
   },
   "file_extension": ".py",
   "mimetype": "text/x-python",
   "name": "python",
   "nbconvert_exporter": "python",
   "pygments_lexer": "ipython2",
   "version": "2.7.6"
  }
 },
 "nbformat": 4,
 "nbformat_minor": 5
}
