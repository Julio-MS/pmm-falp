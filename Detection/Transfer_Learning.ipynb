{
 "cells": [
  {
   "cell_type": "code",
   "execution_count": null,
   "id": "initial_id",
   "metadata": {
    "collapsed": true
   },
   "outputs": [],
   "source": [
    "import tensorflow as tf\n",
    "from tensorflow.keras.layers import Conv2D, MaxPooling2D, Dropout, BatchNormalization, ReLU\n",
    "from tensorflow.keras.models import Sequential\n",
    "\n",
    "# Definir el modelo convolucional basado en la estructura que vimos\n",
    "model = Sequential()\n",
    "\n",
    "# Primera capa convolucional (conv1)\n",
    "model.add(Conv2D(32, (3, 3), strides=(2, 2), padding='same', input_shape=(299, 299, 1)))\n",
    "model.add(BatchNormalization())\n",
    "model.add(ReLU())\n",
    "\n",
    "# Segunda capa convolucional (conv1.1)\n",
    "model.add(Conv2D(32, (3, 3), strides=(1, 1), padding='same'))\n",
    "model.add(BatchNormalization())\n",
    "model.add(ReLU())\n",
    "\n",
    "# Tercera capa convolucional (conv1.2)\n",
    "model.add(Conv2D(32, (3, 3), strides=(1, 1), padding='same'))\n",
    "model.add(BatchNormalization())\n",
    "model.add(ReLU())\n",
    "\n",
    "# Primera capa de MaxPooling (pool1)\n",
    "model.add(MaxPooling2D(pool_size=(3, 3), strides=(2, 2), padding='same'))\n",
    "model.add(Dropout(0.1))  # Aplicar dropout\n",
    "\n",
    "# Segunda capa convolucional (conv2.1) (solo una parte como referencia)\n",
    "model.add(Conv2D(64, (3, 3), strides=(1, 1), padding='same'))\n",
    "model.add(BatchNormalization())\n",
    "model.add(ReLU())\n",
    "\n",
    "# Resumen del modelo hasta ahora\n",
    "model.summary()"
   ]
  }
 ],
 "metadata": {
  "kernelspec": {
   "display_name": "Python 3",
   "language": "python",
   "name": "python3"
  },
  "language_info": {
   "codemirror_mode": {
    "name": "ipython",
    "version": 2
   },
   "file_extension": ".py",
   "mimetype": "text/x-python",
   "name": "python",
   "nbconvert_exporter": "python",
   "pygments_lexer": "ipython2",
   "version": "2.7.6"
  }
 },
 "nbformat": 4,
 "nbformat_minor": 5
}
