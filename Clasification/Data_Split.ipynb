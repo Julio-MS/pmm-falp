{
 "cells": [
  {
   "cell_type": "code",
   "execution_count": 5,
   "id": "initial_id",
   "metadata": {
    "collapsed": true,
    "ExecuteTime": {
     "end_time": "2024-09-10T22:13:11.021803Z",
     "start_time": "2024-09-10T22:13:11.017650Z"
    }
   },
   "outputs": [],
   "source": [
    "import pandas as pd\n",
    "import os\n",
    "import shutil"
   ]
  },
  {
   "cell_type": "code",
   "outputs": [
    {
     "data": {
      "text/plain": "                              image_id                          image_name  \\\n0     4e3a578fe535ea4f5258d3f7f4419db8  4e3a578fe535ea4f5258d3f7f4419db8_0   \n1     dac39351b0f3a8c670b7f8dc88029364  dac39351b0f3a8c670b7f8dc88029364_0   \n2     2f944efb1cb9579442df2d7fe6a579b7  2f944efb1cb9579442df2d7fe6a579b7_0   \n3     7385e8cf7b29764525c81de4aa1aebe4  7385e8cf7b29764525c81de4aa1aebe4_0   \n4     5a94dd668eaa9865b907450c37db6ecc  5a94dd668eaa9865b907450c37db6ecc_0   \n...                                ...                                 ...   \n1002  115600671e989b2ffeaac92d19d1f505  115600671e989b2ffeaac92d19d1f505_0   \n1003  9006ed5cd2f901f8e40348246c0f3f3b  9006ed5cd2f901f8e40348246c0f3f3b_0   \n1004  293f56aa2f38c52c70ed4a92e2f01b46  293f56aa2f38c52c70ed4a92e2f01b46_0   \n1005  293f56aa2f38c52c70ed4a92e2f01b46  293f56aa2f38c52c70ed4a92e2f01b46_1   \n1006  002460132586dc0c7b88a59dce6e77bd  002460132586dc0c7b88a59dce6e77bd_0   \n\n     class finding_birads breast_birads         xmin         ymin  \\\n0     Mass      BI-RADS 4     BI-RADS 4  2355.139893  1731.640015   \n1     Mass      BI-RADS 4     BI-RADS 4  2386.679932  1240.609985   \n2     Mass      BI-RADS 3     BI-RADS 3   142.899002  2171.810059   \n3     Mass      BI-RADS 3     BI-RADS 3   142.899002  2045.170044   \n4     Mass      BI-RADS 3     BI-RADS 3  1988.060059  1793.739990   \n...    ...            ...           ...          ...          ...   \n1002  Mass      BI-RADS 3     BI-RADS 3  2395.959961  1484.069946   \n1003  Mass      BI-RADS 3     BI-RADS 3  2291.669922  1472.119995   \n1004  Mass      BI-RADS 3     BI-RADS 3   170.511002  2175.439941   \n1005  Mass      BI-RADS 3     BI-RADS 3   136.395996  1973.189941   \n1006  Mass      BI-RADS 3     BI-RADS 3    28.018999  1893.699951   \n\n             xmax         ymax     split  \n0     2482.979980  1852.750000  training  \n1     2501.800049  1354.040039  training  \n2      439.584991  2403.370117      test  \n3      417.876007  2265.879883      test  \n4     2139.909912  1967.459961  training  \n...           ...          ...       ...  \n1002  2519.709961  1602.640015  training  \n1003  2434.729980  1593.229980  training  \n1004   444.641998  2381.340088  training  \n1005   269.197998  2108.429932  training  \n1006   327.032990  2192.719971  training  \n\n[1007 rows x 10 columns]",
      "text/html": "<div>\n<style scoped>\n    .dataframe tbody tr th:only-of-type {\n        vertical-align: middle;\n    }\n\n    .dataframe tbody tr th {\n        vertical-align: top;\n    }\n\n    .dataframe thead th {\n        text-align: right;\n    }\n</style>\n<table border=\"1\" class=\"dataframe\">\n  <thead>\n    <tr style=\"text-align: right;\">\n      <th></th>\n      <th>image_id</th>\n      <th>image_name</th>\n      <th>class</th>\n      <th>finding_birads</th>\n      <th>breast_birads</th>\n      <th>xmin</th>\n      <th>ymin</th>\n      <th>xmax</th>\n      <th>ymax</th>\n      <th>split</th>\n    </tr>\n  </thead>\n  <tbody>\n    <tr>\n      <th>0</th>\n      <td>4e3a578fe535ea4f5258d3f7f4419db8</td>\n      <td>4e3a578fe535ea4f5258d3f7f4419db8_0</td>\n      <td>Mass</td>\n      <td>BI-RADS 4</td>\n      <td>BI-RADS 4</td>\n      <td>2355.139893</td>\n      <td>1731.640015</td>\n      <td>2482.979980</td>\n      <td>1852.750000</td>\n      <td>training</td>\n    </tr>\n    <tr>\n      <th>1</th>\n      <td>dac39351b0f3a8c670b7f8dc88029364</td>\n      <td>dac39351b0f3a8c670b7f8dc88029364_0</td>\n      <td>Mass</td>\n      <td>BI-RADS 4</td>\n      <td>BI-RADS 4</td>\n      <td>2386.679932</td>\n      <td>1240.609985</td>\n      <td>2501.800049</td>\n      <td>1354.040039</td>\n      <td>training</td>\n    </tr>\n    <tr>\n      <th>2</th>\n      <td>2f944efb1cb9579442df2d7fe6a579b7</td>\n      <td>2f944efb1cb9579442df2d7fe6a579b7_0</td>\n      <td>Mass</td>\n      <td>BI-RADS 3</td>\n      <td>BI-RADS 3</td>\n      <td>142.899002</td>\n      <td>2171.810059</td>\n      <td>439.584991</td>\n      <td>2403.370117</td>\n      <td>test</td>\n    </tr>\n    <tr>\n      <th>3</th>\n      <td>7385e8cf7b29764525c81de4aa1aebe4</td>\n      <td>7385e8cf7b29764525c81de4aa1aebe4_0</td>\n      <td>Mass</td>\n      <td>BI-RADS 3</td>\n      <td>BI-RADS 3</td>\n      <td>142.899002</td>\n      <td>2045.170044</td>\n      <td>417.876007</td>\n      <td>2265.879883</td>\n      <td>test</td>\n    </tr>\n    <tr>\n      <th>4</th>\n      <td>5a94dd668eaa9865b907450c37db6ecc</td>\n      <td>5a94dd668eaa9865b907450c37db6ecc_0</td>\n      <td>Mass</td>\n      <td>BI-RADS 3</td>\n      <td>BI-RADS 3</td>\n      <td>1988.060059</td>\n      <td>1793.739990</td>\n      <td>2139.909912</td>\n      <td>1967.459961</td>\n      <td>training</td>\n    </tr>\n    <tr>\n      <th>...</th>\n      <td>...</td>\n      <td>...</td>\n      <td>...</td>\n      <td>...</td>\n      <td>...</td>\n      <td>...</td>\n      <td>...</td>\n      <td>...</td>\n      <td>...</td>\n      <td>...</td>\n    </tr>\n    <tr>\n      <th>1002</th>\n      <td>115600671e989b2ffeaac92d19d1f505</td>\n      <td>115600671e989b2ffeaac92d19d1f505_0</td>\n      <td>Mass</td>\n      <td>BI-RADS 3</td>\n      <td>BI-RADS 3</td>\n      <td>2395.959961</td>\n      <td>1484.069946</td>\n      <td>2519.709961</td>\n      <td>1602.640015</td>\n      <td>training</td>\n    </tr>\n    <tr>\n      <th>1003</th>\n      <td>9006ed5cd2f901f8e40348246c0f3f3b</td>\n      <td>9006ed5cd2f901f8e40348246c0f3f3b_0</td>\n      <td>Mass</td>\n      <td>BI-RADS 3</td>\n      <td>BI-RADS 3</td>\n      <td>2291.669922</td>\n      <td>1472.119995</td>\n      <td>2434.729980</td>\n      <td>1593.229980</td>\n      <td>training</td>\n    </tr>\n    <tr>\n      <th>1004</th>\n      <td>293f56aa2f38c52c70ed4a92e2f01b46</td>\n      <td>293f56aa2f38c52c70ed4a92e2f01b46_0</td>\n      <td>Mass</td>\n      <td>BI-RADS 3</td>\n      <td>BI-RADS 3</td>\n      <td>170.511002</td>\n      <td>2175.439941</td>\n      <td>444.641998</td>\n      <td>2381.340088</td>\n      <td>training</td>\n    </tr>\n    <tr>\n      <th>1005</th>\n      <td>293f56aa2f38c52c70ed4a92e2f01b46</td>\n      <td>293f56aa2f38c52c70ed4a92e2f01b46_1</td>\n      <td>Mass</td>\n      <td>BI-RADS 3</td>\n      <td>BI-RADS 3</td>\n      <td>136.395996</td>\n      <td>1973.189941</td>\n      <td>269.197998</td>\n      <td>2108.429932</td>\n      <td>training</td>\n    </tr>\n    <tr>\n      <th>1006</th>\n      <td>002460132586dc0c7b88a59dce6e77bd</td>\n      <td>002460132586dc0c7b88a59dce6e77bd_0</td>\n      <td>Mass</td>\n      <td>BI-RADS 3</td>\n      <td>BI-RADS 3</td>\n      <td>28.018999</td>\n      <td>1893.699951</td>\n      <td>327.032990</td>\n      <td>2192.719971</td>\n      <td>training</td>\n    </tr>\n  </tbody>\n</table>\n<p>1007 rows × 10 columns</p>\n</div>"
     },
     "execution_count": 3,
     "metadata": {},
     "output_type": "execute_result"
    }
   ],
   "source": [
    "ss1 = pd. read_csv('/Users/julio/Documentos-Local/data/VinDr-Mammo/subsets/ss1/ss1.csv')\n",
    "ss1"
   ],
   "metadata": {
    "collapsed": false,
    "ExecuteTime": {
     "end_time": "2024-09-10T22:05:15.745601Z",
     "start_time": "2024-09-10T22:05:15.721770Z"
    }
   },
   "id": "9d5ed4308ab16554",
   "execution_count": 3
  },
  {
   "cell_type": "code",
   "outputs": [
    {
     "data": {
      "text/plain": "split\ntraining    622\ntest        142\nName: count, dtype: int64"
     },
     "execution_count": 24,
     "metadata": {},
     "output_type": "execute_result"
    }
   ],
   "source": [
    "ss1.loc[ss1['class'] == 'Mass', 'split'].value_counts()"
   ],
   "metadata": {
    "collapsed": false,
    "ExecuteTime": {
     "end_time": "2024-09-10T22:42:04.911924Z",
     "start_time": "2024-09-10T22:42:04.905575Z"
    }
   },
   "id": "50b71ec367dcf0a",
   "execution_count": 24
  },
  {
   "cell_type": "code",
   "outputs": [],
   "source": [
    "for image in ss1.itertuples():\n",
    "    split = image[10]\n",
    "    cat = image[3]\n",
    "    name = image[2]\n",
    "    destination_dir = f'/Users/julio/Documentos-Local/data/VinDr-Mammo/subsets/ss1/{split}/{cat}'\n",
    "    file_path = f'/Users/julio/Documentos-Local/data/VinDr-Mammo/subsets/ss1/{split}'\n",
    "    file_path = os.path.join(file_path, name + '.png')\n",
    "    shutil.move(file_path, destination_dir)"
   ],
   "metadata": {
    "collapsed": false,
    "ExecuteTime": {
     "end_time": "2024-09-10T22:41:35.019444Z",
     "start_time": "2024-09-10T22:41:34.912823Z"
    }
   },
   "id": "2cc6aba09a7a3a44",
   "execution_count": 23
  }
 ],
 "metadata": {
  "kernelspec": {
   "display_name": "Python 3",
   "language": "python",
   "name": "python3"
  },
  "language_info": {
   "codemirror_mode": {
    "name": "ipython",
    "version": 2
   },
   "file_extension": ".py",
   "mimetype": "text/x-python",
   "name": "python",
   "nbconvert_exporter": "python",
   "pygments_lexer": "ipython2",
   "version": "2.7.6"
  }
 },
 "nbformat": 4,
 "nbformat_minor": 5
}
