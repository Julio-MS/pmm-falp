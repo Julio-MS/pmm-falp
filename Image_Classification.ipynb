{
 "cells": [
  {
   "cell_type": "code",
   "execution_count": 69,
   "id": "initial_id",
   "metadata": {
    "collapsed": true,
    "ExecuteTime": {
     "end_time": "2024-09-02T02:38:05.111356Z",
     "start_time": "2024-09-02T02:38:05.107243Z"
    }
   },
   "outputs": [],
   "source": [
    "import pandas as pd\n",
    "import ast\n",
    "from Utils import Utils\n",
    "utils = Utils()\n",
    "findings = utils.findings"
   ]
  },
  {
   "cell_type": "code",
   "outputs": [],
   "source": [
    "interest = utils.findings.loc[\n",
    "    (utils.findings['finding_categories'] == \"['Suspicious Calcification']\") |\n",
    "    (utils.findings['finding_categories'] == \"['Mass']\")\n",
    "].copy()"
   ],
   "metadata": {
    "collapsed": false,
    "ExecuteTime": {
     "end_time": "2024-09-02T02:51:37.347204Z",
     "start_time": "2024-09-02T02:51:37.342034Z"
    }
   },
   "id": "174c942023613229",
   "execution_count": 77
  },
  {
   "cell_type": "code",
   "outputs": [
    {
     "data": {
      "text/plain": "                              study_id                         series_id  \\\n0     48575a27b7c992427041a82fa750d3fa  26de4993fa6b8ae50a91c8baf49b92b0   \n1     48575a27b7c992427041a82fa750d3fa  26de4993fa6b8ae50a91c8baf49b92b0   \n6     5683854eafabc34f6d854000d2ac6c2d  4ac33111294b83d43537cb8604b0808c   \n7     5683854eafabc34f6d854000d2ac6c2d  4ac33111294b83d43537cb8604b0808c   \n10    89524e5f372d9aff8ed43b4ef29c1435  0838a0b906894e0cc06c993426a2d143   \n...                                ...                               ...   \n2246  b8acac150be7f949f78dc631a3851f8b  f351166fe105bea6f090e38f41bc844c   \n2247  b8acac150be7f949f78dc631a3851f8b  f351166fe105bea6f090e38f41bc844c   \n2249  b8acac150be7f949f78dc631a3851f8b  f351166fe105bea6f090e38f41bc844c   \n2250  b8acac150be7f949f78dc631a3851f8b  f351166fe105bea6f090e38f41bc844c   \n2251  b8acac150be7f949f78dc631a3851f8b  f351166fe105bea6f090e38f41bc844c   \n\n                              image_id laterality view_position  height  \\\n0     4e3a578fe535ea4f5258d3f7f4419db8          R            CC    3518   \n1     dac39351b0f3a8c670b7f8dc88029364          R           MLO    3518   \n6     2f944efb1cb9579442df2d7fe6a579b7          L            CC    3518   \n7     7385e8cf7b29764525c81de4aa1aebe4          L           MLO    3518   \n10    5a94dd668eaa9865b907450c37db6ecc          R            CC    3518   \n...                                ...        ...           ...     ...   \n2246  dbe631b24f8759c7f7022513582c39ba          R            CC    3580   \n2247  dbe631b24f8759c7f7022513582c39ba          R            CC    3580   \n2249  bdf1539e07e60cfcb5e7833f5b63fa86          R           MLO    3580   \n2250  bdf1539e07e60cfcb5e7833f5b63fa86          R           MLO    3580   \n2251  bdf1539e07e60cfcb5e7833f5b63fa86          R           MLO    3580   \n\n      width breast_birads breast_density finding_categories finding_birads  \\\n0      2800     BI-RADS 4      DENSITY C           ['Mass']      BI-RADS 4   \n1      2800     BI-RADS 4      DENSITY C           ['Mass']      BI-RADS 4   \n6      2800     BI-RADS 3      DENSITY C           ['Mass']      BI-RADS 3   \n7      2800     BI-RADS 3      DENSITY C           ['Mass']      BI-RADS 3   \n10     2800     BI-RADS 3      DENSITY C           ['Mass']      BI-RADS 3   \n...     ...           ...            ...                ...            ...   \n2246   2609     BI-RADS 4      DENSITY C           ['Mass']      BI-RADS 4   \n2247   2609     BI-RADS 4      DENSITY C           ['Mass']      BI-RADS 4   \n2249   2706     BI-RADS 4      DENSITY C           ['Mass']      BI-RADS 4   \n2250   2706     BI-RADS 4      DENSITY C           ['Mass']      BI-RADS 4   \n2251   2706     BI-RADS 4      DENSITY C           ['Mass']      BI-RADS 4   \n\n             xmin         ymin         xmax         ymax     split  \n0     2355.139893  1731.640015  2482.979980  1852.750000  training  \n1     2386.679932  1240.609985  2501.800049  1354.040039  training  \n6      142.899002  2171.810059   439.584991  2403.370117      test  \n7      142.899002  2045.170044   417.876007  2265.879883      test  \n10    1988.060059  1793.739990  2139.909912  1967.459961  training  \n...           ...          ...          ...          ...       ...  \n2246  2173.879883  1673.750000  2333.729980  1825.109985      test  \n2247  2336.560059  1458.719971  2519.040039  1612.920044      test  \n2249  1959.930054  1535.310059  2110.709961  1707.640015      test  \n2250  1734.920044  2052.899902  2061.189941  2421.520020      test  \n2251  1993.109985  2288.360107  2200.810059  2441.879883      test  \n\n[1525 rows x 16 columns]",
      "text/html": "<div>\n<style scoped>\n    .dataframe tbody tr th:only-of-type {\n        vertical-align: middle;\n    }\n\n    .dataframe tbody tr th {\n        vertical-align: top;\n    }\n\n    .dataframe thead th {\n        text-align: right;\n    }\n</style>\n<table border=\"1\" class=\"dataframe\">\n  <thead>\n    <tr style=\"text-align: right;\">\n      <th></th>\n      <th>study_id</th>\n      <th>series_id</th>\n      <th>image_id</th>\n      <th>laterality</th>\n      <th>view_position</th>\n      <th>height</th>\n      <th>width</th>\n      <th>breast_birads</th>\n      <th>breast_density</th>\n      <th>finding_categories</th>\n      <th>finding_birads</th>\n      <th>xmin</th>\n      <th>ymin</th>\n      <th>xmax</th>\n      <th>ymax</th>\n      <th>split</th>\n    </tr>\n  </thead>\n  <tbody>\n    <tr>\n      <th>0</th>\n      <td>48575a27b7c992427041a82fa750d3fa</td>\n      <td>26de4993fa6b8ae50a91c8baf49b92b0</td>\n      <td>4e3a578fe535ea4f5258d3f7f4419db8</td>\n      <td>R</td>\n      <td>CC</td>\n      <td>3518</td>\n      <td>2800</td>\n      <td>BI-RADS 4</td>\n      <td>DENSITY C</td>\n      <td>['Mass']</td>\n      <td>BI-RADS 4</td>\n      <td>2355.139893</td>\n      <td>1731.640015</td>\n      <td>2482.979980</td>\n      <td>1852.750000</td>\n      <td>training</td>\n    </tr>\n    <tr>\n      <th>1</th>\n      <td>48575a27b7c992427041a82fa750d3fa</td>\n      <td>26de4993fa6b8ae50a91c8baf49b92b0</td>\n      <td>dac39351b0f3a8c670b7f8dc88029364</td>\n      <td>R</td>\n      <td>MLO</td>\n      <td>3518</td>\n      <td>2800</td>\n      <td>BI-RADS 4</td>\n      <td>DENSITY C</td>\n      <td>['Mass']</td>\n      <td>BI-RADS 4</td>\n      <td>2386.679932</td>\n      <td>1240.609985</td>\n      <td>2501.800049</td>\n      <td>1354.040039</td>\n      <td>training</td>\n    </tr>\n    <tr>\n      <th>6</th>\n      <td>5683854eafabc34f6d854000d2ac6c2d</td>\n      <td>4ac33111294b83d43537cb8604b0808c</td>\n      <td>2f944efb1cb9579442df2d7fe6a579b7</td>\n      <td>L</td>\n      <td>CC</td>\n      <td>3518</td>\n      <td>2800</td>\n      <td>BI-RADS 3</td>\n      <td>DENSITY C</td>\n      <td>['Mass']</td>\n      <td>BI-RADS 3</td>\n      <td>142.899002</td>\n      <td>2171.810059</td>\n      <td>439.584991</td>\n      <td>2403.370117</td>\n      <td>test</td>\n    </tr>\n    <tr>\n      <th>7</th>\n      <td>5683854eafabc34f6d854000d2ac6c2d</td>\n      <td>4ac33111294b83d43537cb8604b0808c</td>\n      <td>7385e8cf7b29764525c81de4aa1aebe4</td>\n      <td>L</td>\n      <td>MLO</td>\n      <td>3518</td>\n      <td>2800</td>\n      <td>BI-RADS 3</td>\n      <td>DENSITY C</td>\n      <td>['Mass']</td>\n      <td>BI-RADS 3</td>\n      <td>142.899002</td>\n      <td>2045.170044</td>\n      <td>417.876007</td>\n      <td>2265.879883</td>\n      <td>test</td>\n    </tr>\n    <tr>\n      <th>10</th>\n      <td>89524e5f372d9aff8ed43b4ef29c1435</td>\n      <td>0838a0b906894e0cc06c993426a2d143</td>\n      <td>5a94dd668eaa9865b907450c37db6ecc</td>\n      <td>R</td>\n      <td>CC</td>\n      <td>3518</td>\n      <td>2800</td>\n      <td>BI-RADS 3</td>\n      <td>DENSITY C</td>\n      <td>['Mass']</td>\n      <td>BI-RADS 3</td>\n      <td>1988.060059</td>\n      <td>1793.739990</td>\n      <td>2139.909912</td>\n      <td>1967.459961</td>\n      <td>training</td>\n    </tr>\n    <tr>\n      <th>...</th>\n      <td>...</td>\n      <td>...</td>\n      <td>...</td>\n      <td>...</td>\n      <td>...</td>\n      <td>...</td>\n      <td>...</td>\n      <td>...</td>\n      <td>...</td>\n      <td>...</td>\n      <td>...</td>\n      <td>...</td>\n      <td>...</td>\n      <td>...</td>\n      <td>...</td>\n      <td>...</td>\n    </tr>\n    <tr>\n      <th>2246</th>\n      <td>b8acac150be7f949f78dc631a3851f8b</td>\n      <td>f351166fe105bea6f090e38f41bc844c</td>\n      <td>dbe631b24f8759c7f7022513582c39ba</td>\n      <td>R</td>\n      <td>CC</td>\n      <td>3580</td>\n      <td>2609</td>\n      <td>BI-RADS 4</td>\n      <td>DENSITY C</td>\n      <td>['Mass']</td>\n      <td>BI-RADS 4</td>\n      <td>2173.879883</td>\n      <td>1673.750000</td>\n      <td>2333.729980</td>\n      <td>1825.109985</td>\n      <td>test</td>\n    </tr>\n    <tr>\n      <th>2247</th>\n      <td>b8acac150be7f949f78dc631a3851f8b</td>\n      <td>f351166fe105bea6f090e38f41bc844c</td>\n      <td>dbe631b24f8759c7f7022513582c39ba</td>\n      <td>R</td>\n      <td>CC</td>\n      <td>3580</td>\n      <td>2609</td>\n      <td>BI-RADS 4</td>\n      <td>DENSITY C</td>\n      <td>['Mass']</td>\n      <td>BI-RADS 4</td>\n      <td>2336.560059</td>\n      <td>1458.719971</td>\n      <td>2519.040039</td>\n      <td>1612.920044</td>\n      <td>test</td>\n    </tr>\n    <tr>\n      <th>2249</th>\n      <td>b8acac150be7f949f78dc631a3851f8b</td>\n      <td>f351166fe105bea6f090e38f41bc844c</td>\n      <td>bdf1539e07e60cfcb5e7833f5b63fa86</td>\n      <td>R</td>\n      <td>MLO</td>\n      <td>3580</td>\n      <td>2706</td>\n      <td>BI-RADS 4</td>\n      <td>DENSITY C</td>\n      <td>['Mass']</td>\n      <td>BI-RADS 4</td>\n      <td>1959.930054</td>\n      <td>1535.310059</td>\n      <td>2110.709961</td>\n      <td>1707.640015</td>\n      <td>test</td>\n    </tr>\n    <tr>\n      <th>2250</th>\n      <td>b8acac150be7f949f78dc631a3851f8b</td>\n      <td>f351166fe105bea6f090e38f41bc844c</td>\n      <td>bdf1539e07e60cfcb5e7833f5b63fa86</td>\n      <td>R</td>\n      <td>MLO</td>\n      <td>3580</td>\n      <td>2706</td>\n      <td>BI-RADS 4</td>\n      <td>DENSITY C</td>\n      <td>['Mass']</td>\n      <td>BI-RADS 4</td>\n      <td>1734.920044</td>\n      <td>2052.899902</td>\n      <td>2061.189941</td>\n      <td>2421.520020</td>\n      <td>test</td>\n    </tr>\n    <tr>\n      <th>2251</th>\n      <td>b8acac150be7f949f78dc631a3851f8b</td>\n      <td>f351166fe105bea6f090e38f41bc844c</td>\n      <td>bdf1539e07e60cfcb5e7833f5b63fa86</td>\n      <td>R</td>\n      <td>MLO</td>\n      <td>3580</td>\n      <td>2706</td>\n      <td>BI-RADS 4</td>\n      <td>DENSITY C</td>\n      <td>['Mass']</td>\n      <td>BI-RADS 4</td>\n      <td>1993.109985</td>\n      <td>2288.360107</td>\n      <td>2200.810059</td>\n      <td>2441.879883</td>\n      <td>test</td>\n    </tr>\n  </tbody>\n</table>\n<p>1525 rows × 16 columns</p>\n</div>"
     },
     "execution_count": 83,
     "metadata": {},
     "output_type": "execute_result"
    }
   ],
   "source": [
    "interest#['finding_categories'].unique()"
   ],
   "metadata": {
    "collapsed": false,
    "ExecuteTime": {
     "end_time": "2024-09-02T02:56:13.617618Z",
     "start_time": "2024-09-02T02:56:13.615656Z"
    }
   },
   "id": "d7b49038b22b0c2e",
   "execution_count": 83
  },
  {
   "cell_type": "code",
   "outputs": [
    {
     "data": {
      "text/plain": "array(['4e3a578fe535ea4f5258d3f7f4419db8',\n       'dac39351b0f3a8c670b7f8dc88029364',\n       '2f944efb1cb9579442df2d7fe6a579b7', ...,\n       '9d88128064cdbc7d426f36da953cebbb',\n       'dbe631b24f8759c7f7022513582c39ba',\n       'bdf1539e07e60cfcb5e7833f5b63fa86'], dtype=object)"
     },
     "execution_count": 54,
     "metadata": {},
     "output_type": "execute_result"
    }
   ],
   "source": [
    "interest['image_id'].unique()"
   ],
   "metadata": {
    "collapsed": false,
    "ExecuteTime": {
     "end_time": "2024-09-02T02:23:47.481Z",
     "start_time": "2024-09-02T02:23:47.472587Z"
    }
   },
   "id": "fdf193cb867143df",
   "execution_count": 54
  },
  {
   "cell_type": "code",
   "outputs": [],
   "source": [
    "unique_id = pd.DataFrame(data=interest['image_id'].unique().copy(), columns=['image_id'])\n",
    "for image_id in unique_id.iterrows():\n",
    "    group = utils.get_group(image_id[1].values[0])\n",
    "    if group != 'G3':\n",
    "        unique_id.drop(image_id[0], inplace=True)"
   ],
   "metadata": {
    "collapsed": false,
    "ExecuteTime": {
     "end_time": "2024-09-02T02:20:21.940952Z",
     "start_time": "2024-09-02T02:20:20.945643Z"
    }
   },
   "id": "2c026b029d15fa35",
   "execution_count": 45
  },
  {
   "cell_type": "code",
   "outputs": [
    {
     "data": {
      "text/plain": "                             image_id\n0    4e3a578fe535ea4f5258d3f7f4419db8\n1    dac39351b0f3a8c670b7f8dc88029364\n2    2f944efb1cb9579442df2d7fe6a579b7\n3    7385e8cf7b29764525c81de4aa1aebe4\n4    5a94dd668eaa9865b907450c37db6ecc\n..                                ...\n887  98d192022b9699c10cb56f9c7487b5f9\n888  115600671e989b2ffeaac92d19d1f505\n889  9006ed5cd2f901f8e40348246c0f3f3b\n890  293f56aa2f38c52c70ed4a92e2f01b46\n891  002460132586dc0c7b88a59dce6e77bd\n\n[892 rows x 1 columns]",
      "text/html": "<div>\n<style scoped>\n    .dataframe tbody tr th:only-of-type {\n        vertical-align: middle;\n    }\n\n    .dataframe tbody tr th {\n        vertical-align: top;\n    }\n\n    .dataframe thead th {\n        text-align: right;\n    }\n</style>\n<table border=\"1\" class=\"dataframe\">\n  <thead>\n    <tr style=\"text-align: right;\">\n      <th></th>\n      <th>image_id</th>\n    </tr>\n  </thead>\n  <tbody>\n    <tr>\n      <th>0</th>\n      <td>4e3a578fe535ea4f5258d3f7f4419db8</td>\n    </tr>\n    <tr>\n      <th>1</th>\n      <td>dac39351b0f3a8c670b7f8dc88029364</td>\n    </tr>\n    <tr>\n      <th>2</th>\n      <td>2f944efb1cb9579442df2d7fe6a579b7</td>\n    </tr>\n    <tr>\n      <th>3</th>\n      <td>7385e8cf7b29764525c81de4aa1aebe4</td>\n    </tr>\n    <tr>\n      <th>4</th>\n      <td>5a94dd668eaa9865b907450c37db6ecc</td>\n    </tr>\n    <tr>\n      <th>...</th>\n      <td>...</td>\n    </tr>\n    <tr>\n      <th>887</th>\n      <td>98d192022b9699c10cb56f9c7487b5f9</td>\n    </tr>\n    <tr>\n      <th>888</th>\n      <td>115600671e989b2ffeaac92d19d1f505</td>\n    </tr>\n    <tr>\n      <th>889</th>\n      <td>9006ed5cd2f901f8e40348246c0f3f3b</td>\n    </tr>\n    <tr>\n      <th>890</th>\n      <td>293f56aa2f38c52c70ed4a92e2f01b46</td>\n    </tr>\n    <tr>\n      <th>891</th>\n      <td>002460132586dc0c7b88a59dce6e77bd</td>\n    </tr>\n  </tbody>\n</table>\n<p>892 rows × 1 columns</p>\n</div>"
     },
     "execution_count": 72,
     "metadata": {},
     "output_type": "execute_result"
    }
   ],
   "source": [
    "unique_id"
   ],
   "metadata": {
    "collapsed": false,
    "ExecuteTime": {
     "end_time": "2024-09-02T02:44:59.975555Z",
     "start_time": "2024-09-02T02:44:59.969407Z"
    }
   },
   "id": "231cd25f85cb534f",
   "execution_count": 72
  },
  {
   "cell_type": "code",
   "outputs": [],
   "source": [
    "ss1 = pd.DataFrame(columns=[\n",
    "    \"image_id\", \"image_name\", \"class\", \"finding_birads\", \"breast_birads\", \n",
    "    \"xmin\", \"ymin\", \"xmax\", \"ymax\", \"split\"\n",
    "])\n",
    "\n",
    "rows = []\n",
    "for index, image_id in unique_id.iterrows():\n",
    "    current_values = interest.loc[findings['image_id'] == image_id.iloc[0]]\n",
    "    for index2, data in current_values.iterrows():\n",
    "        rows.append(\n",
    "            {\n",
    "                \"image_id\": data['image_id'], \n",
    "                \"image_name\": f\"{data['image_id']}_{index2}\",\n",
    "                \"class\": ast.literal_eval(data[\"finding_categories\"])[0], \n",
    "                \"finding_birads\": data['finding_birads'], \n",
    "                \"breast_birads\": data['breast_birads'], \n",
    "                \"xmin\": data['xmin'], \n",
    "                \"ymin\": data['ymin'], \n",
    "                \"xmax\": data['xmax'], \n",
    "                \"ymax\": data['ymax'], \n",
    "                \"split\": data['split']\n",
    "            }\n",
    "        )\n",
    "        \n",
    "ss1 = pd.DataFrame(rows)\n",
    "        "
   ],
   "metadata": {
    "collapsed": false,
    "ExecuteTime": {
     "end_time": "2024-09-02T02:56:02.843977Z",
     "start_time": "2024-09-02T02:56:02.055218Z"
    }
   },
   "id": "c42417722480db9f",
   "execution_count": 81
  },
  {
   "cell_type": "code",
   "outputs": [
    {
     "data": {
      "text/plain": "split\ntraining    815\ntest        192\nName: count, dtype: int64"
     },
     "execution_count": 90,
     "metadata": {},
     "output_type": "execute_result"
    }
   ],
   "source": [
    "ss1.split.value_counts()"
   ],
   "metadata": {
    "collapsed": false,
    "ExecuteTime": {
     "end_time": "2024-09-02T02:58:17.871336Z",
     "start_time": "2024-09-02T02:58:17.865658Z"
    }
   },
   "id": "78c9da4baacaec35",
   "execution_count": 90
  },
  {
   "cell_type": "code",
   "outputs": [],
   "source": [
    "ss1.to_csv(\"ss1.csv\", index=False)"
   ],
   "metadata": {
    "collapsed": false,
    "ExecuteTime": {
     "end_time": "2024-09-02T02:59:35.354525Z",
     "start_time": "2024-09-02T02:59:35.342845Z"
    }
   },
   "id": "53493f7d214e9a45",
   "execution_count": 92
  }
 ],
 "metadata": {
  "kernelspec": {
   "display_name": "Python 3",
   "language": "python",
   "name": "python3"
  },
  "language_info": {
   "codemirror_mode": {
    "name": "ipython",
    "version": 2
   },
   "file_extension": ".py",
   "mimetype": "text/x-python",
   "name": "python",
   "nbconvert_exporter": "python",
   "pygments_lexer": "ipython2",
   "version": "2.7.6"
  }
 },
 "nbformat": 4,
 "nbformat_minor": 5
}
